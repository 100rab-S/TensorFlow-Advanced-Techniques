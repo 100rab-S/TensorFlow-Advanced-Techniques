{
  "nbformat": 4,
  "nbformat_minor": 0,
  "metadata": {
    "colab": {
      "name": "C1W4_Assignment.ipynb",
      "provenance": [],
      "collapsed_sections": [],
      "include_colab_link": true
    },
    "kernelspec": {
      "display_name": "Python 3",
      "language": "python",
      "name": "python3"
    },
    "language_info": {
      "codemirror_mode": {
        "name": "ipython",
        "version": 3
      },
      "file_extension": ".py",
      "mimetype": "text/x-python",
      "name": "python",
      "nbconvert_exporter": "python",
      "pygments_lexer": "ipython3",
      "version": "3.7.6"
    }
  },
  "cells": [
    {
      "cell_type": "markdown",
      "metadata": {
        "id": "view-in-github",
        "colab_type": "text"
      },
      "source": [
        "<a href=\"https://colab.research.google.com/github/100rab-S/TensorFlow-Advanced-Techniques/blob/main/C1W4_Assignment.ipynb\" target=\"_parent\"><img src=\"https://colab.research.google.com/assets/colab-badge.svg\" alt=\"Open In Colab\"/></a>"
      ]
    },
    {
      "cell_type": "markdown",
      "metadata": {
        "id": "GC7zSrbOWiz0"
      },
      "source": [
        "# Week 4 Assignment: Create a VGG network"
      ]
    },
    {
      "cell_type": "markdown",
      "metadata": {
        "id": "BjwJZm8kim3q"
      },
      "source": [
        "In this exercise, you will build a class that implements a [VGG network](https://towardsdatascience.com/vgg-neural-networks-the-next-step-after-alexnet-3f91fa9ffe2c) that can be trained to classify images. The model will look something like this:\n",
        "\n",
        "![image.png](data:image/png;base64,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)\n",
        "\n",
        "It is primarily made up of a series of Conv2D layers followed by a softmax activated layers to classify the image. As you can see, this will be a handful and the code will look huge if you specify each layer individually. As shown in the lectures, you can instead use model subclassing to build complex architectures. You can encapsulate repeating parts of a network then reuse that code when building the final model. You will get to practice that in this exercise. Let's get started!"
      ]
    },
    {
      "cell_type": "code",
      "metadata": {
        "colab": {
          "base_uri": "https://localhost:8080/",
          "height": 333
        },
        "id": "Z01I5nj0NAOu",
        "outputId": "a4ad7817-22cc-4e5e-e0bb-f38892a32276"
      },
      "source": [
        "import tensorflow as tf\n",
        "import tensorflow_datasets as tfds\n",
        "import utils"
      ],
      "execution_count": 1,
      "outputs": [
        {
          "output_type": "error",
          "ename": "ModuleNotFoundError",
          "evalue": "ignored",
          "traceback": [
            "\u001b[0;31m---------------------------------------------------------------------------\u001b[0m",
            "\u001b[0;31mModuleNotFoundError\u001b[0m                       Traceback (most recent call last)",
            "\u001b[0;32m<ipython-input-1-b067cb0bea2a>\u001b[0m in \u001b[0;36m<module>\u001b[0;34m()\u001b[0m\n\u001b[1;32m      1\u001b[0m \u001b[0;32mimport\u001b[0m \u001b[0mtensorflow\u001b[0m \u001b[0;32mas\u001b[0m \u001b[0mtf\u001b[0m\u001b[0;34m\u001b[0m\u001b[0;34m\u001b[0m\u001b[0m\n\u001b[1;32m      2\u001b[0m \u001b[0;32mimport\u001b[0m \u001b[0mtensorflow_datasets\u001b[0m \u001b[0;32mas\u001b[0m \u001b[0mtfds\u001b[0m\u001b[0;34m\u001b[0m\u001b[0;34m\u001b[0m\u001b[0m\n\u001b[0;32m----> 3\u001b[0;31m \u001b[0;32mimport\u001b[0m \u001b[0mutils\u001b[0m\u001b[0;34m\u001b[0m\u001b[0;34m\u001b[0m\u001b[0m\n\u001b[0m",
            "\u001b[0;31mModuleNotFoundError\u001b[0m: No module named 'utils'",
            "",
            "\u001b[0;31m---------------------------------------------------------------------------\u001b[0;32m\nNOTE: If your import is failing due to a missing package, you can\nmanually install dependencies using either !pip or !apt.\n\nTo view examples of installing some common dependencies, click the\n\"Open Examples\" button below.\n\u001b[0;31m---------------------------------------------------------------------------\u001b[0m\n"
          ]
        }
      ]
    },
    {
      "cell_type": "markdown",
      "metadata": {
        "id": "oObbTSwYim3u"
      },
      "source": [
        "## Create named-variables dynamically\n",
        "\n",
        "In this assignment, you will see the use of the Python function `vars()`.  This will allow you to use a for loop to define and set multiple variables with a similar name, such as var1, var2, var3.  \n",
        "\n",
        "Please go through the following examples to get familiar with `vars()`, as you will use it when building the VGG model.\n",
        "- You'll start by defining a class `MyClass`\n",
        "- It contains one variable `var1`.  \n",
        "- Create an object of type `MyClass`."
      ]
    },
    {
      "cell_type": "code",
      "metadata": {
        "id": "WKjEn8OPim3w"
      },
      "source": [
        "# Define a small class MyClass\n",
        "class MyClass:\n",
        "    def __init__(self):\n",
        "        # One class variable 'a' is set to 1\n",
        "        self.var1 = 1\n",
        "\n",
        "# Create an object of type MyClass()\n",
        "my_obj = MyClass()"
      ],
      "execution_count": null,
      "outputs": []
    },
    {
      "cell_type": "markdown",
      "metadata": {
        "id": "y4RpJyaJim30"
      },
      "source": [
        "Python classes have an attribute called `__dict__`.\n",
        "- `__dict__` is a Python dictionary that contains the object's instance variables and values as key value pairs."
      ]
    },
    {
      "cell_type": "code",
      "metadata": {
        "id": "KHfFm6clim31",
        "outputId": "e287098f-818f-42d0-fea4-1587f2a4e401"
      },
      "source": [
        "my_obj.__dict__"
      ],
      "execution_count": null,
      "outputs": [
        {
          "output_type": "execute_result",
          "data": {
            "text/plain": [
              "{'var1': 1}"
            ]
          },
          "metadata": {
            "tags": []
          },
          "execution_count": 3
        }
      ]
    },
    {
      "cell_type": "markdown",
      "metadata": {
        "id": "5gtilSdcim34"
      },
      "source": [
        "If you call `vars()` and pass in an object, it will call the object's `__dict__` attribute, which is a Python dictionary containing the object's instance variables and their values as ke"
      ]
    },
    {
      "cell_type": "code",
      "metadata": {
        "id": "_lWH6dh_im35",
        "outputId": "3e55738e-5b7b-41ee-f931-562969eccfc9"
      },
      "source": [
        "vars(my_obj)"
      ],
      "execution_count": null,
      "outputs": [
        {
          "output_type": "execute_result",
          "data": {
            "text/plain": [
              "{'var1': 1}"
            ]
          },
          "metadata": {
            "tags": []
          },
          "execution_count": 4
        }
      ]
    },
    {
      "cell_type": "markdown",
      "metadata": {
        "id": "N75Us0o_im36"
      },
      "source": [
        "You may be familiar with adding new variable like this:"
      ]
    },
    {
      "cell_type": "code",
      "metadata": {
        "id": "R5xsQH5gim37",
        "outputId": "ea947342-938c-4f50-80ab-32787b715433"
      },
      "source": [
        "# Add a new instance variable and give it a value\n",
        "my_obj.var2 = 2\n",
        "\n",
        "# Calls vars() again to see the object's instance variables\n",
        "vars(my_obj)"
      ],
      "execution_count": null,
      "outputs": [
        {
          "output_type": "execute_result",
          "data": {
            "text/plain": [
              "{'var1': 1, 'var2': 2}"
            ]
          },
          "metadata": {
            "tags": []
          },
          "execution_count": 5
        }
      ]
    },
    {
      "cell_type": "markdown",
      "metadata": {
        "id": "q8A4S4XBim38"
      },
      "source": [
        "Here is another way that you can add an instance variable to an object, using `vars()`.\n",
        "- Retrieve the Python dictionary `__dict__` of the object using vars(my_obj).\n",
        "- Modify this `__dict__` dictionary using square bracket notation and passing in the variable's name as a string: `['var3'] = 3`"
      ]
    },
    {
      "cell_type": "code",
      "metadata": {
        "id": "x4gODzJpim38",
        "outputId": "2bd45dd8-609f-40d0-a07c-b1226d1baa0f"
      },
      "source": [
        "# Call vars, passing in the object.  Then access the __dict__ dictionary using square brackets\n",
        "vars(my_obj)['var3'] = 3\n",
        "\n",
        "# Call vars() to see the object's instance variables\n",
        "vars(my_obj)"
      ],
      "execution_count": null,
      "outputs": [
        {
          "output_type": "execute_result",
          "data": {
            "text/plain": [
              "{'var1': 1, 'var2': 2, 'var3': 3}"
            ]
          },
          "metadata": {
            "tags": []
          },
          "execution_count": 6
        }
      ]
    },
    {
      "cell_type": "markdown",
      "metadata": {
        "id": "j5JP-gs8im39"
      },
      "source": [
        "#### Why this is helpful!\n",
        "You may be wondering why you would need another way to access an object's instance variables.  \n",
        "- Notice that when using `vars()`, you can now pass in the name of the variable `var3` as a string.\n",
        "- What if you plan to use several variables that are similarly named (`var4`, `var5` ... `var9`) and wanted a convenient way to access them by incrementing a number?\n",
        "\n",
        "Try this!"
      ]
    },
    {
      "cell_type": "code",
      "metadata": {
        "id": "42A4gJgIim3-",
        "outputId": "b61d323f-7c47-4a59-ca7a-a30b187dbc72"
      },
      "source": [
        "# Use a for loop to increment the index 'i'\n",
        "for i in range(4,10):\n",
        "    # Format a string that is var\n",
        "    vars(my_obj)[f'var{i}'] = 0\n",
        "    \n",
        "# View the object's instance variables!\n",
        "vars(my_obj)"
      ],
      "execution_count": null,
      "outputs": [
        {
          "output_type": "execute_result",
          "data": {
            "text/plain": [
              "{'var1': 1,\n",
              " 'var2': 2,\n",
              " 'var3': 3,\n",
              " 'var4': 0,\n",
              " 'var5': 0,\n",
              " 'var6': 0,\n",
              " 'var7': 0,\n",
              " 'var8': 0,\n",
              " 'var9': 0}"
            ]
          },
          "metadata": {
            "tags": []
          },
          "execution_count": 7
        }
      ]
    },
    {
      "cell_type": "markdown",
      "metadata": {
        "id": "O0RFIXI4im3_"
      },
      "source": [
        "There are couple equivalent ways in Python to format a string.  Here are two of those ways:\n",
        "- f-string: f\"var{i}\"\n",
        "- .format: \"var{}\".format(i)"
      ]
    },
    {
      "cell_type": "code",
      "metadata": {
        "id": "EXtqdyvkim4A",
        "outputId": "1d281a3d-c48c-437a-f1d9-6a2ff3879ddc"
      },
      "source": [
        "# Format a string using f-string notation\n",
        "i=1\n",
        "print(f\"var{i}\")\n",
        "\n",
        "# Format a string using .format notation\n",
        "i=2\n",
        "print(\"var{}\".format(i))"
      ],
      "execution_count": null,
      "outputs": [
        {
          "output_type": "stream",
          "text": [
            "var1\n",
            "var2\n"
          ],
          "name": "stdout"
        }
      ]
    },
    {
      "cell_type": "markdown",
      "metadata": {
        "id": "PkKb7Zwmim4B"
      },
      "source": [
        "You can access the variables of a class inside the class definition using `vars(self)`"
      ]
    },
    {
      "cell_type": "code",
      "metadata": {
        "id": "umjqrvO3im4C",
        "outputId": "bc478bc3-1c97-4bee-a531-87e8c9a8e597"
      },
      "source": [
        "# Define a small class MyClass\n",
        "class MyClass:\n",
        "    def __init__(self):\n",
        "        # Use vars(self) to access the class's dictionary of variables\n",
        "        vars(self)['var1'] = 1\n",
        "\n",
        "# Create an object of type MyClass()\n",
        "my_obj = MyClass()\n",
        "vars(my_obj)"
      ],
      "execution_count": null,
      "outputs": [
        {
          "output_type": "execute_result",
          "data": {
            "text/plain": [
              "{'var1': 1}"
            ]
          },
          "metadata": {
            "tags": []
          },
          "execution_count": 9
        }
      ]
    },
    {
      "cell_type": "markdown",
      "metadata": {
        "id": "950W01Gwim4E"
      },
      "source": [
        "You'll see this in the upcoming code.  Now you'll start building the VGG network!"
      ]
    },
    {
      "cell_type": "markdown",
      "metadata": {
        "id": "k1T1UMw5YAkp"
      },
      "source": [
        "## Create a generic VGG block (TODO)\n",
        "\n",
        "The VGG Network has blocks of layers, where each block has a varied number of layers.\n",
        "- In order to create blocks of layers that have a customizable number of conv2D layers, you'll define a class `Block`, which can generate a customizable block of layers \n",
        "\n",
        "\n",
        "### `__init__`\n",
        "In the constructor `__init__`, store the conv2D parameters and also define the number of conv2D layers using the parameters passed into `__init__`.\n",
        "- Store the filters, kernel_size, and repetitions as class variables so that they can be used later in the `call` function.\n",
        "- Using a for loop, define a number of Conv2D [Conv2D](https://keras.io/api/layers/convolution_layers/convolution2d/) layers, based on the number of `repetitions` desired for this block.\n",
        "    - You can define each conv2D layer using `vars` and string formatting to create conv2D_0, conv2D_1, conv2D_3 etc.\n",
        "    - Set these four parameters of Conv2D:\n",
        "        - filters\n",
        "        - kernel_size\n",
        "        - activation: set this to 'relu'\n",
        "        - padding: set this to 'same' (default pading is 'valid').\n",
        "        \n",
        "- Define the [MaxPool2D](https://keras.io/api/layers/pooling_layers/max_pooling2d/) layer that follows these Conv2D layers. \n",
        "    - Set the following parameters for MaxPool2D:\n",
        "        - pool_size: this will be a tuple with two values.\n",
        "        - strides: this will also be a tuple with two values.\n",
        "\n",
        "### `call`\n",
        "In `call`, you will connect the layers together.\n",
        "- The 0-th conv2D layer, `conv2D_0`, immediately follows the `inputs`.\n",
        "- For conv2D layers 1,2 and onward, you can use a for loop to connect conv2D_1 to conv2D_0, and connect conv2D_2 to conv2D_1, and so on.\n",
        "- After connecting all of the conv2D_i layers, add connect the max_pool layer and return the max_pool layer."
      ]
    },
    {
      "cell_type": "code",
      "metadata": {
        "deletable": false,
        "id": "WGJGaxVjM00W",
        "nbgrader": {
          "cell_type": "code",
          "checksum": "7f19295d8925e1d2e60eefd42a6b4dd8",
          "grade": false,
          "grade_id": "cell-1449db9892707876",
          "locked": false,
          "schema_version": 3,
          "solution": true,
          "task": false
        }
      },
      "source": [
        "# Please uncomment all lines in this cell and replace those marked with `# YOUR CODE HERE`.\n",
        "# You can select all lines in this code cell with Ctrl+A (Windows/Linux) or Cmd+A (Mac), then press Ctrl+/ (Windows/Linux) or Cmd+/ (Mac) to uncomment.\n",
        "\n",
        "\n",
        "\n",
        "class Block(tf.keras.Model):\n",
        "    def __init__(self, filters, kernel_size, repetitions, pool_size=2, strides=2):\n",
        "        super(Block, self).__init__()\n",
        "        self.filters = filters\n",
        "        self.kernel_size = kernel_size\n",
        "        self.repetitions = repetitions\n",
        "        self.activation = 'relu'\n",
        "        \n",
        "        # Define a conv2D_0, conv2D_1, etc based on the number of repetitions\n",
        "        for i in range(self.repetitions):\n",
        "            \n",
        "            # Define a Conv2D layer, specifying filters, kernel_size, activation and padding.\n",
        "            vars(self)[f'conv2D_{i}'] = tf.keras.layers.Conv2D(self.filters, self.kernel_size, activation = self.activation,\n",
        "                                                              padding = 'same')\n",
        "        \n",
        "        # Define the max pool layer that will be added after the Conv2D blocks\n",
        "        self.max_pool = tf.keras.layers.MaxPooling2D(pool_size = pool_size, strides = strides)\n",
        "  \n",
        "    def call(self, inputs):\n",
        "        # access the class's conv2D_0 layer\n",
        "        conv2D_0 = vars(self)['conv2D_0']\n",
        "        \n",
        "        # Connect the conv2D_0 layer to inputs\n",
        "        x = conv2D_0(inputs)\n",
        "\n",
        "        # for the remaining conv2D_i layers from 1 to `repetitions` they will be connected to the previous layer\n",
        "        for i in range(1, self.repetitions):\n",
        "            # access conv2D_i by formatting the integer `i`. (hint: check how these were saved using `vars()` earlier)\n",
        "            conv2D_i = vars(self)[f'conv2D_{i}']\n",
        "            \n",
        "            # Use the conv2D_i and connect it to the previous layer\n",
        "            x = conv2D_i(x)\n",
        "\n",
        "        # Finally, add the max_pool layer\n",
        "        max_pool = self.max_pool(x)\n",
        "        \n",
        "        return max_pool"
      ],
      "execution_count": 2,
      "outputs": []
    },
    {
      "cell_type": "markdown",
      "metadata": {
        "id": "peM2GP6uYT0U"
      },
      "source": [
        "## Create the Custom VGG network (TODO)\n",
        "This model stack has a series of VGG blocks, which can be created using the `Block` class that you defined earlier.\n",
        "\n",
        "### `__init__`\n",
        "- Recall that the `__init__` constructor of `Block` takes several function parameters, \n",
        "    - filters, kernel_size, repetitions: you'll set these.\n",
        "    - kernel_size and strides: you can use the default values.\n",
        "- For blocks a through e, build the blocks according to the following specifications:\n",
        "- block_a: 64  filters, kernel_size 3, repetitions 2\n",
        "- block_b: 128 filters, kernel_size 3, repetitions 2\n",
        "- block_c: 256 filters, kernel_size 3, repetitions 3\n",
        "- block_d: 512 filters, kernel_size 3, repetitions 3\n",
        "- block_e: 512 filters, kernel_size 3, repetitions 3\n",
        "\n",
        "After block 'e', add the following layers:\n",
        "- flatten: use [Flatten](https://keras.io/api/layers/reshaping_layers/flatten/).\n",
        "- fc: create a fully connected layer using [Dense](https://keras.io/api/layers/core_layers/dense/).  Give this 256 units, and a `'relu'` activation.\n",
        "- classifier: create the classifier using a Dense layer.  The number of units equals the number of classes.  For multi-class classification, use a `'softmax'` activation.\n",
        "\n",
        "### `call`\n",
        "Connect these layers together using the functional API syntax:\n",
        "- inputs\n",
        "- block_a\n",
        "- block_b\n",
        "- block_c\n",
        "- block_d\n",
        "- block_e\n",
        "- flatten\n",
        "- fc\n",
        "- classifier\n",
        "\n",
        "Return the classifier layer."
      ]
    },
    {
      "cell_type": "code",
      "metadata": {
        "deletable": false,
        "id": "yD-paeGiNGvz",
        "nbgrader": {
          "cell_type": "code",
          "checksum": "523346a38f53bc31e080114e98e8eca6",
          "grade": false,
          "grade_id": "cell-d9e90af0898eb47f",
          "locked": false,
          "schema_version": 3,
          "solution": true,
          "task": false
        }
      },
      "source": [
        "# Please uncomment all lines in this cell and replace those marked with `# YOUR CODE HERE`.\n",
        "# You can select all lines in this code cell with Ctrl+A (Windows/Linux) or Cmd+A (Mac), then press Ctrl+/ (Windows/Linux) or Cmd+/ (Mac) to uncomment.\n",
        "\n",
        "\n",
        "\n",
        "class MyVGG(tf.keras.Model):\n",
        "\n",
        "    def __init__(self, num_classes):\n",
        "        super(MyVGG, self).__init__()\n",
        "\n",
        "        # Creating blocks of VGG with the following \n",
        "        # (filters, kernel_size, repetitions) configurations\n",
        "        self.block_a = Block(filters = 64, kernel_size = 3, repetitions = 2)\n",
        "        self.block_b = Block(filters = 128, kernel_size = 3, repetitions = 2)\n",
        "        self.block_c = Block(filters = 256, kernel_size = 3, repetitions = 3)\n",
        "        self.block_d = Block(filters = 512, kernel_size = 3, repetitions = 3)\n",
        "        self.block_e = Block(filters = 512, kernel_size = 3, repetitions = 3)\n",
        "\n",
        "        # Classification head\n",
        "        # Define a Flatten layer\n",
        "        self.flatten = tf.keras.layers.Flatten()\n",
        "        # Create a Dense layer with 256 units and ReLU as the activation function\n",
        "        self.fc = tf.keras.layers.Dense(256, activation = 'relu')\n",
        "        # Finally add the softmax classifier using a Dense layer\n",
        "        self.classifier = tf.keras.layers.Dense(num_classes, activation = 'softmax')\n",
        "\n",
        "    def call(self, inputs):\n",
        "        # Chain all the layers one after the other\n",
        "        x = self.block_a(inputs)\n",
        "        x = self.block_b(x)\n",
        "        x = self.block_c(x)\n",
        "        x = self.block_d(x)\n",
        "        x = self.block_e(x)\n",
        "        x = self.flatten(x)\n",
        "        x = self.fc(x)\n",
        "        x = self.classifier(x)\n",
        "        return x"
      ],
      "execution_count": 4,
      "outputs": []
    },
    {
      "cell_type": "markdown",
      "metadata": {
        "id": "PSj3GXSxim4O"
      },
      "source": [
        "### Load data and train the VGG network (Optional)\n",
        "\n",
        "If you passed all tests above, then you've successfully built the model for your image classifier. Congratulations! The next steps in the pipeline will be loading the dataset and training your VGG network.\n",
        "\n",
        "- The code is shown below but it is only for reference and is **not required to complete the assignment**.\n",
        "- You can submit your work before starting the training.\n",
        "\n",
        "We did not enable an accelerator in this lab environment so training will run slow. If you want to make it quicker, one way is to download your notebook (`File -> Download As -> Notebook`), then upload to [Colab](https://colab.research.google.com). From there, you can use a GPU runtime (`Runtime -> Change Runtime type`) prior to running the cells. Just make sure to comment out the imports and calls to `utils.py` so you don't get `File Not Found` errors. Again, this part is only for reference and is not required for grading. For this lab, we will only grade how you built your model using subclassing. You will get to training and evaluating your models in the next courses of this Specialization."
      ]
    },
    {
      "cell_type": "code",
      "metadata": {
        "id": "MaF763OKNJxU"
      },
      "source": [
        "dataset = tfds.load('cats_vs_dogs', split=tfds.Split.TRAIN, data_dir='data/')\n",
        "\n",
        "# Initialize VGG with the number of classes \n",
        "vgg = MyVGG(num_classes=2)\n",
        "\n",
        "# Compile with losses and metrics\n",
        "vgg.compile(optimizer='adam', loss='sparse_categorical_crossentropy', metrics=['accuracy'])\n",
        "\n",
        "# Define preprocessing function\n",
        "def preprocess(features):\n",
        "    # Resize and normalize\n",
        "    image = tf.image.resize(features['image'], (224, 224))\n",
        "    return tf.cast(image, tf.float32) / 255., features['label']\n",
        "\n",
        "# Apply transformations to dataset\n",
        "dataset = dataset.map(preprocess).batch(32)\n",
        "\n",
        "# Train the custom VGG model\n",
        "vgg.fit(dataset, epochs=10)"
      ],
      "execution_count": null,
      "outputs": []
    }
  ]
}