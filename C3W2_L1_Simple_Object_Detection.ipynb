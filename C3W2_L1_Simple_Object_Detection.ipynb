{
  "nbformat": 4,
  "nbformat_minor": 0,
  "metadata": {
    "accelerator": "GPU",
    "colab": {
      "name": "C3W2_L1_Simple_Object_Detection.ipynb",
      "provenance": [],
      "collapsed_sections": [],
      "include_colab_link": true
    },
    "kernelspec": {
      "display_name": "Python 3",
      "language": "python",
      "name": "python3"
    },
    "language_info": {
      "codemirror_mode": {
        "name": "ipython",
        "version": 3
      },
      "file_extension": ".py",
      "mimetype": "text/x-python",
      "name": "python",
      "nbconvert_exporter": "python",
      "pygments_lexer": "ipython3",
      "version": "3.7.4"
    }
  },
  "cells": [
    {
      "cell_type": "markdown",
      "metadata": {
        "id": "view-in-github",
        "colab_type": "text"
      },
      "source": [
        "<a href=\"https://colab.research.google.com/github/100rab-S/TensorFlow-Advanced-Techniques/blob/main/C3W2_L1_Simple_Object_Detection.ipynb\" target=\"_parent\"><img src=\"https://colab.research.google.com/assets/colab-badge.svg\" alt=\"Open In Colab\"/></a>"
      ]
    },
    {
      "cell_type": "markdown",
      "metadata": {
        "id": "mmANPR2jhCR6"
      },
      "source": [
        "# Simple Object Detection in Tensorflow\n",
        "\n",
        "This lab will walk you through how to use object detection models available in [Tensorflow Hub](https://www.tensorflow.org/hub). In the following sections, you will:\n",
        "\n",
        "* explore the Tensorflow Hub for object detection models\n",
        "* load the models in your workspace\n",
        "* preprocess an image for inference \n",
        "* run inference on the models and inspect the output\n",
        "\n",
        "Let's get started!"
      ]
    },
    {
      "cell_type": "markdown",
      "metadata": {
        "id": "8DkMLuGDhCR6"
      },
      "source": [
        "## Imports"
      ]
    },
    {
      "cell_type": "code",
      "metadata": {
        "id": "OEoRKdmByrb0"
      },
      "source": [
        "import tensorflow as tf\n",
        "import tensorflow_hub as hub\n",
        "from PIL import Image\n",
        "from PIL import ImageOps\n",
        "import tempfile\n",
        "from six.moves.urllib.request import urlopen\n",
        "from six import BytesIO"
      ],
      "execution_count": 1,
      "outputs": []
    },
    {
      "cell_type": "markdown",
      "metadata": {
        "id": "nb8MBgTOhCR6"
      },
      "source": [
        "### Download the model from Tensorflow Hub\n",
        "\n",
        "Tensorflow Hub is a repository of trained machine learning models which you can reuse in your own projects. \n",
        "- You can see the domains covered [here](https://tfhub.dev/) and its subcategories. \n",
        "- For this lab, you will want to look at the [image object detection subcategory](https://tfhub.dev/s?module-type=image-object-detection). \n",
        "- You can select a model to see more information about it and copy the URL so you can download it to your workspace. \n",
        "- We selected a [inception resnet version 2](https://tfhub.dev/google/faster_rcnn/openimages_v4/inception_resnet_v2/1)\n",
        "- You can also modify this following cell to choose the other model that we selected, [ssd mobilenet version 2](https://tfhub.dev/tensorflow/ssd_mobilenet_v2/2)"
      ]
    },
    {
      "cell_type": "code",
      "metadata": {
        "id": "C9pCzz4uy20U"
      },
      "source": [
        "# you can switch the commented lines here to pick the other model\n",
        "\n",
        "# inception resnet version 2\n",
        "module_handle = \"https://tfhub.dev/google/faster_rcnn/openimages_v4/inception_resnet_v2/1\"\n",
        "\n",
        "# You can choose ssd mobilenet version 2 instead and compare the results\n",
        "#module_handle = \"https://tfhub.dev/google/openimages_v4/ssd/mobilenet_v2/1\""
      ],
      "execution_count": 2,
      "outputs": []
    },
    {
      "cell_type": "markdown",
      "metadata": {
        "id": "W3trj5FbhCR6"
      },
      "source": [
        "#### Load the model\n",
        "\n",
        "Next, you'll load the model specified by the `module_handle`.\n",
        "- This will take a few minutes to load the model."
      ]
    },
    {
      "cell_type": "code",
      "metadata": {
        "id": "0WHkGDHfhCR6",
        "colab": {
          "base_uri": "https://localhost:8080/"
        },
        "outputId": "4efec5d7-0510-4e61-e2d2-83b0a4a9a513"
      },
      "source": [
        "model = hub.load(module_handle)"
      ],
      "execution_count": 3,
      "outputs": [
        {
          "output_type": "stream",
          "text": [
            "INFO:tensorflow:Saver not created because there are no variables in the graph to restore\n"
          ],
          "name": "stdout"
        },
        {
          "output_type": "stream",
          "text": [
            "INFO:tensorflow:Saver not created because there are no variables in the graph to restore\n"
          ],
          "name": "stderr"
        }
      ]
    },
    {
      "cell_type": "markdown",
      "metadata": {
        "id": "1Ey0FpHGhCR6"
      },
      "source": [
        "#### Choose the default signature\n",
        "\n",
        "Some models in the Tensorflow hub can be used for different tasks. So each model's documentation should show what *signature* to use when running the model. \n",
        "- If you want to see if a model has more than one signature then you can do something like `print(hub.load(module_handle).signatures.keys())`. In your case, the models you will be using only have the `default` signature so you don't have to worry about other types."
      ]
    },
    {
      "cell_type": "code",
      "metadata": {
        "id": "X1BU7AGthCR6",
        "colab": {
          "base_uri": "https://localhost:8080/"
        },
        "outputId": "5c0ad97c-40d5-4b19-d05f-9009c2e08837"
      },
      "source": [
        "# take a look at the available signatures for this particular model\n",
        "model.signatures.keys()"
      ],
      "execution_count": 4,
      "outputs": [
        {
          "output_type": "execute_result",
          "data": {
            "text/plain": [
              "KeysView(_SignatureMap({'default': <ConcreteFunction pruned(images) at 0x7FC88ED2E390>}))"
            ]
          },
          "metadata": {
            "tags": []
          },
          "execution_count": 4
        }
      ]
    },
    {
      "cell_type": "markdown",
      "metadata": {
        "id": "nfc9ax9hhCR6"
      },
      "source": [
        "Please choose the 'default' signature for your object detector.\n",
        "- For object detection models, its 'default' signature will accept a batch of image tensors and output a dictionary describing the objects detected, which is what you'll want here."
      ]
    },
    {
      "cell_type": "code",
      "metadata": {
        "id": "pzwR5zE_hCR7"
      },
      "source": [
        "detector = model.signatures['default']"
      ],
      "execution_count": 5,
      "outputs": []
    },
    {
      "cell_type": "markdown",
      "metadata": {
        "id": "Wvb-3r3thCR7"
      },
      "source": [
        "### download_and_resize_image\n",
        "\n",
        "This function downloads an image specified by a given \"url\", pre-processes it, and then saves it to disk."
      ]
    },
    {
      "cell_type": "code",
      "metadata": {
        "id": "Ucsxak_qhCR7"
      },
      "source": [
        "def download_and_resize_image(url, new_width=256, new_height=256):\n",
        "    '''\n",
        "    Fetches an image online, resizes it and saves it locally.\n",
        "    \n",
        "    Args:\n",
        "        url (string) -- link to the image\n",
        "        new_width (int) -- size in pixels used for resizing the width of the image\n",
        "        new_height (int) -- size in pixels used for resizing the length of the image\n",
        "        \n",
        "    Returns:\n",
        "        (string) -- path to the saved image\n",
        "    '''\n",
        "    \n",
        "    \n",
        "    # create a temporary file ending with \".jpg\"\n",
        "    _, filename = tempfile.mkstemp(suffix=\".jpg\")\n",
        "    \n",
        "    # opens the given URL\n",
        "    response = urlopen(url)\n",
        "    \n",
        "    # reads the image fetched from the URL\n",
        "    image_data = response.read()\n",
        "    \n",
        "    # puts the image data in memory buffer\n",
        "    image_data = BytesIO(image_data)\n",
        "    \n",
        "    # opens the image\n",
        "    pil_image = Image.open(image_data)\n",
        "    \n",
        "    # resizes the image. will crop if aspect ratio is different.\n",
        "    pil_image = ImageOps.fit(pil_image, (new_width, new_height), Image.ANTIALIAS)\n",
        "    \n",
        "    # converts to the RGB colorspace\n",
        "    pil_image_rgb = pil_image.convert(\"RGB\")\n",
        "    \n",
        "    # saves the image to the temporary file created earlier\n",
        "    pil_image_rgb.save(filename, format=\"JPEG\", quality=90)\n",
        "    \n",
        "    print(\"Image downloaded to %s.\" % filename)\n",
        "    \n",
        "    return filename"
      ],
      "execution_count": 6,
      "outputs": []
    },
    {
      "cell_type": "markdown",
      "metadata": {
        "id": "r7qodEJHhCR7"
      },
      "source": [
        "### Download and preprocess an image\n",
        "\n",
        "Now, using `download_and_resize_image` you can get a sample image online and save it locally. \n",
        "- We've provided a URL for you, but feel free to choose another image to run through the object detector.\n",
        "- You can use the original width and height of the image but feel free to modify it and see what results you get."
      ]
    },
    {
      "cell_type": "code",
      "metadata": {
        "id": "xHTDalVrhCR7",
        "colab": {
          "base_uri": "https://localhost:8080/"
        },
        "outputId": "66645f83-e9ba-4064-c21b-73880e717669"
      },
      "source": [
        "# You can choose a different URL that points to an image of your choice\n",
        "image_url = \"https://upload.wikimedia.org/wikipedia/commons/f/fb/20130807_dublin014.JPG\"\n",
        "\n",
        "# download the image and use the original height and width\n",
        "downloaded_image_path = download_and_resize_image(image_url, 3872, 2592)"
      ],
      "execution_count": 7,
      "outputs": [
        {
          "output_type": "stream",
          "text": [
            "Image downloaded to /tmp/tmp7j9315k_.jpg.\n"
          ],
          "name": "stdout"
        }
      ]
    },
    {
      "cell_type": "markdown",
      "metadata": {
        "id": "IVNXUKMIhCR7"
      },
      "source": [
        "### run_detector\n",
        "\n",
        "This function will take in the object detection model `detector` and the path to a sample image, then use this model to detect objects and display its predicted class categories and detection boxes.\n",
        "- run_detector uses `load_image` to convert the image into a tensor."
      ]
    },
    {
      "cell_type": "code",
      "metadata": {
        "id": "wkkiQzKlhCR7"
      },
      "source": [
        "def load_img(path):\n",
        "    '''\n",
        "    Loads a JPEG image and converts it to a tensor.\n",
        "    \n",
        "    Args:\n",
        "        path (string) -- path to a locally saved JPEG image\n",
        "    \n",
        "    Returns:\n",
        "        (tensor) -- an image tensor\n",
        "    '''\n",
        "    \n",
        "    # read the file\n",
        "    img = tf.io.read_file(path)\n",
        "    \n",
        "    # convert to a tensor\n",
        "    img = tf.image.decode_jpeg(img, channels=3)\n",
        "    \n",
        "    return img\n",
        "\n",
        "\n",
        "def run_detector(detector, path):\n",
        "    '''\n",
        "    Runs inference on a local file using an object detection model.\n",
        "    \n",
        "    Args:\n",
        "        detector (model) -- an object detection model loaded from TF Hub\n",
        "        path (string) -- path to an image saved locally\n",
        "    '''\n",
        "    \n",
        "    # load an image tensor from a local file path\n",
        "    img = load_img(path)\n",
        "\n",
        "    # add a batch dimension in front of the tensor\n",
        "    converted_img  = tf.image.convert_image_dtype(img, tf.float32)[tf.newaxis, ...]\n",
        "    \n",
        "    # run inference using the model\n",
        "    result = detector(converted_img)\n",
        "\n",
        "    # save the results in a dictionary\n",
        "    result = {key:value.numpy() for key,value in result.items()}\n",
        "\n",
        "    # print results\n",
        "    print(\"Found %d objects.\" % len(result[\"detection_scores\"]))\n",
        "\n",
        "    print(result[\"detection_scores\"])\n",
        "    print(result[\"detection_class_entities\"])\n",
        "    print(result[\"detection_boxes\"])\n"
      ],
      "execution_count": 8,
      "outputs": []
    },
    {
      "cell_type": "markdown",
      "metadata": {
        "id": "DSEeJSkxhCR7"
      },
      "source": [
        "### Run inference on the image\n",
        "\n",
        "You can run your detector by calling the `run_detector` function. This will print the number of objects found followed by three lists: \n",
        "\n",
        "* The detection scores of each object found (i.e. how confident the model is), \n",
        "* The classes of each object found, \n",
        "* The bounding boxes of each object\n",
        "\n",
        "You will see how to overlay this information on the original image in the next sections and in this week's assignment!"
      ]
    },
    {
      "cell_type": "code",
      "metadata": {
        "id": "csanHvDIz4_t",
        "colab": {
          "base_uri": "https://localhost:8080/"
        },
        "outputId": "8621f219-5af7-4782-8531-e2c0fd908482"
      },
      "source": [
        "# runs the object detection model and prints information about the objects found\n",
        "run_detector(detector, downloaded_image_path)"
      ],
      "execution_count": 9,
      "outputs": [
        {
          "output_type": "stream",
          "text": [
            "Found 100 objects.\n",
            "[0.65321743 0.6105054  0.6015251  0.59255534 0.5917784  0.5815493\n",
            " 0.550531   0.4957554  0.47424847 0.47322157 0.44066468 0.40511388\n",
            " 0.3980374  0.3940653  0.37148547 0.36155987 0.36150795 0.346891\n",
            " 0.33362222 0.31252968 0.28877982 0.25758377 0.25748932 0.25196084\n",
            " 0.24782084 0.23412432 0.20432052 0.20324552 0.17988332 0.17964822\n",
            " 0.1737455  0.16431487 0.16031028 0.15895227 0.15620281 0.1546878\n",
            " 0.14754465 0.13622634 0.12740096 0.12555654 0.12102704 0.11813005\n",
            " 0.11387328 0.11229132 0.11129206 0.09718715 0.09137251 0.08975974\n",
            " 0.0888025  0.08633616 0.08337441 0.08095148 0.07988667 0.07741491\n",
            " 0.0773214  0.07631024 0.07507832 0.0738605  0.07233328 0.0720409\n",
            " 0.07110169 0.06935585 0.06825575 0.06427852 0.06248607 0.06226392\n",
            " 0.06211146 0.05940082 0.05798761 0.05784464 0.0572558  0.05346696\n",
            " 0.05304339 0.05242864 0.04892581 0.04813058 0.04578466 0.04424177\n",
            " 0.04337566 0.04277832 0.04262638 0.04163442 0.04081771 0.03975993\n",
            " 0.03945996 0.03944293 0.03864001 0.03769064 0.03759605 0.0356672\n",
            " 0.03359376 0.03333246 0.03275879 0.03231595 0.031343   0.02978721\n",
            " 0.02858363 0.02856131 0.02822301 0.02787893]\n",
            "[b'Person' b'Person' b'Person' b'Person' b'Footwear' b'Person' b'Building'\n",
            " b'Bicycle' b'Window' b'Building' b'Person' b'Wheel' b'Building'\n",
            " b'Building' b'Person' b'Wheel' b'Building' b'Window' b'Window'\n",
            " b'Building' b'Person' b'Van' b'Person' b'Bicycle wheel' b'Person'\n",
            " b'Window' b'Window' b'Bicycle' b'Building' b'Window' b'Window' b'Man'\n",
            " b'Person' b'Person' b'Woman' b'Clothing' b'Bicycle wheel' b'Window'\n",
            " b'Person' b'Window' b'Land vehicle' b'Land vehicle' b'Clothing'\n",
            " b'Bicycle' b'Window' b'House' b'Land vehicle' b'Land vehicle' b'House'\n",
            " b'Man' b'Window' b'Clothing' b'Footwear' b'Person' b'Window' b'Man'\n",
            " b'Man' b'House' b'Person' b'Building' b'Clothing' b'Window' b'Person'\n",
            " b'Jeans' b'Man' b'Furniture' b'Person' b'Person' b'Person'\n",
            " b'Land vehicle' b'Person' b'Window' b'House' b'Woman' b'Window' b'Man'\n",
            " b'Person' b'Man' b'Clothing' b'Bicycle' b'Man' b'Person' b'Window'\n",
            " b'Person' b'Car' b'Man' b'Car' b'Chair' b'House' b'Window' b'Clothing'\n",
            " b'Tire' b'Clothing' b'Window' b'Land vehicle' b'Window' b'Man' b'Window'\n",
            " b'Bus' b'Clothing']\n",
            "[[5.12787819e-01 5.29258847e-01 6.01622581e-01 5.52077651e-01]\n",
            " [5.19631088e-01 6.01512730e-01 6.46177113e-01 6.34626746e-01]\n",
            " [5.05507112e-01 5.00440836e-01 6.01288378e-01 5.23084342e-01]\n",
            " [4.86331582e-01 4.12729561e-01 6.78829789e-01 4.59919751e-01]\n",
            " [8.15191388e-01 9.56122279e-01 8.42702985e-01 9.87146139e-01]\n",
            " [4.95409966e-01 9.23548341e-01 8.35687876e-01 9.99051571e-01]\n",
            " [1.14791617e-02 1.22223925e-02 7.38669872e-01 4.24632907e-01]\n",
            " [5.77677488e-01 3.66453379e-01 7.12771654e-01 4.83375698e-01]\n",
            " [0.00000000e+00 1.19262353e-01 2.23896086e-01 1.83930472e-01]\n",
            " [7.74121135e-02 4.12998140e-01 5.79540014e-01 5.60446203e-01]\n",
            " [5.13818145e-01 7.48031437e-01 5.91993213e-01 7.66611218e-01]\n",
            " [6.32137895e-01 3.59925479e-01 7.03870296e-01 4.11826164e-01]\n",
            " [0.00000000e+00 7.97051966e-01 6.73368514e-01 1.00000000e+00]\n",
            " [1.60234328e-02 6.84869528e-01 5.58761537e-01 8.11168015e-01]\n",
            " [5.00276983e-01 3.76966298e-01 6.33272946e-01 4.14501339e-01]\n",
            " [6.40540242e-01 4.45089400e-01 7.02983558e-01 4.83437657e-01]\n",
            " [0.00000000e+00 2.19054237e-01 6.60400927e-01 4.33263451e-01]\n",
            " [1.93080271e-03 0.00000000e+00 1.39376834e-01 2.62956936e-02]\n",
            " [2.57195788e-03 9.66668665e-01 1.53728679e-01 1.00000000e+00]\n",
            " [5.57149237e-04 1.52053160e-03 7.65210688e-01 2.69977093e-01]\n",
            " [5.04524827e-01 3.61187756e-01 6.34731770e-01 3.85342211e-01]\n",
            " [4.83405888e-01 6.19650841e-01 5.62705696e-01 6.61556125e-01]\n",
            " [4.98067319e-01 3.64576191e-01 6.61239445e-01 4.04972345e-01]\n",
            " [6.31278813e-01 3.60364169e-01 7.04153776e-01 4.11501348e-01]\n",
            " [5.21813869e-01 5.77647567e-01 5.87599933e-01 6.00718856e-01]\n",
            " [2.19569609e-01 3.48744750e-01 3.38372618e-01 3.77075404e-01]\n",
            " [1.24863081e-01 2.50912935e-01 2.79940903e-01 2.81580776e-01]\n",
            " [5.77186048e-01 3.62296671e-01 7.07020819e-01 4.41810846e-01]\n",
            " [2.57474422e-01 5.67561567e-01 5.31102896e-01 6.87727273e-01]\n",
            " [4.20639440e-02 8.74773145e-01 2.52773494e-01 9.13028836e-01]\n",
            " [1.56351015e-01 4.43401158e-01 2.22213224e-01 4.75786090e-01]\n",
            " [5.01968026e-01 9.21486855e-01 8.36406708e-01 1.00000000e+00]\n",
            " [5.23622572e-01 5.70259511e-01 5.84519565e-01 5.91583431e-01]\n",
            " [5.13246477e-01 6.79276526e-01 5.50994456e-01 6.92579985e-01]\n",
            " [5.19120276e-01 5.99985421e-01 6.46378398e-01 6.34036481e-01]\n",
            " [5.24297774e-01 9.24962044e-01 8.10777128e-01 9.97999549e-01]\n",
            " [6.38187289e-01 4.42918181e-01 7.01653838e-01 4.84097779e-01]\n",
            " [3.42190675e-02 3.55574727e-01 1.62255064e-01 3.74921173e-01]\n",
            " [4.88476843e-01 4.53496963e-01 6.21795535e-01 4.79725718e-01]\n",
            " [9.28789785e-04 3.07699054e-01 1.06533423e-01 3.32059711e-01]\n",
            " [4.83008981e-01 6.19908273e-01 5.64775169e-01 6.60696924e-01]\n",
            " [5.82192898e-01 3.64929765e-01 7.13880658e-01 4.84707862e-01]\n",
            " [5.23547709e-01 7.49199331e-01 5.85378051e-01 7.65317559e-01]\n",
            " [6.09156787e-01 4.26705897e-01 7.05165207e-01 4.87089008e-01]\n",
            " [3.51368606e-01 9.74856079e-01 5.53130627e-01 9.98878717e-01]\n",
            " [0.00000000e+00 8.11223269e-01 6.86410904e-01 9.97151375e-01]\n",
            " [5.76297641e-01 3.57461840e-01 7.04812348e-01 4.40279603e-01]\n",
            " [5.64892411e-01 3.63023102e-01 7.08650291e-01 4.16036338e-01]\n",
            " [1.09374495e-02 2.33155675e-02 7.26523042e-01 4.21747804e-01]\n",
            " [4.84686643e-01 4.10685986e-01 6.94686472e-01 4.63092804e-01]\n",
            " [8.09777230e-02 3.84715289e-01 2.07808733e-01 4.11746383e-01]\n",
            " [5.38284421e-01 6.03573740e-01 6.34776115e-01 6.34408653e-01]\n",
            " [6.29844606e-01 6.14971459e-01 6.44933462e-01 6.25384331e-01]\n",
            " [5.02758026e-01 3.82395953e-01 5.96146226e-01 4.12722319e-01]\n",
            " [0.00000000e+00 1.24522923e-02 1.40193507e-01 2.47382149e-02]\n",
            " [5.14441431e-01 7.47791588e-01 5.91985822e-01 7.66827345e-01]\n",
            " [5.06182134e-01 5.00406921e-01 6.00681305e-01 5.23312032e-01]\n",
            " [0.00000000e+00 2.11283550e-01 6.50794148e-01 4.34300780e-01]\n",
            " [4.89451498e-01 4.54391301e-01 5.72340131e-01 4.76470768e-01]\n",
            " [0.00000000e+00 7.06215739e-01 6.16998494e-01 8.66189480e-01]\n",
            " [5.09172916e-01 4.16281193e-01 6.69304490e-01 4.59598720e-01]\n",
            " [4.65171831e-03 8.03094208e-01 1.59853578e-01 8.40397060e-01]\n",
            " [5.26151001e-01 5.68352938e-01 5.79440355e-01 5.82810223e-01]\n",
            " [6.71924829e-01 9.40277696e-01 8.21276009e-01 9.89250779e-01]\n",
            " [5.02770185e-01 3.73883098e-01 6.46991491e-01 4.12972301e-01]\n",
            " [5.74243903e-01 2.67400861e-01 6.57769084e-01 3.20318520e-01]\n",
            " [4.86056775e-01 4.44508791e-01 6.24788880e-01 4.73503351e-01]\n",
            " [5.17248988e-01 7.56969213e-01 5.88517189e-01 7.71465480e-01]\n",
            " [5.23374975e-01 5.57850122e-01 5.79139531e-01 5.73541582e-01]\n",
            " [6.12461030e-01 4.27332461e-01 7.06080198e-01 4.88251865e-01]\n",
            " [5.24124086e-01 5.61553180e-01 5.78385353e-01 5.80475152e-01]\n",
            " [0.00000000e+00 2.44231775e-01 6.07754774e-02 2.93613434e-01]\n",
            " [1.48920696e-02 2.14737654e-03 7.45442033e-01 2.59790659e-01]\n",
            " [4.93236154e-01 9.23950195e-01 8.37110877e-01 9.97755051e-01]\n",
            " [8.37685168e-03 2.42165744e-01 4.97285277e-02 2.83162564e-01]\n",
            " [5.05334914e-01 3.60175282e-01 6.43561006e-01 3.91461790e-01]\n",
            " [5.13099134e-01 5.23794115e-01 6.00504339e-01 5.42967975e-01]\n",
            " [5.20421386e-01 6.00978673e-01 6.46124065e-01 6.34366393e-01]\n",
            " [5.18224895e-01 5.03395557e-01 5.97548664e-01 5.22683859e-01]\n",
            " [5.94199181e-01 3.61327976e-01 7.05465853e-01 4.15853351e-01]\n",
            " [5.13256431e-01 6.79317057e-01 5.50533950e-01 6.92482233e-01]\n",
            " [5.22302687e-01 5.36195457e-01 5.97564995e-01 5.53163230e-01]\n",
            " [4.29876357e-01 8.28702271e-01 5.89928269e-01 8.64323139e-01]\n",
            " [5.04884660e-01 3.89426976e-01 6.15080774e-01 4.19936091e-01]\n",
            " [5.26588559e-01 6.27176881e-01 5.63299775e-01 6.53728902e-01]\n",
            " [5.01304924e-01 3.64189029e-01 6.59964740e-01 4.03793275e-01]\n",
            " [5.15171230e-01 6.24104798e-01 5.63795388e-01 6.58002079e-01]\n",
            " [5.73137939e-01 2.66902655e-01 6.66162014e-01 3.18640232e-01]\n",
            " [8.34235400e-02 4.07414317e-01 5.84092438e-01 5.58522940e-01]\n",
            " [2.88196921e-01 4.77988826e-04 4.14364636e-01 3.65995876e-02]\n",
            " [4.97272849e-01 4.55296665e-01 5.83817124e-01 4.77936029e-01]\n",
            " [6.27168000e-01 3.61024052e-01 7.05996811e-01 4.09780174e-01]\n",
            " [5.15861034e-01 3.80056977e-01 5.96893847e-01 4.11758274e-01]\n",
            " [1.18098166e-02 3.08121800e-01 9.72859561e-02 3.25038970e-01]\n",
            " [5.12501776e-01 6.23653412e-01 5.62422156e-01 6.57641828e-01]\n",
            " [4.01003093e-01 8.85088921e-01 5.81281543e-01 9.39214408e-01]\n",
            " [5.13853252e-01 5.29484570e-01 6.02009714e-01 5.52362800e-01]\n",
            " [0.00000000e+00 1.00606065e-02 1.36156827e-01 3.16007212e-02]\n",
            " [4.80426341e-01 6.20422781e-01 5.65284550e-01 6.60150290e-01]\n",
            " [5.19355476e-01 3.61840427e-01 6.24995410e-01 3.84919703e-01]]\n"
          ],
          "name": "stdout"
        }
      ]
    }
  ]
}