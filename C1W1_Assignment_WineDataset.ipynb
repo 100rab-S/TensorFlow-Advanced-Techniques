{
 "cells": [
  {
   "cell_type": "markdown",
   "metadata": {
    "colab_type": "text",
    "id": "ZL_6GK8qX35J"
   },
   "source": [
    "\n",
    "\n",
    "# Week 1: Multiple Output Models using the Keras Functional API\n",
    "\n",
    "Welcome to the first programming assignment of the course! Your task will be to use the Keras functional API to train a model to predict two outputs. For this lab, you will use the **[Wine Quality Dataset](https://archive.ics.uci.edu/ml/datasets/Wine+Quality)** from the **UCI machine learning repository**. It has separate datasets for red wine and white wine.\n",
    "\n",
    "Normally, the wines are classified into one of the quality ratings specified in the attributes. In this exercise, you will combine the two datasets to predict the wine quality and whether the wine is red or white solely from the attributes. \n",
    "\n",
    "You will model wine quality estimations as a regression problem and wine type detection as a binary classification problem.\n",
    "\n",
    "#### Please complete sections that are marked **(TODO)**"
   ]
  },
  {
   "cell_type": "markdown",
   "metadata": {
    "colab_type": "text",
    "id": "obdcD6urYBY9"
   },
   "source": [
    "## Imports"
   ]
  },
  {
   "cell_type": "code",
   "execution_count": 1,
   "metadata": {
    "colab": {},
    "colab_type": "code",
    "id": "t8N3pcTQ5oQI"
   },
   "outputs": [],
   "source": [
    "import tensorflow as tf\n",
    "from tensorflow.keras.models import Model\n",
    "from tensorflow.keras.layers import Dense, Input\n",
    "\n",
    "import numpy as np\n",
    "import matplotlib.pyplot as plt\n",
    "import pandas as pd\n",
    "from sklearn.model_selection import train_test_split\n",
    "from sklearn.metrics import confusion_matrix\n",
    "import itertools\n",
    "\n",
    "import utils"
   ]
  },
  {
   "cell_type": "markdown",
   "metadata": {
    "colab_type": "text",
    "id": "gQMERzWQYpgm"
   },
   "source": [
    "## Load Dataset\n",
    "\n",
    "\n",
    "You will now load the dataset from the [UCI Machine Learning Repository](https://archive.ics.uci.edu/ml/index.php) which are already saved in your workspace.\n",
    "\n",
    "### Pre-process the white wine dataset (TODO)\n",
    "You will add a new column named `is_red` in your dataframe to indicate if the wine is white or red. \n",
    "- In the white wine dataset, you will fill the column `is_red` with  zeros (0)."
   ]
  },
  {
   "cell_type": "code",
   "execution_count": 10,
   "metadata": {
    "colab": {},
    "colab_type": "code",
    "deletable": false,
    "id": "2qYAjKXCd4RH",
    "nbgrader": {
     "cell_type": "code",
     "checksum": "325ea195519b7035934c95bb529a062c",
     "grade": false,
     "grade_id": "cell-e5bfa0f152d9a21f",
     "locked": false,
     "schema_version": 3,
     "solution": true,
     "task": false
    }
   },
   "outputs": [],
   "source": [
    "## Please uncomment all lines in this cell and replace those marked with `# YOUR CODE HERE`.\n",
    "## You can select all lines in this code cell with Ctrl+A (Windows/Linux) or Cmd+A (Mac), then press Ctrl+/ (Windows/Linux) or Cmd+/ (Mac) to uncomment.\n",
    "\n",
    "\n",
    "\n",
    "# # URL of the white wine dataset\n",
    "URI = './winequality-white.csv'\n",
    "\n",
    "# # load the dataset from the URL\n",
    "white_df = pd.read_csv(URI, sep=\";\")\n",
    "\n",
    "# # fill the `is_red` column with zeros.\n",
    "white_df[\"is_red\"] = 0\n",
    "\n",
    "# # keep only the first of duplicate items. The foll line is used to remove duplicates in the dataframe.\n",
    "white_df = white_df.drop_duplicates(keep='first')\n"
   ]
  },
  {
   "cell_type": "code",
   "execution_count": 15,
   "metadata": {},
   "outputs": [
    {
     "data": {
      "text/html": [
       "<div>\n",
       "<style scoped>\n",
       "    .dataframe tbody tr th:only-of-type {\n",
       "        vertical-align: middle;\n",
       "    }\n",
       "\n",
       "    .dataframe tbody tr th {\n",
       "        vertical-align: top;\n",
       "    }\n",
       "\n",
       "    .dataframe thead th {\n",
       "        text-align: right;\n",
       "    }\n",
       "</style>\n",
       "<table border=\"1\" class=\"dataframe\">\n",
       "  <thead>\n",
       "    <tr style=\"text-align: right;\">\n",
       "      <th></th>\n",
       "      <th>fixed acidity</th>\n",
       "      <th>volatile acidity</th>\n",
       "      <th>citric acid</th>\n",
       "      <th>residual sugar</th>\n",
       "      <th>chlorides</th>\n",
       "      <th>free sulfur dioxide</th>\n",
       "      <th>total sulfur dioxide</th>\n",
       "      <th>density</th>\n",
       "      <th>pH</th>\n",
       "      <th>sulphates</th>\n",
       "      <th>alcohol</th>\n",
       "      <th>quality</th>\n",
       "      <th>is_red</th>\n",
       "    </tr>\n",
       "  </thead>\n",
       "  <tbody>\n",
       "    <tr>\n",
       "      <th>0</th>\n",
       "      <td>7.0</td>\n",
       "      <td>0.27</td>\n",
       "      <td>0.36</td>\n",
       "      <td>20.70</td>\n",
       "      <td>0.045</td>\n",
       "      <td>45.0</td>\n",
       "      <td>170.0</td>\n",
       "      <td>1.0010</td>\n",
       "      <td>3.00</td>\n",
       "      <td>0.45</td>\n",
       "      <td>8.8</td>\n",
       "      <td>6</td>\n",
       "      <td>0</td>\n",
       "    </tr>\n",
       "    <tr>\n",
       "      <th>1</th>\n",
       "      <td>6.3</td>\n",
       "      <td>0.30</td>\n",
       "      <td>0.34</td>\n",
       "      <td>1.60</td>\n",
       "      <td>0.049</td>\n",
       "      <td>14.0</td>\n",
       "      <td>132.0</td>\n",
       "      <td>0.9940</td>\n",
       "      <td>3.30</td>\n",
       "      <td>0.49</td>\n",
       "      <td>9.5</td>\n",
       "      <td>6</td>\n",
       "      <td>0</td>\n",
       "    </tr>\n",
       "    <tr>\n",
       "      <th>2</th>\n",
       "      <td>8.1</td>\n",
       "      <td>0.28</td>\n",
       "      <td>0.40</td>\n",
       "      <td>6.90</td>\n",
       "      <td>0.050</td>\n",
       "      <td>30.0</td>\n",
       "      <td>97.0</td>\n",
       "      <td>0.9951</td>\n",
       "      <td>3.26</td>\n",
       "      <td>0.44</td>\n",
       "      <td>10.1</td>\n",
       "      <td>6</td>\n",
       "      <td>0</td>\n",
       "    </tr>\n",
       "    <tr>\n",
       "      <th>3</th>\n",
       "      <td>7.2</td>\n",
       "      <td>0.23</td>\n",
       "      <td>0.32</td>\n",
       "      <td>8.50</td>\n",
       "      <td>0.058</td>\n",
       "      <td>47.0</td>\n",
       "      <td>186.0</td>\n",
       "      <td>0.9956</td>\n",
       "      <td>3.19</td>\n",
       "      <td>0.40</td>\n",
       "      <td>9.9</td>\n",
       "      <td>6</td>\n",
       "      <td>0</td>\n",
       "    </tr>\n",
       "    <tr>\n",
       "      <th>6</th>\n",
       "      <td>6.2</td>\n",
       "      <td>0.32</td>\n",
       "      <td>0.16</td>\n",
       "      <td>7.00</td>\n",
       "      <td>0.045</td>\n",
       "      <td>30.0</td>\n",
       "      <td>136.0</td>\n",
       "      <td>0.9949</td>\n",
       "      <td>3.18</td>\n",
       "      <td>0.47</td>\n",
       "      <td>9.6</td>\n",
       "      <td>6</td>\n",
       "      <td>0</td>\n",
       "    </tr>\n",
       "    <tr>\n",
       "      <th>9</th>\n",
       "      <td>8.1</td>\n",
       "      <td>0.22</td>\n",
       "      <td>0.43</td>\n",
       "      <td>1.50</td>\n",
       "      <td>0.044</td>\n",
       "      <td>28.0</td>\n",
       "      <td>129.0</td>\n",
       "      <td>0.9938</td>\n",
       "      <td>3.22</td>\n",
       "      <td>0.45</td>\n",
       "      <td>11.0</td>\n",
       "      <td>6</td>\n",
       "      <td>0</td>\n",
       "    </tr>\n",
       "    <tr>\n",
       "      <th>10</th>\n",
       "      <td>8.1</td>\n",
       "      <td>0.27</td>\n",
       "      <td>0.41</td>\n",
       "      <td>1.45</td>\n",
       "      <td>0.033</td>\n",
       "      <td>11.0</td>\n",
       "      <td>63.0</td>\n",
       "      <td>0.9908</td>\n",
       "      <td>2.99</td>\n",
       "      <td>0.56</td>\n",
       "      <td>12.0</td>\n",
       "      <td>5</td>\n",
       "      <td>0</td>\n",
       "    </tr>\n",
       "    <tr>\n",
       "      <th>11</th>\n",
       "      <td>8.6</td>\n",
       "      <td>0.23</td>\n",
       "      <td>0.40</td>\n",
       "      <td>4.20</td>\n",
       "      <td>0.035</td>\n",
       "      <td>17.0</td>\n",
       "      <td>109.0</td>\n",
       "      <td>0.9947</td>\n",
       "      <td>3.14</td>\n",
       "      <td>0.53</td>\n",
       "      <td>9.7</td>\n",
       "      <td>5</td>\n",
       "      <td>0</td>\n",
       "    </tr>\n",
       "    <tr>\n",
       "      <th>12</th>\n",
       "      <td>7.9</td>\n",
       "      <td>0.18</td>\n",
       "      <td>0.37</td>\n",
       "      <td>1.20</td>\n",
       "      <td>0.040</td>\n",
       "      <td>16.0</td>\n",
       "      <td>75.0</td>\n",
       "      <td>0.9920</td>\n",
       "      <td>3.18</td>\n",
       "      <td>0.63</td>\n",
       "      <td>10.8</td>\n",
       "      <td>5</td>\n",
       "      <td>0</td>\n",
       "    </tr>\n",
       "    <tr>\n",
       "      <th>13</th>\n",
       "      <td>6.6</td>\n",
       "      <td>0.16</td>\n",
       "      <td>0.40</td>\n",
       "      <td>1.50</td>\n",
       "      <td>0.044</td>\n",
       "      <td>48.0</td>\n",
       "      <td>143.0</td>\n",
       "      <td>0.9912</td>\n",
       "      <td>3.54</td>\n",
       "      <td>0.52</td>\n",
       "      <td>12.4</td>\n",
       "      <td>7</td>\n",
       "      <td>0</td>\n",
       "    </tr>\n",
       "  </tbody>\n",
       "</table>\n",
       "</div>"
      ],
      "text/plain": [
       "    fixed acidity  volatile acidity  citric acid  residual sugar  chlorides  \\\n",
       "0             7.0              0.27         0.36           20.70      0.045   \n",
       "1             6.3              0.30         0.34            1.60      0.049   \n",
       "2             8.1              0.28         0.40            6.90      0.050   \n",
       "3             7.2              0.23         0.32            8.50      0.058   \n",
       "6             6.2              0.32         0.16            7.00      0.045   \n",
       "9             8.1              0.22         0.43            1.50      0.044   \n",
       "10            8.1              0.27         0.41            1.45      0.033   \n",
       "11            8.6              0.23         0.40            4.20      0.035   \n",
       "12            7.9              0.18         0.37            1.20      0.040   \n",
       "13            6.6              0.16         0.40            1.50      0.044   \n",
       "\n",
       "    free sulfur dioxide  total sulfur dioxide  density    pH  sulphates  \\\n",
       "0                  45.0                 170.0   1.0010  3.00       0.45   \n",
       "1                  14.0                 132.0   0.9940  3.30       0.49   \n",
       "2                  30.0                  97.0   0.9951  3.26       0.44   \n",
       "3                  47.0                 186.0   0.9956  3.19       0.40   \n",
       "6                  30.0                 136.0   0.9949  3.18       0.47   \n",
       "9                  28.0                 129.0   0.9938  3.22       0.45   \n",
       "10                 11.0                  63.0   0.9908  2.99       0.56   \n",
       "11                 17.0                 109.0   0.9947  3.14       0.53   \n",
       "12                 16.0                  75.0   0.9920  3.18       0.63   \n",
       "13                 48.0                 143.0   0.9912  3.54       0.52   \n",
       "\n",
       "    alcohol  quality  is_red  \n",
       "0       8.8        6       0  \n",
       "1       9.5        6       0  \n",
       "2      10.1        6       0  \n",
       "3       9.9        6       0  \n",
       "6       9.6        6       0  \n",
       "9      11.0        6       0  \n",
       "10     12.0        5       0  \n",
       "11      9.7        5       0  \n",
       "12     10.8        5       0  \n",
       "13     12.4        7       0  "
      ]
     },
     "execution_count": 15,
     "metadata": {},
     "output_type": "execute_result"
    }
   ],
   "source": [
    "white_df.head(10)"
   ]
  },
  {
   "cell_type": "code",
   "execution_count": 12,
   "metadata": {},
   "outputs": [
    {
     "data": {
      "text/plain": [
       "(3961, 13)"
      ]
     },
     "execution_count": 12,
     "metadata": {},
     "output_type": "execute_result"
    }
   ],
   "source": [
    "white_df.shape"
   ]
  },
  {
   "cell_type": "code",
   "execution_count": 13,
   "metadata": {
    "deletable": false,
    "editable": false,
    "nbgrader": {
     "cell_type": "code",
     "checksum": "defe38d6ec58fd31cd67b89e46c4373f",
     "grade": true,
     "grade_id": "cell-30575e713b55fc51",
     "locked": true,
     "points": 1,
     "schema_version": 3,
     "solution": false,
     "task": false
    }
   },
   "outputs": [
    {
     "name": "stdout",
     "output_type": "stream",
     "text": [
      "\u001b[92m All public tests passed\n"
     ]
    }
   ],
   "source": [
    "# You can click `File -> Open` in the menu above and open the `utils.py` file \n",
    "# in case you want to inspect the unit tests being used for each graded function.\n",
    "\n",
    "utils.test_white_df(white_df)\n"
   ]
  },
  {
   "cell_type": "code",
   "execution_count": 14,
   "metadata": {
    "colab": {},
    "colab_type": "code",
    "id": "OQHK0ohBQRCk"
   },
   "outputs": [
    {
     "name": "stdout",
     "output_type": "stream",
     "text": [
      "8.8\n",
      "9.1\n"
     ]
    }
   ],
   "source": [
    "print(white_df.alcohol[0])\n",
    "print(white_df.alcohol[100])\n",
    "\n",
    "# EXPECTED OUTPUT\n",
    "# 8.8\n",
    "# 9.1"
   ]
  },
  {
   "cell_type": "markdown",
   "metadata": {},
   "source": [
    "### Pre-process the red wine dataset (TODO)\n",
    "- In the red wine dataset, you will fill in the column `is_red` with ones (1)."
   ]
  },
  {
   "cell_type": "code",
   "execution_count": 16,
   "metadata": {
    "colab": {},
    "colab_type": "code",
    "deletable": false,
    "id": "8y3QxKwBed8v",
    "nbgrader": {
     "cell_type": "code",
     "checksum": "12e0963d15be33b01b4e6ebc8945e51e",
     "grade": false,
     "grade_id": "cell-e47a40f306593274",
     "locked": false,
     "schema_version": 3,
     "solution": true,
     "task": false
    }
   },
   "outputs": [],
   "source": [
    "## Please uncomment all lines in this cell and replace those marked with `# YOUR CODE HERE`.\n",
    "## You can select all lines in this code cell with Ctrl+A (Windows/Linux) or Cmd+A (Mac), then press Ctrl+/ (Windows/Linux) or Cmd+/ (Mac) to uncomment.\n",
    "\n",
    "\n",
    "\n",
    "# # URL of the red wine dataset\n",
    "URI = './winequality-red.csv'\n",
    "\n",
    "# # load the dataset from the URL\n",
    "red_df = pd.read_csv(URI, sep=\";\")\n",
    "\n",
    "# # fill the `is_red` column with ones.\n",
    "red_df[\"is_red\"] = 1\n",
    "\n",
    "# # keep only the first of duplicate items\n",
    "red_df = red_df.drop_duplicates(keep='first')\n"
   ]
  },
  {
   "cell_type": "code",
   "execution_count": 19,
   "metadata": {},
   "outputs": [
    {
     "data": {
      "text/html": [
       "<div>\n",
       "<style scoped>\n",
       "    .dataframe tbody tr th:only-of-type {\n",
       "        vertical-align: middle;\n",
       "    }\n",
       "\n",
       "    .dataframe tbody tr th {\n",
       "        vertical-align: top;\n",
       "    }\n",
       "\n",
       "    .dataframe thead th {\n",
       "        text-align: right;\n",
       "    }\n",
       "</style>\n",
       "<table border=\"1\" class=\"dataframe\">\n",
       "  <thead>\n",
       "    <tr style=\"text-align: right;\">\n",
       "      <th></th>\n",
       "      <th>fixed acidity</th>\n",
       "      <th>volatile acidity</th>\n",
       "      <th>citric acid</th>\n",
       "      <th>residual sugar</th>\n",
       "      <th>chlorides</th>\n",
       "      <th>free sulfur dioxide</th>\n",
       "      <th>total sulfur dioxide</th>\n",
       "      <th>density</th>\n",
       "      <th>pH</th>\n",
       "      <th>sulphates</th>\n",
       "      <th>alcohol</th>\n",
       "      <th>quality</th>\n",
       "      <th>is_red</th>\n",
       "    </tr>\n",
       "  </thead>\n",
       "  <tbody>\n",
       "    <tr>\n",
       "      <th>0</th>\n",
       "      <td>7.4</td>\n",
       "      <td>0.70</td>\n",
       "      <td>0.00</td>\n",
       "      <td>1.9</td>\n",
       "      <td>0.076</td>\n",
       "      <td>11.0</td>\n",
       "      <td>34.0</td>\n",
       "      <td>0.9978</td>\n",
       "      <td>3.51</td>\n",
       "      <td>0.56</td>\n",
       "      <td>9.4</td>\n",
       "      <td>5</td>\n",
       "      <td>1</td>\n",
       "    </tr>\n",
       "    <tr>\n",
       "      <th>1</th>\n",
       "      <td>7.8</td>\n",
       "      <td>0.88</td>\n",
       "      <td>0.00</td>\n",
       "      <td>2.6</td>\n",
       "      <td>0.098</td>\n",
       "      <td>25.0</td>\n",
       "      <td>67.0</td>\n",
       "      <td>0.9968</td>\n",
       "      <td>3.20</td>\n",
       "      <td>0.68</td>\n",
       "      <td>9.8</td>\n",
       "      <td>5</td>\n",
       "      <td>1</td>\n",
       "    </tr>\n",
       "    <tr>\n",
       "      <th>2</th>\n",
       "      <td>7.8</td>\n",
       "      <td>0.76</td>\n",
       "      <td>0.04</td>\n",
       "      <td>2.3</td>\n",
       "      <td>0.092</td>\n",
       "      <td>15.0</td>\n",
       "      <td>54.0</td>\n",
       "      <td>0.9970</td>\n",
       "      <td>3.26</td>\n",
       "      <td>0.65</td>\n",
       "      <td>9.8</td>\n",
       "      <td>5</td>\n",
       "      <td>1</td>\n",
       "    </tr>\n",
       "    <tr>\n",
       "      <th>3</th>\n",
       "      <td>11.2</td>\n",
       "      <td>0.28</td>\n",
       "      <td>0.56</td>\n",
       "      <td>1.9</td>\n",
       "      <td>0.075</td>\n",
       "      <td>17.0</td>\n",
       "      <td>60.0</td>\n",
       "      <td>0.9980</td>\n",
       "      <td>3.16</td>\n",
       "      <td>0.58</td>\n",
       "      <td>9.8</td>\n",
       "      <td>6</td>\n",
       "      <td>1</td>\n",
       "    </tr>\n",
       "    <tr>\n",
       "      <th>5</th>\n",
       "      <td>7.4</td>\n",
       "      <td>0.66</td>\n",
       "      <td>0.00</td>\n",
       "      <td>1.8</td>\n",
       "      <td>0.075</td>\n",
       "      <td>13.0</td>\n",
       "      <td>40.0</td>\n",
       "      <td>0.9978</td>\n",
       "      <td>3.51</td>\n",
       "      <td>0.56</td>\n",
       "      <td>9.4</td>\n",
       "      <td>5</td>\n",
       "      <td>1</td>\n",
       "    </tr>\n",
       "    <tr>\n",
       "      <th>6</th>\n",
       "      <td>7.9</td>\n",
       "      <td>0.60</td>\n",
       "      <td>0.06</td>\n",
       "      <td>1.6</td>\n",
       "      <td>0.069</td>\n",
       "      <td>15.0</td>\n",
       "      <td>59.0</td>\n",
       "      <td>0.9964</td>\n",
       "      <td>3.30</td>\n",
       "      <td>0.46</td>\n",
       "      <td>9.4</td>\n",
       "      <td>5</td>\n",
       "      <td>1</td>\n",
       "    </tr>\n",
       "    <tr>\n",
       "      <th>7</th>\n",
       "      <td>7.3</td>\n",
       "      <td>0.65</td>\n",
       "      <td>0.00</td>\n",
       "      <td>1.2</td>\n",
       "      <td>0.065</td>\n",
       "      <td>15.0</td>\n",
       "      <td>21.0</td>\n",
       "      <td>0.9946</td>\n",
       "      <td>3.39</td>\n",
       "      <td>0.47</td>\n",
       "      <td>10.0</td>\n",
       "      <td>7</td>\n",
       "      <td>1</td>\n",
       "    </tr>\n",
       "    <tr>\n",
       "      <th>8</th>\n",
       "      <td>7.8</td>\n",
       "      <td>0.58</td>\n",
       "      <td>0.02</td>\n",
       "      <td>2.0</td>\n",
       "      <td>0.073</td>\n",
       "      <td>9.0</td>\n",
       "      <td>18.0</td>\n",
       "      <td>0.9968</td>\n",
       "      <td>3.36</td>\n",
       "      <td>0.57</td>\n",
       "      <td>9.5</td>\n",
       "      <td>7</td>\n",
       "      <td>1</td>\n",
       "    </tr>\n",
       "    <tr>\n",
       "      <th>9</th>\n",
       "      <td>7.5</td>\n",
       "      <td>0.50</td>\n",
       "      <td>0.36</td>\n",
       "      <td>6.1</td>\n",
       "      <td>0.071</td>\n",
       "      <td>17.0</td>\n",
       "      <td>102.0</td>\n",
       "      <td>0.9978</td>\n",
       "      <td>3.35</td>\n",
       "      <td>0.80</td>\n",
       "      <td>10.5</td>\n",
       "      <td>5</td>\n",
       "      <td>1</td>\n",
       "    </tr>\n",
       "    <tr>\n",
       "      <th>10</th>\n",
       "      <td>6.7</td>\n",
       "      <td>0.58</td>\n",
       "      <td>0.08</td>\n",
       "      <td>1.8</td>\n",
       "      <td>0.097</td>\n",
       "      <td>15.0</td>\n",
       "      <td>65.0</td>\n",
       "      <td>0.9959</td>\n",
       "      <td>3.28</td>\n",
       "      <td>0.54</td>\n",
       "      <td>9.2</td>\n",
       "      <td>5</td>\n",
       "      <td>1</td>\n",
       "    </tr>\n",
       "  </tbody>\n",
       "</table>\n",
       "</div>"
      ],
      "text/plain": [
       "    fixed acidity  volatile acidity  citric acid  residual sugar  chlorides  \\\n",
       "0             7.4              0.70         0.00             1.9      0.076   \n",
       "1             7.8              0.88         0.00             2.6      0.098   \n",
       "2             7.8              0.76         0.04             2.3      0.092   \n",
       "3            11.2              0.28         0.56             1.9      0.075   \n",
       "5             7.4              0.66         0.00             1.8      0.075   \n",
       "6             7.9              0.60         0.06             1.6      0.069   \n",
       "7             7.3              0.65         0.00             1.2      0.065   \n",
       "8             7.8              0.58         0.02             2.0      0.073   \n",
       "9             7.5              0.50         0.36             6.1      0.071   \n",
       "10            6.7              0.58         0.08             1.8      0.097   \n",
       "\n",
       "    free sulfur dioxide  total sulfur dioxide  density    pH  sulphates  \\\n",
       "0                  11.0                  34.0   0.9978  3.51       0.56   \n",
       "1                  25.0                  67.0   0.9968  3.20       0.68   \n",
       "2                  15.0                  54.0   0.9970  3.26       0.65   \n",
       "3                  17.0                  60.0   0.9980  3.16       0.58   \n",
       "5                  13.0                  40.0   0.9978  3.51       0.56   \n",
       "6                  15.0                  59.0   0.9964  3.30       0.46   \n",
       "7                  15.0                  21.0   0.9946  3.39       0.47   \n",
       "8                   9.0                  18.0   0.9968  3.36       0.57   \n",
       "9                  17.0                 102.0   0.9978  3.35       0.80   \n",
       "10                 15.0                  65.0   0.9959  3.28       0.54   \n",
       "\n",
       "    alcohol  quality  is_red  \n",
       "0       9.4        5       1  \n",
       "1       9.8        5       1  \n",
       "2       9.8        5       1  \n",
       "3       9.8        6       1  \n",
       "5       9.4        5       1  \n",
       "6       9.4        5       1  \n",
       "7      10.0        7       1  \n",
       "8       9.5        7       1  \n",
       "9      10.5        5       1  \n",
       "10      9.2        5       1  "
      ]
     },
     "execution_count": 19,
     "metadata": {},
     "output_type": "execute_result"
    }
   ],
   "source": [
    "red_df.head(10)"
   ]
  },
  {
   "cell_type": "code",
   "execution_count": 17,
   "metadata": {
    "deletable": false,
    "editable": false,
    "nbgrader": {
     "cell_type": "code",
     "checksum": "d8e0c91b0fd668b63ba74a8f2f958b59",
     "grade": true,
     "grade_id": "cell-2a75937adcc0c25b",
     "locked": true,
     "points": 1,
     "schema_version": 3,
     "solution": false,
     "task": false
    }
   },
   "outputs": [
    {
     "name": "stdout",
     "output_type": "stream",
     "text": [
      "\u001b[92m All public tests passed\n"
     ]
    }
   ],
   "source": [
    "utils.test_red_df(red_df)\n"
   ]
  },
  {
   "cell_type": "code",
   "execution_count": 18,
   "metadata": {
    "colab": {},
    "colab_type": "code",
    "id": "zsB3LUzNQpo_"
   },
   "outputs": [
    {
     "name": "stdout",
     "output_type": "stream",
     "text": [
      "9.4\n",
      "10.2\n"
     ]
    }
   ],
   "source": [
    "print(red_df.alcohol[0])\n",
    "print(red_df.alcohol[100])\n",
    "\n",
    "# EXPECTED OUTPUT\n",
    "# 9.4\n",
    "# 10.2"
   ]
  },
  {
   "cell_type": "markdown",
   "metadata": {
    "colab_type": "text",
    "id": "2G8B-NYuM6-f"
   },
   "source": [
    "### Concatenate the datasets\n",
    "\n",
    "Next, concatenate the red and white wine dataframes."
   ]
  },
  {
   "cell_type": "code",
   "execution_count": 20,
   "metadata": {
    "colab": {},
    "colab_type": "code",
    "id": "YpQrOjJbfN3m"
   },
   "outputs": [],
   "source": [
    "df = pd.concat([red_df, white_df], ignore_index=True)"
   ]
  },
  {
   "cell_type": "code",
   "execution_count": 21,
   "metadata": {
    "colab": {},
    "colab_type": "code",
    "id": "Se2dTmThQyjb"
   },
   "outputs": [
    {
     "name": "stdout",
     "output_type": "stream",
     "text": [
      "9.4\n",
      "9.5\n"
     ]
    }
   ],
   "source": [
    "print(df.alcohol[0])\n",
    "print(df.alcohol[100])\n",
    "\n",
    "# EXPECTED OUTPUT\n",
    "# 9.4\n",
    "# 9.5"
   ]
  },
  {
   "cell_type": "markdown",
   "metadata": {},
   "source": [
    "In a real-world scenario, you should shuffle the data. For this assignment however, **you are not** going to do that because the grader needs to test with deterministic data. If you want the code to do it **after** you've gotten your grade for this notebook, we left the commented line below for reference"
   ]
  },
  {
   "cell_type": "code",
   "execution_count": null,
   "metadata": {
    "colab": {},
    "colab_type": "code",
    "id": "wx6y3rPpQv4k"
   },
   "outputs": [],
   "source": [
    "#df = df.iloc[np.random.permutation(len(df))]"
   ]
  },
  {
   "cell_type": "markdown",
   "metadata": {
    "colab_type": "text",
    "id": "-EqIcbg5M_n1"
   },
   "source": [
    "This will chart the quality of the wines."
   ]
  },
  {
   "cell_type": "code",
   "execution_count": 24,
   "metadata": {
    "colab": {},
    "colab_type": "code",
    "id": "IsvK0-Sgy17C"
   },
   "outputs": [
    {
     "data": {
      "image/png": "[encoded data removed]",
      "text/plain": [
       "<Figure size 432x288 with 1 Axes>"
      ]
     },
     "metadata": {
      "needs_background": "light"
     },
     "output_type": "display_data"
    }
   ],
   "source": [
    "df['quality'].hist(bins=20);"
   ]
  },
  {
   "cell_type": "markdown",
   "metadata": {
    "colab_type": "text",
    "id": "Nut1rmYLzf-p"
   },
   "source": [
    "### Imbalanced data (TODO)\n",
    "You can see from the plot above that the wine quality dataset is imbalanced. \n",
    "- Since there are very few observations with quality equal to 3, 4, 8 and 9, you can drop these observations from your dataset. \n",
    "- You can do this by removing data belonging to all classes except those > 4 and < 8."
   ]
  },
  {
   "cell_type": "code",
   "execution_count": 25,
   "metadata": {
    "colab": {},
    "colab_type": "code",
    "deletable": false,
    "id": "doH9_-gnf3sz",
    "nbgrader": {
     "cell_type": "code",
     "checksum": "d9ba9fc3a3ca02ccc567be33652b80fe",
     "grade": false,
     "grade_id": "cell-6a3e9db696f6827b",
     "locked": false,
     "schema_version": 3,
     "solution": true,
     "task": false
    }
   },
   "outputs": [],
   "source": [
    "## Please uncomment all lines in this cell and replace those marked with `# YOUR CODE HERE`.\n",
    "## You can select all lines in this code cell with Ctrl+A (Windows/Linux) or Cmd+A (Mac), then press Ctrl+/ (Windows/Linux) or Cmd+/ (Mac) to uncomment.\n",
    "\n",
    "\n",
    "\n",
    "# # get data with wine quality greater than 4 and less than 8\n",
    "df = df[(df['quality'] > 4) & (df['quality'] < 8 )]\n",
    "\n",
    "# # reset index and drop the old one\n",
    "df = df.reset_index(drop=True)"
   ]
  },
  {
   "cell_type": "code",
   "execution_count": 26,
   "metadata": {
    "deletable": false,
    "editable": false,
    "nbgrader": {
     "cell_type": "code",
     "checksum": "281e1d86a4803560ed5892cd7eda4c01",
     "grade": true,
     "grade_id": "cell-aed3da719d4682c7",
     "locked": true,
     "points": 1,
     "schema_version": 3,
     "solution": false,
     "task": false
    }
   },
   "outputs": [
    {
     "name": "stdout",
     "output_type": "stream",
     "text": [
      "\u001b[92m All public tests passed\n"
     ]
    }
   ],
   "source": [
    "utils.test_df_drop(df)\n",
    "\n"
   ]
  },
  {
   "cell_type": "code",
   "execution_count": 27,
   "metadata": {
    "colab": {},
    "colab_type": "code",
    "id": "xNR1iAlMRPXO"
   },
   "outputs": [
    {
     "name": "stdout",
     "output_type": "stream",
     "text": [
      "9.4\n",
      "10.9\n"
     ]
    }
   ],
   "source": [
    "print(df.alcohol[0])\n",
    "print(df.alcohol[100])\n",
    "\n",
    "# EXPECTED OUTPUT\n",
    "# 9.4\n",
    "# 10.9"
   ]
  },
  {
   "cell_type": "markdown",
   "metadata": {
    "colab_type": "text",
    "id": "cwhuRpnVRTzG"
   },
   "source": [
    "You can plot again to see the new range of data and quality"
   ]
  },
  {
   "cell_type": "code",
   "execution_count": 28,
   "metadata": {
    "colab": {},
    "colab_type": "code",
    "id": "857ygzZiLgGg"
   },
   "outputs": [
    {
     "data": {
      "image/png": "[encoded data removed]",
      "text/plain": [
       "<Figure size 432x288 with 1 Axes>"
      ]
     },
     "metadata": {
      "needs_background": "light"
     },
     "output_type": "display_data"
    }
   ],
   "source": [
    "df['quality'].hist(bins=20);"
   ]
  },
  {
   "cell_type": "markdown",
   "metadata": {
    "colab_type": "text",
    "id": "n3k0vqSsp84t"
   },
   "source": [
    "### Train Test Split (TODO)\n",
    "\n",
    "Next, you can split the datasets into training, test and validation datasets.\n",
    "- The data frame should be split 80:20 into `train` and `test` sets.\n",
    "- The resulting `train` should then be split 80:20 into `train` and `val` sets.\n",
    "- The `train_test_split` parameter `test_size` takes a float value that ranges between 0. and 1, and represents the proportion of the dataset that is allocated to the test set.  The rest of the data is allocated to the training set."
   ]
  },
  {
   "cell_type": "code",
   "execution_count": 44,
   "metadata": {
    "colab": {},
    "colab_type": "code",
    "deletable": false,
    "id": "PAVIf2-fgRVY",
    "nbgrader": {
     "cell_type": "code",
     "checksum": "7f5738f4fb51d65adc9a8acbdf2b9970",
     "grade": false,
     "grade_id": "cell-91946cadf745206b",
     "locked": false,
     "schema_version": 3,
     "solution": true,
     "task": false
    }
   },
   "outputs": [],
   "source": [
    "## Please uncomment all lines in this cell and replace those marked with `# YOUR CODE HERE`.\n",
    "## You can select all lines in this code cell with Ctrl+A (Windows/Linux) or Cmd+A (Mac), then press Ctrl+/ (Windows/Linux) or Cmd+/ (Mac) to uncomment.\n",
    "\n",
    "\n",
    "\n",
    "## Please do not change the random_state parameter. This is needed for grading.\n",
    "\n",
    "# # split df into 80:20 train and test sets\n",
    "train, test = train_test_split(df, test_size = 0.2, random_state = 1)\n",
    "                               \n",
    "# # split train into 80:20 train and val sets\n",
    "train, val = train_test_split(train, test_size= 0.2, random_state = 1)"
   ]
  },
  {
   "cell_type": "code",
   "execution_count": 30,
   "metadata": {
    "colab": {},
    "colab_type": "code",
    "deletable": false,
    "editable": false,
    "id": "57h9LcEzRWpk",
    "nbgrader": {
     "cell_type": "code",
     "checksum": "42adbe9e66efac7c7a5f8cd73ac92f22",
     "grade": true,
     "grade_id": "cell-64b8b38cd0b965f6",
     "locked": true,
     "points": 1,
     "schema_version": 3,
     "solution": false,
     "task": false
    }
   },
   "outputs": [
    {
     "name": "stdout",
     "output_type": "stream",
     "text": [
      "\u001b[92m All public tests passed\n"
     ]
    }
   ],
   "source": [
    "utils.test_data_sizes(train.size, test.size, val.size)\n",
    "\n"
   ]
  },
  {
   "cell_type": "markdown",
   "metadata": {
    "colab_type": "text",
    "id": "RwTNu4KFqG-K"
   },
   "source": [
    "Here's where you can explore the training stats. You can pop the labels 'is_red' and 'quality' from the data as these will be used as the labels\n"
   ]
  },
  {
   "cell_type": "code",
   "execution_count": 33,
   "metadata": {
    "colab": {},
    "colab_type": "code",
    "id": "Y_afyhhHM6WQ"
   },
   "outputs": [],
   "source": [
    "train_stats = train.describe()\n",
    "train_stats.pop('is_red')\n",
    "train_stats.pop('quality')\n",
    "train_stats = train_stats.transpose()"
   ]
  },
  {
   "cell_type": "markdown",
   "metadata": {
    "colab_type": "text",
    "id": "ahvbYm4fNqSt"
   },
   "source": [
    "Explore the training stats!"
   ]
  },
  {
   "cell_type": "code",
   "execution_count": 34,
   "metadata": {
    "colab": {},
    "colab_type": "code",
    "id": "n_gAtPjZ0otF"
   },
   "outputs": [
    {
     "data": {
      "text/html": [
       "<div>\n",
       "<style scoped>\n",
       "    .dataframe tbody tr th:only-of-type {\n",
       "        vertical-align: middle;\n",
       "    }\n",
       "\n",
       "    .dataframe tbody tr th {\n",
       "        vertical-align: top;\n",
       "    }\n",
       "\n",
       "    .dataframe thead th {\n",
       "        text-align: right;\n",
       "    }\n",
       "</style>\n",
       "<table border=\"1\" class=\"dataframe\">\n",
       "  <thead>\n",
       "    <tr style=\"text-align: right;\">\n",
       "      <th></th>\n",
       "      <th>count</th>\n",
       "      <th>mean</th>\n",
       "      <th>std</th>\n",
       "      <th>min</th>\n",
       "      <th>25%</th>\n",
       "      <th>50%</th>\n",
       "      <th>75%</th>\n",
       "      <th>max</th>\n",
       "    </tr>\n",
       "  </thead>\n",
       "  <tbody>\n",
       "    <tr>\n",
       "      <th>fixed acidity</th>\n",
       "      <td>3155.0</td>\n",
       "      <td>7.221616</td>\n",
       "      <td>1.325297</td>\n",
       "      <td>3.80000</td>\n",
       "      <td>6.40000</td>\n",
       "      <td>7.00000</td>\n",
       "      <td>7.7000</td>\n",
       "      <td>15.60000</td>\n",
       "    </tr>\n",
       "    <tr>\n",
       "      <th>volatile acidity</th>\n",
       "      <td>3155.0</td>\n",
       "      <td>0.338929</td>\n",
       "      <td>0.162476</td>\n",
       "      <td>0.08000</td>\n",
       "      <td>0.23000</td>\n",
       "      <td>0.29000</td>\n",
       "      <td>0.4000</td>\n",
       "      <td>1.24000</td>\n",
       "    </tr>\n",
       "    <tr>\n",
       "      <th>citric acid</th>\n",
       "      <td>3155.0</td>\n",
       "      <td>0.321569</td>\n",
       "      <td>0.147970</td>\n",
       "      <td>0.00000</td>\n",
       "      <td>0.25000</td>\n",
       "      <td>0.31000</td>\n",
       "      <td>0.4000</td>\n",
       "      <td>1.66000</td>\n",
       "    </tr>\n",
       "    <tr>\n",
       "      <th>residual sugar</th>\n",
       "      <td>3155.0</td>\n",
       "      <td>5.155911</td>\n",
       "      <td>4.639632</td>\n",
       "      <td>0.60000</td>\n",
       "      <td>1.80000</td>\n",
       "      <td>2.80000</td>\n",
       "      <td>7.6500</td>\n",
       "      <td>65.80000</td>\n",
       "    </tr>\n",
       "    <tr>\n",
       "      <th>chlorides</th>\n",
       "      <td>3155.0</td>\n",
       "      <td>0.056976</td>\n",
       "      <td>0.036802</td>\n",
       "      <td>0.01200</td>\n",
       "      <td>0.03800</td>\n",
       "      <td>0.04700</td>\n",
       "      <td>0.0660</td>\n",
       "      <td>0.61100</td>\n",
       "    </tr>\n",
       "    <tr>\n",
       "      <th>free sulfur dioxide</th>\n",
       "      <td>3155.0</td>\n",
       "      <td>30.388590</td>\n",
       "      <td>17.236784</td>\n",
       "      <td>1.00000</td>\n",
       "      <td>17.00000</td>\n",
       "      <td>28.00000</td>\n",
       "      <td>41.0000</td>\n",
       "      <td>131.00000</td>\n",
       "    </tr>\n",
       "    <tr>\n",
       "      <th>total sulfur dioxide</th>\n",
       "      <td>3155.0</td>\n",
       "      <td>115.062282</td>\n",
       "      <td>56.706617</td>\n",
       "      <td>6.00000</td>\n",
       "      <td>75.00000</td>\n",
       "      <td>117.00000</td>\n",
       "      <td>156.0000</td>\n",
       "      <td>344.00000</td>\n",
       "    </tr>\n",
       "    <tr>\n",
       "      <th>density</th>\n",
       "      <td>3155.0</td>\n",
       "      <td>0.994633</td>\n",
       "      <td>0.003005</td>\n",
       "      <td>0.98711</td>\n",
       "      <td>0.99232</td>\n",
       "      <td>0.99481</td>\n",
       "      <td>0.9968</td>\n",
       "      <td>1.03898</td>\n",
       "    </tr>\n",
       "    <tr>\n",
       "      <th>pH</th>\n",
       "      <td>3155.0</td>\n",
       "      <td>3.223201</td>\n",
       "      <td>0.161272</td>\n",
       "      <td>2.72000</td>\n",
       "      <td>3.11000</td>\n",
       "      <td>3.21000</td>\n",
       "      <td>3.3300</td>\n",
       "      <td>4.01000</td>\n",
       "    </tr>\n",
       "    <tr>\n",
       "      <th>sulphates</th>\n",
       "      <td>3155.0</td>\n",
       "      <td>0.534051</td>\n",
       "      <td>0.149149</td>\n",
       "      <td>0.22000</td>\n",
       "      <td>0.43000</td>\n",
       "      <td>0.51000</td>\n",
       "      <td>0.6000</td>\n",
       "      <td>1.95000</td>\n",
       "    </tr>\n",
       "    <tr>\n",
       "      <th>alcohol</th>\n",
       "      <td>3155.0</td>\n",
       "      <td>10.504466</td>\n",
       "      <td>1.154654</td>\n",
       "      <td>8.50000</td>\n",
       "      <td>9.50000</td>\n",
       "      <td>10.30000</td>\n",
       "      <td>11.3000</td>\n",
       "      <td>14.00000</td>\n",
       "    </tr>\n",
       "  </tbody>\n",
       "</table>\n",
       "</div>"
      ],
      "text/plain": [
       "                       count        mean        std      min       25%  \\\n",
       "fixed acidity         3155.0    7.221616   1.325297  3.80000   6.40000   \n",
       "volatile acidity      3155.0    0.338929   0.162476  0.08000   0.23000   \n",
       "citric acid           3155.0    0.321569   0.147970  0.00000   0.25000   \n",
       "residual sugar        3155.0    5.155911   4.639632  0.60000   1.80000   \n",
       "chlorides             3155.0    0.056976   0.036802  0.01200   0.03800   \n",
       "free sulfur dioxide   3155.0   30.388590  17.236784  1.00000  17.00000   \n",
       "total sulfur dioxide  3155.0  115.062282  56.706617  6.00000  75.00000   \n",
       "density               3155.0    0.994633   0.003005  0.98711   0.99232   \n",
       "pH                    3155.0    3.223201   0.161272  2.72000   3.11000   \n",
       "sulphates             3155.0    0.534051   0.149149  0.22000   0.43000   \n",
       "alcohol               3155.0   10.504466   1.154654  8.50000   9.50000   \n",
       "\n",
       "                            50%       75%        max  \n",
       "fixed acidity           7.00000    7.7000   15.60000  \n",
       "volatile acidity        0.29000    0.4000    1.24000  \n",
       "citric acid             0.31000    0.4000    1.66000  \n",
       "residual sugar          2.80000    7.6500   65.80000  \n",
       "chlorides               0.04700    0.0660    0.61100  \n",
       "free sulfur dioxide    28.00000   41.0000  131.00000  \n",
       "total sulfur dioxide  117.00000  156.0000  344.00000  \n",
       "density                 0.99481    0.9968    1.03898  \n",
       "pH                      3.21000    3.3300    4.01000  \n",
       "sulphates               0.51000    0.6000    1.95000  \n",
       "alcohol                10.30000   11.3000   14.00000  "
      ]
     },
     "execution_count": 34,
     "metadata": {},
     "output_type": "execute_result"
    }
   ],
   "source": [
    "train_stats"
   ]
  },
  {
   "cell_type": "markdown",
   "metadata": {
    "colab_type": "text",
    "id": "bGPvt9jir_HC"
   },
   "source": [
    "### Get the labels (TODO)\n",
    "\n",
    "The features and labels are currently in the same dataframe.\n",
    "- You will want to store the label columns `is_red` and `quality` separately from the feature columns.  \n",
    "- The following function, `format_output`, gets these two columns from the dataframe (it's given to you).\n",
    "- `format_output` also formats the data into numpy arrays. \n",
    "- Please use the `format_output` and apply it to the `train`, `val` and `test` sets to get dataframes for the labels."
   ]
  },
  {
   "cell_type": "code",
   "execution_count": 42,
   "metadata": {
    "colab": {},
    "colab_type": "code",
    "id": "Z_fs14XQqZVP"
   },
   "outputs": [],
   "source": [
    "def format_output(data):\n",
    "    is_red = data.pop('is_red')\n",
    "    is_red = np.array(is_red)\n",
    "    quality = data.pop('quality')\n",
    "    quality = np.array(quality)\n",
    "    return (quality, is_red)"
   ]
  },
  {
   "cell_type": "code",
   "execution_count": 45,
   "metadata": {
    "colab": {},
    "colab_type": "code",
    "deletable": false,
    "id": "8L3ZZe1fQicm",
    "nbgrader": {
     "cell_type": "code",
     "checksum": "7a86809e54895a816434c48dc903f55d",
     "grade": false,
     "grade_id": "cell-5c30fa2c2a354b0f",
     "locked": false,
     "schema_version": 3,
     "solution": true,
     "task": false
    }
   },
   "outputs": [],
   "source": [
    "## Please uncomment all lines in this cell and replace those marked with `# YOUR CODE HERE`.\n",
    "## You can select all lines in this code cell with Ctrl+A (Windows/Linux) or Cmd+A (Mac), then press Ctrl+/ (Windows/Linux) or Cmd+/ (Mac) to uncomment.\n",
    "\n",
    "\n",
    "\n",
    "# # format the output of the train set\n",
    "train_Y = format_output(train)\n",
    "\n",
    "# # format the output of the val set\n",
    "val_Y = format_output(val)\n",
    "    \n",
    "# # format the output of the test set\n",
    "test_Y = format_output(test)"
   ]
  },
  {
   "cell_type": "code",
   "execution_count": 49,
   "metadata": {
    "deletable": false,
    "editable": false,
    "nbgrader": {
     "cell_type": "code",
     "checksum": "359cabbafaed14ec9bbc1e57a7b6f32c",
     "grade": true,
     "grade_id": "cell-4977d8befb80f56b",
     "locked": true,
     "points": 1,
     "schema_version": 3,
     "solution": false,
     "task": false
    }
   },
   "outputs": [
    {
     "name": "stdout",
     "output_type": "stream",
     "text": [
      "\u001b[92m All public tests passed\n"
     ]
    }
   ],
   "source": [
    "utils.test_format_output(df, train_Y, val_Y, test_Y)"
   ]
  },
  {
   "cell_type": "markdown",
   "metadata": {},
   "source": [
    "Notice that after you get the labels, the `train`, `val` and `test` dataframes no longer contain the label columns, and contain just the feature columns.\n",
    "- This is because you used `.pop` in the `format_output` function."
   ]
  },
  {
   "cell_type": "code",
   "execution_count": 50,
   "metadata": {},
   "outputs": [
    {
     "data": {
      "text/html": [
       "<div>\n",
       "<style scoped>\n",
       "    .dataframe tbody tr th:only-of-type {\n",
       "        vertical-align: middle;\n",
       "    }\n",
       "\n",
       "    .dataframe tbody tr th {\n",
       "        vertical-align: top;\n",
       "    }\n",
       "\n",
       "    .dataframe thead th {\n",
       "        text-align: right;\n",
       "    }\n",
       "</style>\n",
       "<table border=\"1\" class=\"dataframe\">\n",
       "  <thead>\n",
       "    <tr style=\"text-align: right;\">\n",
       "      <th></th>\n",
       "      <th>fixed acidity</th>\n",
       "      <th>volatile acidity</th>\n",
       "      <th>citric acid</th>\n",
       "      <th>residual sugar</th>\n",
       "      <th>chlorides</th>\n",
       "      <th>free sulfur dioxide</th>\n",
       "      <th>total sulfur dioxide</th>\n",
       "      <th>density</th>\n",
       "      <th>pH</th>\n",
       "      <th>sulphates</th>\n",
       "      <th>alcohol</th>\n",
       "    </tr>\n",
       "  </thead>\n",
       "  <tbody>\n",
       "    <tr>\n",
       "      <th>225</th>\n",
       "      <td>7.5</td>\n",
       "      <td>0.65</td>\n",
       "      <td>0.18</td>\n",
       "      <td>7.0</td>\n",
       "      <td>0.088</td>\n",
       "      <td>27.0</td>\n",
       "      <td>94.0</td>\n",
       "      <td>0.99915</td>\n",
       "      <td>3.38</td>\n",
       "      <td>0.77</td>\n",
       "      <td>9.4</td>\n",
       "    </tr>\n",
       "    <tr>\n",
       "      <th>3557</th>\n",
       "      <td>6.3</td>\n",
       "      <td>0.27</td>\n",
       "      <td>0.29</td>\n",
       "      <td>12.2</td>\n",
       "      <td>0.044</td>\n",
       "      <td>59.0</td>\n",
       "      <td>196.0</td>\n",
       "      <td>0.99782</td>\n",
       "      <td>3.14</td>\n",
       "      <td>0.40</td>\n",
       "      <td>8.8</td>\n",
       "    </tr>\n",
       "    <tr>\n",
       "      <th>3825</th>\n",
       "      <td>8.8</td>\n",
       "      <td>0.27</td>\n",
       "      <td>0.25</td>\n",
       "      <td>5.0</td>\n",
       "      <td>0.024</td>\n",
       "      <td>52.0</td>\n",
       "      <td>99.0</td>\n",
       "      <td>0.99250</td>\n",
       "      <td>2.87</td>\n",
       "      <td>0.49</td>\n",
       "      <td>11.4</td>\n",
       "    </tr>\n",
       "    <tr>\n",
       "      <th>1740</th>\n",
       "      <td>6.4</td>\n",
       "      <td>0.45</td>\n",
       "      <td>0.07</td>\n",
       "      <td>1.1</td>\n",
       "      <td>0.030</td>\n",
       "      <td>10.0</td>\n",
       "      <td>131.0</td>\n",
       "      <td>0.99050</td>\n",
       "      <td>2.97</td>\n",
       "      <td>0.28</td>\n",
       "      <td>10.8</td>\n",
       "    </tr>\n",
       "    <tr>\n",
       "      <th>1221</th>\n",
       "      <td>7.2</td>\n",
       "      <td>0.53</td>\n",
       "      <td>0.13</td>\n",
       "      <td>2.0</td>\n",
       "      <td>0.058</td>\n",
       "      <td>18.0</td>\n",
       "      <td>22.0</td>\n",
       "      <td>0.99573</td>\n",
       "      <td>3.21</td>\n",
       "      <td>0.68</td>\n",
       "      <td>9.9</td>\n",
       "    </tr>\n",
       "  </tbody>\n",
       "</table>\n",
       "</div>"
      ],
      "text/plain": [
       "      fixed acidity  volatile acidity  citric acid  residual sugar  chlorides  \\\n",
       "225             7.5              0.65         0.18             7.0      0.088   \n",
       "3557            6.3              0.27         0.29            12.2      0.044   \n",
       "3825            8.8              0.27         0.25             5.0      0.024   \n",
       "1740            6.4              0.45         0.07             1.1      0.030   \n",
       "1221            7.2              0.53         0.13             2.0      0.058   \n",
       "\n",
       "      free sulfur dioxide  total sulfur dioxide  density    pH  sulphates  \\\n",
       "225                  27.0                  94.0  0.99915  3.38       0.77   \n",
       "3557                 59.0                 196.0  0.99782  3.14       0.40   \n",
       "3825                 52.0                  99.0  0.99250  2.87       0.49   \n",
       "1740                 10.0                 131.0  0.99050  2.97       0.28   \n",
       "1221                 18.0                  22.0  0.99573  3.21       0.68   \n",
       "\n",
       "      alcohol  \n",
       "225       9.4  \n",
       "3557      8.8  \n",
       "3825     11.4  \n",
       "1740     10.8  \n",
       "1221      9.9  "
      ]
     },
     "execution_count": 50,
     "metadata": {},
     "output_type": "execute_result"
    }
   ],
   "source": [
    "train.head()"
   ]
  },
  {
   "cell_type": "markdown",
   "metadata": {
    "colab_type": "text",
    "id": "hEdbrruAsN1D"
   },
   "source": [
    "### Normalize the data (TODO)\n",
    "\n",
    "Next, you can normalize the data, x, using the formula:\n",
    "$$x_{norm} = \\frac{x - \\mu}{\\sigma}$$\n",
    "- The `norm` function is defined for you.\n",
    "- Please apply the `norm` function to normalize the dataframes that contains the feature columns of `train`, `val` and `test` sets."
   ]
  },
  {
   "cell_type": "code",
   "execution_count": 52,
   "metadata": {
    "colab": {},
    "colab_type": "code",
    "id": "WWiZPAHCLjUs"
   },
   "outputs": [],
   "source": [
    "def norm(x):\n",
    "    return (x - train_stats['mean']) / train_stats['std']"
   ]
  },
  {
   "cell_type": "code",
   "execution_count": 53,
   "metadata": {
    "colab": {},
    "colab_type": "code",
    "deletable": false,
    "id": "JEaOi2I2Lk69",
    "nbgrader": {
     "cell_type": "code",
     "checksum": "6bc0cdcb563d192f271067aa3373ff32",
     "grade": false,
     "grade_id": "cell-d8416d975c371095",
     "locked": false,
     "schema_version": 3,
     "solution": true,
     "task": false
    }
   },
   "outputs": [],
   "source": [
    "## Please uncomment all lines in this cell and replace those marked with `# YOUR CODE HERE`.\n",
    "## You can select all lines in this code cell with Ctrl+A (Windows/Linux) or Cmd+A (Mac), then press Ctrl+/ (Windows/Linux) or Cmd+/ (Mac) to uncomment.\n",
    "\n",
    "\n",
    "\n",
    "# # normalize the train set\n",
    "norm_train_X = norm(train)\n",
    "    \n",
    "# # normalize the val set\n",
    "norm_val_X = norm(val)\n",
    "    \n",
    "# # normalize the test set\n",
    "norm_test_X = norm(test)"
   ]
  },
  {
   "cell_type": "code",
   "execution_count": 54,
   "metadata": {
    "deletable": false,
    "editable": false,
    "nbgrader": {
     "cell_type": "code",
     "checksum": "4f567db45bf40191601780379cc100b8",
     "grade": true,
     "grade_id": "cell-97fad979d157529b",
     "locked": true,
     "points": 1,
     "schema_version": 3,
     "solution": false,
     "task": false
    }
   },
   "outputs": [
    {
     "name": "stdout",
     "output_type": "stream",
     "text": [
      "\u001b[92m All public tests passed\n"
     ]
    }
   ],
   "source": [
    "utils.test_norm(norm_train_X, norm_val_X, norm_test_X, train, val, test)\n"
   ]
  },
  {
   "cell_type": "markdown",
   "metadata": {
    "colab_type": "text",
    "id": "hzykDwQhsaPO"
   },
   "source": [
    "## Define the Model (TODO)\n",
    "\n",
    "Define the model using the functional API. The base model will be 2 `Dense` layers of 128 neurons each, and have the `'relu'` activation.\n",
    "- Check out the documentation for [tf.keras.layers.Dense](https://www.tensorflow.org/api_docs/python/tf/keras/layers/Dense)"
   ]
  },
  {
   "cell_type": "code",
   "execution_count": 55,
   "metadata": {
    "colab": {},
    "colab_type": "code",
    "deletable": false,
    "id": "Rhcns3oTFkM6",
    "nbgrader": {
     "cell_type": "code",
     "checksum": "74b031247e569526552bf13a034a1c07",
     "grade": false,
     "grade_id": "cell-73fceedad1fe351c",
     "locked": false,
     "schema_version": 3,
     "solution": true,
     "task": false
    }
   },
   "outputs": [],
   "source": [
    "# Please uncomment all lines in this cell and replace those marked with `# YOUR CODE HERE`.\n",
    "# You can select all lines in this code cell with Ctrl+A (Windows/Linux) or Cmd+A (Mac), then press Ctrl+/ (Windows/Linux) or Cmd+/ (Mac) to uncomment.\n",
    "\n",
    "\n",
    "\n",
    "def base_model(inputs):\n",
    "    \n",
    "    # connect a Dense layer with 128 neurons and a relu activation\n",
    "    x = tf.keras.layers.Dense(128, activation = 'relu')(inputs)\n",
    "    \n",
    "    # connect another Dense layer with 128 neurons and a relu activation\n",
    "    x = tf.keras.layers.Dense(128, activation = 'relu')(x)\n",
    "    return x\n",
    "  "
   ]
  },
  {
   "cell_type": "code",
   "execution_count": 56,
   "metadata": {
    "deletable": false,
    "editable": false,
    "nbgrader": {
     "cell_type": "code",
     "checksum": "9255924b3def80f679616e4c851a43e1",
     "grade": true,
     "grade_id": "cell-54f742a133353d75",
     "locked": true,
     "points": 1,
     "schema_version": 3,
     "solution": false,
     "task": false
    }
   },
   "outputs": [
    {
     "name": "stdout",
     "output_type": "stream",
     "text": [
      "\u001b[92m All public tests passed\n"
     ]
    }
   ],
   "source": [
    "utils.test_base_model(base_model)"
   ]
  },
  {
   "cell_type": "markdown",
   "metadata": {
    "colab_type": "text",
    "id": "xem_fcVws6Kz"
   },
   "source": [
    "# Define output layers of the model (TODO)\n",
    "\n",
    "You will add output layers to the base model. \n",
    "- The model will need two outputs.\n",
    "\n",
    "One output layer will predict wine quality, which is a numeric value.\n",
    "- Define a `Dense` layer with 1 neuron.\n",
    "- Since this is a regression output, the activation can be left as its default value `None`.\n",
    "\n",
    "The other output layer will predict the wine type, which is either red `1` or not red `0` (white).\n",
    "- Define a `Dense` layer with 1 neuron.\n",
    "- Since there are two possible categories, you can use a sigmoid activation for binary classification.\n",
    "\n",
    "Define the `Model`\n",
    "- Define the `Model` object, and set the following parameters:\n",
    "  - `inputs`: pass in the inputs to the model as a list.\n",
    "  - `outputs`: pass in a list of the outputs that you just defined: wine quality, then wine type.\n",
    "  - **Note**: please list the wine quality before wine type in the outputs, as this will affect the calculated loss if you choose the other order."
   ]
  },
  {
   "cell_type": "code",
   "execution_count": 59,
   "metadata": {
    "colab": {},
    "colab_type": "code",
    "deletable": false,
    "id": "n5UGF8PMVLPt",
    "nbgrader": {
     "cell_type": "code",
     "checksum": "76d35b90d20cdcbb22986cd8211057de",
     "grade": false,
     "grade_id": "cell-19e285f482f021fb",
     "locked": false,
     "schema_version": 3,
     "solution": true,
     "task": false
    }
   },
   "outputs": [],
   "source": [
    "# Please uncomment all lines in this cell and replace those marked with `# YOUR CODE HERE`.\n",
    "# You can select all lines in this code cell with Ctrl+A (Windows/Linux) or Cmd+A (Mac), then press Ctrl+/ (Windows/Linux) or Cmd+/ (Mac) to uncomment.\n",
    "\n",
    "\n",
    "\n",
    "def final_model(inputs):\n",
    "    \n",
    "    # get the base model\n",
    "    x = base_model(inputs)\n",
    "\n",
    "    # connect the output Dense layer for regression\n",
    "    wine_quality = Dense(units='1', name='wine_quality')(x)\n",
    "\n",
    "    # connect the output Dense layer for classification. this will use a sigmoid activation.\n",
    "    wine_type = Dense(units='1', activation='sigmoid', name='wine_type')(x)\n",
    "\n",
    "    # define the model using the input and output layers\n",
    "    model = Model(inputs=inputs, outputs=[wine_quality, wine_type])\n",
    "\n",
    "    return model"
   ]
  },
  {
   "cell_type": "code",
   "execution_count": 60,
   "metadata": {
    "deletable": false,
    "editable": false,
    "nbgrader": {
     "cell_type": "code",
     "checksum": "89cbf89d8ab5e2e59ecf7f63f517520a",
     "grade": true,
     "grade_id": "cell-40d050f855c817d1",
     "locked": true,
     "points": 1,
     "schema_version": 3,
     "solution": false,
     "task": false
    }
   },
   "outputs": [
    {
     "name": "stdout",
     "output_type": "stream",
     "text": [
      "\u001b[92m All public tests passed\n"
     ]
    }
   ],
   "source": [
    "utils.test_final_model(final_model)"
   ]
  },
  {
   "cell_type": "markdown",
   "metadata": {
    "colab_type": "text",
    "id": "5R0BMTsltZyu"
   },
   "source": [
    "## Compiling the Model\n",
    "\n",
    "Next, compile the model. When setting the loss parameter of `model.compile`, you're setting the loss for each of the two outputs (wine quality and wine type).\n",
    "\n",
    "To set more than one loss, use a dictionary of key-value pairs.\n",
    "- You can look at the docs for the losses [here](https://www.tensorflow.org/api_docs/python/tf/keras/losses#functions).\n",
    "    - **Note**: For the desired spelling, please look at the \"Functions\" section of the documentation and not the \"classes\" section on that same page.\n",
    "- wine_type: Since you will be performing binary classification on wine type, you should use the binary crossentropy loss function for it.  Please pass this in as a string.  \n",
    "  - **Hint**, this should be all lowercase.  In the documentation, you'll see this under the \"Functions\" section, not the \"Classes\" section.\n",
    "- wine_quality: since this is a regression output, use the mean squared error.  Please pass it in as a string, all lowercase.\n",
    "  - **Hint**: You may notice that there are two aliases for mean squared error.  Please use the shorter name.\n",
    "\n",
    "\n",
    "You will also set the metric for each of the two outputs.  Again, to set metrics for two or more outputs, use a dictionary with key value pairs.\n",
    "- The metrics documentation is linked [here](https://www.tensorflow.org/api_docs/python/tf/keras/metrics).\n",
    "- For the wine type, please set it to accuracy as a string, all lowercase.\n",
    "- For wine quality, please use the root mean squared error.  Instead of a string, you'll set it to an instance of the class [RootMeanSquaredError](https://www.tensorflow.org/api_docs/python/tf/keras/metrics/RootMeanSquaredError), which belongs to the tf.keras.metrics module.\n",
    "\n",
    "**Note**: If you see the error message \n",
    ">Exception: wine quality loss function is incorrect.\n",
    "\n",
    "- Please also check your other losses and metrics, as the error may be caused by the other three key-value pairs and not the wine quality loss."
   ]
  },
  {
   "cell_type": "code",
   "execution_count": 62,
   "metadata": {
    "colab": {},
    "colab_type": "code",
    "deletable": false,
    "id": "LK11duUbUjmh",
    "nbgrader": {
     "cell_type": "code",
     "checksum": "22f45067ca69eb2ccadb43874dbcc27b",
     "grade": false,
     "grade_id": "cell-81afdc4dcca51d5e",
     "locked": false,
     "schema_version": 3,
     "solution": true,
     "task": false
    }
   },
   "outputs": [],
   "source": [
    "# Please uncomment all lines in this cell and replace those marked with `# YOUR CODE HERE`.\n",
    "# You can select all lines in this code cell with Ctrl+A (Windows/Linux) or Cmd+A (Mac), then press Ctrl+/ (Windows/Linux) or Cmd+/ (Mac) to uncomment.\n",
    "\n",
    "\n",
    "\n",
    "inputs = tf.keras.layers.Input(shape=(11,))\n",
    "rms = tf.keras.optimizers.RMSprop(lr=0.0001)\n",
    "model = final_model(inputs)\n",
    "\n",
    "model.compile(optimizer=rms, \n",
    "              loss = {'wine_type' : 'binary_crossentropy',\n",
    "                      'wine_quality' : 'mse'\n",
    "                     },\n",
    "              metrics = {'wine_type' : 'accuracy',\n",
    "                         'wine_quality': tf.keras.metrics.RootMeanSquaredError()\n",
    "                       }\n",
    "             )\n"
   ]
  },
  {
   "cell_type": "code",
   "execution_count": 63,
   "metadata": {
    "deletable": false,
    "editable": false,
    "nbgrader": {
     "cell_type": "code",
     "checksum": "88e02238ea5e456ff65e835cc8158054",
     "grade": true,
     "grade_id": "cell-2eeeba02391c4632",
     "locked": true,
     "points": 1,
     "schema_version": 3,
     "solution": false,
     "task": false
    }
   },
   "outputs": [
    {
     "name": "stdout",
     "output_type": "stream",
     "text": [
      "\u001b[92m All public tests passed\n"
     ]
    }
   ],
   "source": [
    "utils.test_model_compile(model)"
   ]
  },
  {
   "cell_type": "markdown",
   "metadata": {
    "colab_type": "text",
    "id": "90MpAMpWuKm-"
   },
   "source": [
    "## Training the Model\n",
    "\n",
    "Fit the model to the training inputs and outputs. \n",
    "- Check the documentation for [model.fit](https://www.tensorflow.org/api_docs/python/tf/keras/Model#fit).\n",
    "- Remember to use the normalized training set as inputs. \n",
    "- For the validation data, please use the normalized validation set."
   ]
  },
  {
   "cell_type": "code",
   "execution_count": 66,
   "metadata": {
    "colab": {},
    "colab_type": "code",
    "deletable": false,
    "id": "_eiZkle4XwiY",
    "nbgrader": {
     "cell_type": "code",
     "checksum": "2ca7664be03bfd6fd3651ae44d17b793",
     "grade": false,
     "grade_id": "cell-0bb56262896f6680",
     "locked": false,
     "schema_version": 3,
     "solution": true,
     "task": false
    }
   },
   "outputs": [
    {
     "name": "stdout",
     "output_type": "stream",
     "text": [
      "Train on 3155 samples, validate on 789 samples\n",
      "Epoch 1/180\n",
      "3155/3155 - 0s - loss: 0.2593 - wine_quality_loss: 0.2451 - wine_type_loss: 0.0140 - wine_quality_root_mean_squared_error: 0.4953 - wine_type_accuracy: 0.9968 - val_loss: 0.3326 - val_wine_quality_loss: 0.3057 - val_wine_type_loss: 0.0258 - val_wine_quality_root_mean_squared_error: 0.5536 - val_wine_type_accuracy: 0.9949\n",
      "Epoch 2/180\n",
      "3155/3155 - 0s - loss: 0.2591 - wine_quality_loss: 0.2449 - wine_type_loss: 0.0148 - wine_quality_root_mean_squared_error: 0.4950 - wine_type_accuracy: 0.9968 - val_loss: 0.3309 - val_wine_quality_loss: 0.3041 - val_wine_type_loss: 0.0258 - val_wine_quality_root_mean_squared_error: 0.5520 - val_wine_type_accuracy: 0.9949\n",
      "Epoch 3/180\n",
      "3155/3155 - 0s - loss: 0.2577 - wine_quality_loss: 0.2436 - wine_type_loss: 0.0139 - wine_quality_root_mean_squared_error: 0.4937 - wine_type_accuracy: 0.9968 - val_loss: 0.3328 - val_wine_quality_loss: 0.3062 - val_wine_type_loss: 0.0258 - val_wine_quality_root_mean_squared_error: 0.5538 - val_wine_type_accuracy: 0.9949\n",
      "Epoch 4/180\n",
      "3155/3155 - 0s - loss: 0.2590 - wine_quality_loss: 0.2448 - wine_type_loss: 0.0139 - wine_quality_root_mean_squared_error: 0.4951 - wine_type_accuracy: 0.9968 - val_loss: 0.3295 - val_wine_quality_loss: 0.3031 - val_wine_type_loss: 0.0257 - val_wine_quality_root_mean_squared_error: 0.5508 - val_wine_type_accuracy: 0.9949\n",
      "Epoch 5/180\n",
      "3155/3155 - 0s - loss: 0.2582 - wine_quality_loss: 0.2445 - wine_type_loss: 0.0138 - wine_quality_root_mean_squared_error: 0.4944 - wine_type_accuracy: 0.9968 - val_loss: 0.3355 - val_wine_quality_loss: 0.3088 - val_wine_type_loss: 0.0259 - val_wine_quality_root_mean_squared_error: 0.5561 - val_wine_type_accuracy: 0.9949\n",
      "Epoch 6/180\n",
      "3155/3155 - 0s - loss: 0.2578 - wine_quality_loss: 0.2440 - wine_type_loss: 0.0137 - wine_quality_root_mean_squared_error: 0.4940 - wine_type_accuracy: 0.9968 - val_loss: 0.3439 - val_wine_quality_loss: 0.3173 - val_wine_type_loss: 0.0259 - val_wine_quality_root_mean_squared_error: 0.5636 - val_wine_type_accuracy: 0.9949\n",
      "Epoch 7/180\n",
      "3155/3155 - 0s - loss: 0.2571 - wine_quality_loss: 0.2430 - wine_type_loss: 0.0137 - wine_quality_root_mean_squared_error: 0.4933 - wine_type_accuracy: 0.9971 - val_loss: 0.3351 - val_wine_quality_loss: 0.3086 - val_wine_type_loss: 0.0259 - val_wine_quality_root_mean_squared_error: 0.5558 - val_wine_type_accuracy: 0.9949\n",
      "Epoch 8/180\n",
      "3155/3155 - 0s - loss: 0.2561 - wine_quality_loss: 0.2426 - wine_type_loss: 0.0137 - wine_quality_root_mean_squared_error: 0.4924 - wine_type_accuracy: 0.9968 - val_loss: 0.3271 - val_wine_quality_loss: 0.3004 - val_wine_type_loss: 0.0257 - val_wine_quality_root_mean_squared_error: 0.5486 - val_wine_type_accuracy: 0.9949\n",
      "Epoch 9/180\n",
      "3155/3155 - 0s - loss: 0.2564 - wine_quality_loss: 0.2428 - wine_type_loss: 0.0135 - wine_quality_root_mean_squared_error: 0.4928 - wine_type_accuracy: 0.9968 - val_loss: 0.3424 - val_wine_quality_loss: 0.3154 - val_wine_type_loss: 0.0259 - val_wine_quality_root_mean_squared_error: 0.5623 - val_wine_type_accuracy: 0.9949\n",
      "Epoch 10/180\n",
      "3155/3155 - 0s - loss: 0.2568 - wine_quality_loss: 0.2436 - wine_type_loss: 0.0135 - wine_quality_root_mean_squared_error: 0.4933 - wine_type_accuracy: 0.9968 - val_loss: 0.3334 - val_wine_quality_loss: 0.3067 - val_wine_type_loss: 0.0260 - val_wine_quality_root_mean_squared_error: 0.5542 - val_wine_type_accuracy: 0.9949\n",
      "Epoch 11/180\n",
      "3155/3155 - 0s - loss: 0.2558 - wine_quality_loss: 0.2419 - wine_type_loss: 0.0134 - wine_quality_root_mean_squared_error: 0.4923 - wine_type_accuracy: 0.9971 - val_loss: 0.3316 - val_wine_quality_loss: 0.3049 - val_wine_type_loss: 0.0259 - val_wine_quality_root_mean_squared_error: 0.5526 - val_wine_type_accuracy: 0.9949\n",
      "Epoch 12/180\n",
      "3155/3155 - 0s - loss: 0.2555 - wine_quality_loss: 0.2420 - wine_type_loss: 0.0134 - wine_quality_root_mean_squared_error: 0.4920 - wine_type_accuracy: 0.9971 - val_loss: 0.3376 - val_wine_quality_loss: 0.3108 - val_wine_type_loss: 0.0258 - val_wine_quality_root_mean_squared_error: 0.5581 - val_wine_type_accuracy: 0.9949\n",
      "Epoch 13/180\n",
      "3155/3155 - 0s - loss: 0.2558 - wine_quality_loss: 0.2427 - wine_type_loss: 0.0133 - wine_quality_root_mean_squared_error: 0.4924 - wine_type_accuracy: 0.9968 - val_loss: 0.3295 - val_wine_quality_loss: 0.3029 - val_wine_type_loss: 0.0259 - val_wine_quality_root_mean_squared_error: 0.5507 - val_wine_type_accuracy: 0.9949\n",
      "Epoch 14/180\n",
      "3155/3155 - 0s - loss: 0.2537 - wine_quality_loss: 0.2405 - wine_type_loss: 0.0133 - wine_quality_root_mean_squared_error: 0.4903 - wine_type_accuracy: 0.9971 - val_loss: 0.3275 - val_wine_quality_loss: 0.3008 - val_wine_type_loss: 0.0258 - val_wine_quality_root_mean_squared_error: 0.5489 - val_wine_type_accuracy: 0.9949\n",
      "Epoch 15/180\n",
      "3155/3155 - 0s - loss: 0.2530 - wine_quality_loss: 0.2396 - wine_type_loss: 0.0132 - wine_quality_root_mean_squared_error: 0.4897 - wine_type_accuracy: 0.9971 - val_loss: 0.3352 - val_wine_quality_loss: 0.3085 - val_wine_type_loss: 0.0257 - val_wine_quality_root_mean_squared_error: 0.5560 - val_wine_type_accuracy: 0.9949\n",
      "Epoch 16/180\n",
      "3155/3155 - 0s - loss: 0.2537 - wine_quality_loss: 0.2406 - wine_type_loss: 0.0132 - wine_quality_root_mean_squared_error: 0.4904 - wine_type_accuracy: 0.9971 - val_loss: 0.3336 - val_wine_quality_loss: 0.3069 - val_wine_type_loss: 0.0257 - val_wine_quality_root_mean_squared_error: 0.5545 - val_wine_type_accuracy: 0.9949\n",
      "Epoch 17/180\n",
      "3155/3155 - 0s - loss: 0.2532 - wine_quality_loss: 0.2401 - wine_type_loss: 0.0131 - wine_quality_root_mean_squared_error: 0.4900 - wine_type_accuracy: 0.9971 - val_loss: 0.3346 - val_wine_quality_loss: 0.3080 - val_wine_type_loss: 0.0258 - val_wine_quality_root_mean_squared_error: 0.5555 - val_wine_type_accuracy: 0.9949\n",
      "Epoch 18/180\n",
      "3155/3155 - 0s - loss: 0.2530 - wine_quality_loss: 0.2407 - wine_type_loss: 0.0130 - wine_quality_root_mean_squared_error: 0.4898 - wine_type_accuracy: 0.9968 - val_loss: 0.3287 - val_wine_quality_loss: 0.3019 - val_wine_type_loss: 0.0258 - val_wine_quality_root_mean_squared_error: 0.5501 - val_wine_type_accuracy: 0.9949\n",
      "Epoch 19/180\n",
      "3155/3155 - 0s - loss: 0.2515 - wine_quality_loss: 0.2384 - wine_type_loss: 0.0131 - wine_quality_root_mean_squared_error: 0.4883 - wine_type_accuracy: 0.9971 - val_loss: 0.3466 - val_wine_quality_loss: 0.3203 - val_wine_type_loss: 0.0258 - val_wine_quality_root_mean_squared_error: 0.5661 - val_wine_type_accuracy: 0.9949\n",
      "Epoch 20/180\n",
      "3155/3155 - 0s - loss: 0.2527 - wine_quality_loss: 0.2396 - wine_type_loss: 0.0130 - wine_quality_root_mean_squared_error: 0.4895 - wine_type_accuracy: 0.9971 - val_loss: 0.3287 - val_wine_quality_loss: 0.3019 - val_wine_type_loss: 0.0258 - val_wine_quality_root_mean_squared_error: 0.5500 - val_wine_type_accuracy: 0.9949\n",
      "Epoch 21/180\n",
      "3155/3155 - 0s - loss: 0.2528 - wine_quality_loss: 0.2397 - wine_type_loss: 0.0129 - wine_quality_root_mean_squared_error: 0.4898 - wine_type_accuracy: 0.9971 - val_loss: 0.3322 - val_wine_quality_loss: 0.3055 - val_wine_type_loss: 0.0259 - val_wine_quality_root_mean_squared_error: 0.5532 - val_wine_type_accuracy: 0.9949\n",
      "Epoch 22/180\n",
      "3155/3155 - 0s - loss: 0.2521 - wine_quality_loss: 0.2392 - wine_type_loss: 0.0128 - wine_quality_root_mean_squared_error: 0.4892 - wine_type_accuracy: 0.9971 - val_loss: 0.3344 - val_wine_quality_loss: 0.3076 - val_wine_type_loss: 0.0260 - val_wine_quality_root_mean_squared_error: 0.5550 - val_wine_type_accuracy: 0.9949\n",
      "Epoch 23/180\n",
      "3155/3155 - 0s - loss: 0.2514 - wine_quality_loss: 0.2386 - wine_type_loss: 0.0128 - wine_quality_root_mean_squared_error: 0.4884 - wine_type_accuracy: 0.9971 - val_loss: 0.3310 - val_wine_quality_loss: 0.3043 - val_wine_type_loss: 0.0259 - val_wine_quality_root_mean_squared_error: 0.5521 - val_wine_type_accuracy: 0.9949\n",
      "Epoch 24/180\n",
      "3155/3155 - 0s - loss: 0.2516 - wine_quality_loss: 0.2388 - wine_type_loss: 0.0127 - wine_quality_root_mean_squared_error: 0.4887 - wine_type_accuracy: 0.9971 - val_loss: 0.3333 - val_wine_quality_loss: 0.3065 - val_wine_type_loss: 0.0258 - val_wine_quality_root_mean_squared_error: 0.5542 - val_wine_type_accuracy: 0.9949\n",
      "Epoch 25/180\n",
      "3155/3155 - 0s - loss: 0.2503 - wine_quality_loss: 0.2376 - wine_type_loss: 0.0127 - wine_quality_root_mean_squared_error: 0.4874 - wine_type_accuracy: 0.9971 - val_loss: 0.3284 - val_wine_quality_loss: 0.3016 - val_wine_type_loss: 0.0258 - val_wine_quality_root_mean_squared_error: 0.5497 - val_wine_type_accuracy: 0.9949\n",
      "Epoch 26/180\n",
      "3155/3155 - 0s - loss: 0.2501 - wine_quality_loss: 0.2379 - wine_type_loss: 0.0126 - wine_quality_root_mean_squared_error: 0.4873 - wine_type_accuracy: 0.9971 - val_loss: 0.3326 - val_wine_quality_loss: 0.3057 - val_wine_type_loss: 0.0259 - val_wine_quality_root_mean_squared_error: 0.5535 - val_wine_type_accuracy: 0.9949\n",
      "Epoch 27/180\n",
      "3155/3155 - 0s - loss: 0.2501 - wine_quality_loss: 0.2376 - wine_type_loss: 0.0126 - wine_quality_root_mean_squared_error: 0.4873 - wine_type_accuracy: 0.9971 - val_loss: 0.3345 - val_wine_quality_loss: 0.3077 - val_wine_type_loss: 0.0260 - val_wine_quality_root_mean_squared_error: 0.5551 - val_wine_type_accuracy: 0.9949\n",
      "Epoch 28/180\n",
      "3155/3155 - 0s - loss: 0.2495 - wine_quality_loss: 0.2368 - wine_type_loss: 0.0126 - wine_quality_root_mean_squared_error: 0.4867 - wine_type_accuracy: 0.9971 - val_loss: 0.3316 - val_wine_quality_loss: 0.3047 - val_wine_type_loss: 0.0259 - val_wine_quality_root_mean_squared_error: 0.5526 - val_wine_type_accuracy: 0.9949\n",
      "Epoch 29/180\n",
      "3155/3155 - 0s - loss: 0.2490 - wine_quality_loss: 0.2364 - wine_type_loss: 0.0125 - wine_quality_root_mean_squared_error: 0.4863 - wine_type_accuracy: 0.9971 - val_loss: 0.3375 - val_wine_quality_loss: 0.3106 - val_wine_type_loss: 0.0258 - val_wine_quality_root_mean_squared_error: 0.5580 - val_wine_type_accuracy: 0.9949\n",
      "Epoch 30/180\n",
      "3155/3155 - 0s - loss: 0.2494 - wine_quality_loss: 0.2366 - wine_type_loss: 0.0124 - wine_quality_root_mean_squared_error: 0.4867 - wine_type_accuracy: 0.9971 - val_loss: 0.3284 - val_wine_quality_loss: 0.3014 - val_wine_type_loss: 0.0259 - val_wine_quality_root_mean_squared_error: 0.5497 - val_wine_type_accuracy: 0.9949\n",
      "Epoch 31/180\n",
      "3155/3155 - 0s - loss: 0.2489 - wine_quality_loss: 0.2362 - wine_type_loss: 0.0124 - wine_quality_root_mean_squared_error: 0.4863 - wine_type_accuracy: 0.9971 - val_loss: 0.3348 - val_wine_quality_loss: 0.3081 - val_wine_type_loss: 0.0259 - val_wine_quality_root_mean_squared_error: 0.5555 - val_wine_type_accuracy: 0.9949\n",
      "Epoch 32/180\n",
      "3155/3155 - 0s - loss: 0.2479 - wine_quality_loss: 0.2355 - wine_type_loss: 0.0123 - wine_quality_root_mean_squared_error: 0.4854 - wine_type_accuracy: 0.9971 - val_loss: 0.3341 - val_wine_quality_loss: 0.3072 - val_wine_type_loss: 0.0260 - val_wine_quality_root_mean_squared_error: 0.5548 - val_wine_type_accuracy: 0.9949\n",
      "Epoch 33/180\n",
      "3155/3155 - 0s - loss: 0.2474 - wine_quality_loss: 0.2347 - wine_type_loss: 0.0123 - wine_quality_root_mean_squared_error: 0.4848 - wine_type_accuracy: 0.9971 - val_loss: 0.3475 - val_wine_quality_loss: 0.3206 - val_wine_type_loss: 0.0260 - val_wine_quality_root_mean_squared_error: 0.5667 - val_wine_type_accuracy: 0.9949\n",
      "Epoch 34/180\n",
      "3155/3155 - 0s - loss: 0.2473 - wine_quality_loss: 0.2352 - wine_type_loss: 0.0121 - wine_quality_root_mean_squared_error: 0.4848 - wine_type_accuracy: 0.9971 - val_loss: 0.3325 - val_wine_quality_loss: 0.3055 - val_wine_type_loss: 0.0260 - val_wine_quality_root_mean_squared_error: 0.5532 - val_wine_type_accuracy: 0.9949\n",
      "Epoch 35/180\n",
      "3155/3155 - 0s - loss: 0.2469 - wine_quality_loss: 0.2349 - wine_type_loss: 0.0121 - wine_quality_root_mean_squared_error: 0.4844 - wine_type_accuracy: 0.9971 - val_loss: 0.3350 - val_wine_quality_loss: 0.3083 - val_wine_type_loss: 0.0259 - val_wine_quality_root_mean_squared_error: 0.5556 - val_wine_type_accuracy: 0.9949\n",
      "Epoch 36/180\n",
      "3155/3155 - 0s - loss: 0.2466 - wine_quality_loss: 0.2346 - wine_type_loss: 0.0128 - wine_quality_root_mean_squared_error: 0.4842 - wine_type_accuracy: 0.9971 - val_loss: 0.3343 - val_wine_quality_loss: 0.3075 - val_wine_type_loss: 0.0259 - val_wine_quality_root_mean_squared_error: 0.5550 - val_wine_type_accuracy: 0.9949\n",
      "Epoch 37/180\n",
      "3155/3155 - 0s - loss: 0.2470 - wine_quality_loss: 0.2351 - wine_type_loss: 0.0120 - wine_quality_root_mean_squared_error: 0.4847 - wine_type_accuracy: 0.9971 - val_loss: 0.3328 - val_wine_quality_loss: 0.3061 - val_wine_type_loss: 0.0260 - val_wine_quality_root_mean_squared_error: 0.5536 - val_wine_type_accuracy: 0.9949\n",
      "Epoch 38/180\n",
      "3155/3155 - 0s - loss: 0.2453 - wine_quality_loss: 0.2333 - wine_type_loss: 0.0120 - wine_quality_root_mean_squared_error: 0.4829 - wine_type_accuracy: 0.9971 - val_loss: 0.3342 - val_wine_quality_loss: 0.3075 - val_wine_type_loss: 0.0261 - val_wine_quality_root_mean_squared_error: 0.5548 - val_wine_type_accuracy: 0.9949\n",
      "Epoch 39/180\n",
      "3155/3155 - 0s - loss: 0.2456 - wine_quality_loss: 0.2334 - wine_type_loss: 0.0119 - wine_quality_root_mean_squared_error: 0.4833 - wine_type_accuracy: 0.9971 - val_loss: 0.3321 - val_wine_quality_loss: 0.3052 - val_wine_type_loss: 0.0259 - val_wine_quality_root_mean_squared_error: 0.5531 - val_wine_type_accuracy: 0.9949\n",
      "Epoch 40/180\n",
      "3155/3155 - 0s - loss: 0.2456 - wine_quality_loss: 0.2332 - wine_type_loss: 0.0119 - wine_quality_root_mean_squared_error: 0.4833 - wine_type_accuracy: 0.9971 - val_loss: 0.3331 - val_wine_quality_loss: 0.3065 - val_wine_type_loss: 0.0259 - val_wine_quality_root_mean_squared_error: 0.5539 - val_wine_type_accuracy: 0.9949\n",
      "Epoch 41/180\n",
      "3155/3155 - 0s - loss: 0.2452 - wine_quality_loss: 0.2329 - wine_type_loss: 0.0119 - wine_quality_root_mean_squared_error: 0.4829 - wine_type_accuracy: 0.9971 - val_loss: 0.3353 - val_wine_quality_loss: 0.3083 - val_wine_type_loss: 0.0260 - val_wine_quality_root_mean_squared_error: 0.5558 - val_wine_type_accuracy: 0.9949\n",
      "Epoch 42/180\n",
      "3155/3155 - 0s - loss: 0.2448 - wine_quality_loss: 0.2326 - wine_type_loss: 0.0118 - wine_quality_root_mean_squared_error: 0.4826 - wine_type_accuracy: 0.9971 - val_loss: 0.3319 - val_wine_quality_loss: 0.3050 - val_wine_type_loss: 0.0259 - val_wine_quality_root_mean_squared_error: 0.5528 - val_wine_type_accuracy: 0.9949\n",
      "Epoch 43/180\n",
      "3155/3155 - 0s - loss: 0.2446 - wine_quality_loss: 0.2327 - wine_type_loss: 0.0118 - wine_quality_root_mean_squared_error: 0.4825 - wine_type_accuracy: 0.9971 - val_loss: 0.3314 - val_wine_quality_loss: 0.3045 - val_wine_type_loss: 0.0259 - val_wine_quality_root_mean_squared_error: 0.5524 - val_wine_type_accuracy: 0.9949\n",
      "Epoch 44/180\n",
      "3155/3155 - 0s - loss: 0.2428 - wine_quality_loss: 0.2312 - wine_type_loss: 0.0117 - wine_quality_root_mean_squared_error: 0.4807 - wine_type_accuracy: 0.9971 - val_loss: 0.3341 - val_wine_quality_loss: 0.3072 - val_wine_type_loss: 0.0260 - val_wine_quality_root_mean_squared_error: 0.5547 - val_wine_type_accuracy: 0.9949\n",
      "Epoch 45/180\n",
      "3155/3155 - 0s - loss: 0.2426 - wine_quality_loss: 0.2310 - wine_type_loss: 0.0117 - wine_quality_root_mean_squared_error: 0.4804 - wine_type_accuracy: 0.9971 - val_loss: 0.3324 - val_wine_quality_loss: 0.3054 - val_wine_type_loss: 0.0260 - val_wine_quality_root_mean_squared_error: 0.5532 - val_wine_type_accuracy: 0.9949\n",
      "Epoch 46/180\n",
      "3155/3155 - 0s - loss: 0.2429 - wine_quality_loss: 0.2312 - wine_type_loss: 0.0116 - wine_quality_root_mean_squared_error: 0.4809 - wine_type_accuracy: 0.9971 - val_loss: 0.3466 - val_wine_quality_loss: 0.3202 - val_wine_type_loss: 0.0260 - val_wine_quality_root_mean_squared_error: 0.5659 - val_wine_type_accuracy: 0.9949\n",
      "Epoch 47/180\n",
      "3155/3155 - 0s - loss: 0.2429 - wine_quality_loss: 0.2314 - wine_type_loss: 0.0115 - wine_quality_root_mean_squared_error: 0.4810 - wine_type_accuracy: 0.9971 - val_loss: 0.3316 - val_wine_quality_loss: 0.3045 - val_wine_type_loss: 0.0262 - val_wine_quality_root_mean_squared_error: 0.5523 - val_wine_type_accuracy: 0.9949\n",
      "Epoch 48/180\n",
      "3155/3155 - 0s - loss: 0.2431 - wine_quality_loss: 0.2311 - wine_type_loss: 0.0116 - wine_quality_root_mean_squared_error: 0.4812 - wine_type_accuracy: 0.9971 - val_loss: 0.3340 - val_wine_quality_loss: 0.3070 - val_wine_type_loss: 0.0261 - val_wine_quality_root_mean_squared_error: 0.5546 - val_wine_type_accuracy: 0.9949\n",
      "Epoch 49/180\n",
      "3155/3155 - 0s - loss: 0.2417 - wine_quality_loss: 0.2307 - wine_type_loss: 0.0114 - wine_quality_root_mean_squared_error: 0.4798 - wine_type_accuracy: 0.9971 - val_loss: 0.3348 - val_wine_quality_loss: 0.3080 - val_wine_type_loss: 0.0263 - val_wine_quality_root_mean_squared_error: 0.5551 - val_wine_type_accuracy: 0.9949\n",
      "Epoch 50/180\n",
      "3155/3155 - 0s - loss: 0.2418 - wine_quality_loss: 0.2304 - wine_type_loss: 0.0115 - wine_quality_root_mean_squared_error: 0.4798 - wine_type_accuracy: 0.9971 - val_loss: 0.3322 - val_wine_quality_loss: 0.3053 - val_wine_type_loss: 0.0262 - val_wine_quality_root_mean_squared_error: 0.5528 - val_wine_type_accuracy: 0.9949\n",
      "Epoch 51/180\n",
      "3155/3155 - 0s - loss: 0.2420 - wine_quality_loss: 0.2306 - wine_type_loss: 0.0114 - wine_quality_root_mean_squared_error: 0.4801 - wine_type_accuracy: 0.9971 - val_loss: 0.3430 - val_wine_quality_loss: 0.3159 - val_wine_type_loss: 0.0261 - val_wine_quality_root_mean_squared_error: 0.5626 - val_wine_type_accuracy: 0.9949\n",
      "Epoch 52/180\n",
      "3155/3155 - 0s - loss: 0.2421 - wine_quality_loss: 0.2311 - wine_type_loss: 0.0114 - wine_quality_root_mean_squared_error: 0.4802 - wine_type_accuracy: 0.9971 - val_loss: 0.3461 - val_wine_quality_loss: 0.3188 - val_wine_type_loss: 0.0262 - val_wine_quality_root_mean_squared_error: 0.5652 - val_wine_type_accuracy: 0.9949\n",
      "Epoch 53/180\n",
      "3155/3155 - 0s - loss: 0.2415 - wine_quality_loss: 0.2300 - wine_type_loss: 0.0113 - wine_quality_root_mean_squared_error: 0.4797 - wine_type_accuracy: 0.9971 - val_loss: 0.3366 - val_wine_quality_loss: 0.3094 - val_wine_type_loss: 0.0263 - val_wine_quality_root_mean_squared_error: 0.5567 - val_wine_type_accuracy: 0.9949\n",
      "Epoch 54/180\n",
      "3155/3155 - 0s - loss: 0.2418 - wine_quality_loss: 0.2306 - wine_type_loss: 0.0114 - wine_quality_root_mean_squared_error: 0.4801 - wine_type_accuracy: 0.9971 - val_loss: 0.3350 - val_wine_quality_loss: 0.3076 - val_wine_type_loss: 0.0262 - val_wine_quality_root_mean_squared_error: 0.5553 - val_wine_type_accuracy: 0.9949\n",
      "Epoch 55/180\n",
      "3155/3155 - 0s - loss: 0.2405 - wine_quality_loss: 0.2300 - wine_type_loss: 0.0112 - wine_quality_root_mean_squared_error: 0.4788 - wine_type_accuracy: 0.9971 - val_loss: 0.3358 - val_wine_quality_loss: 0.3087 - val_wine_type_loss: 0.0262 - val_wine_quality_root_mean_squared_error: 0.5561 - val_wine_type_accuracy: 0.9949\n",
      "Epoch 56/180\n",
      "3155/3155 - 0s - loss: 0.2388 - wine_quality_loss: 0.2275 - wine_type_loss: 0.0112 - wine_quality_root_mean_squared_error: 0.4771 - wine_type_accuracy: 0.9971 - val_loss: 0.3399 - val_wine_quality_loss: 0.3130 - val_wine_type_loss: 0.0262 - val_wine_quality_root_mean_squared_error: 0.5598 - val_wine_type_accuracy: 0.9949\n",
      "Epoch 57/180\n",
      "3155/3155 - 0s - loss: 0.2398 - wine_quality_loss: 0.2283 - wine_type_loss: 0.0111 - wine_quality_root_mean_squared_error: 0.4781 - wine_type_accuracy: 0.9971 - val_loss: 0.3380 - val_wine_quality_loss: 0.3107 - val_wine_type_loss: 0.0264 - val_wine_quality_root_mean_squared_error: 0.5579 - val_wine_type_accuracy: 0.9949\n",
      "Epoch 58/180\n",
      "3155/3155 - 0s - loss: 0.2396 - wine_quality_loss: 0.2282 - wine_type_loss: 0.0110 - wine_quality_root_mean_squared_error: 0.4780 - wine_type_accuracy: 0.9971 - val_loss: 0.3366 - val_wine_quality_loss: 0.3094 - val_wine_type_loss: 0.0265 - val_wine_quality_root_mean_squared_error: 0.5565 - val_wine_type_accuracy: 0.9949\n",
      "Epoch 59/180\n",
      "3155/3155 - 0s - loss: 0.2397 - wine_quality_loss: 0.2285 - wine_type_loss: 0.0110 - wine_quality_root_mean_squared_error: 0.4782 - wine_type_accuracy: 0.9971 - val_loss: 0.3328 - val_wine_quality_loss: 0.3054 - val_wine_type_loss: 0.0265 - val_wine_quality_root_mean_squared_error: 0.5531 - val_wine_type_accuracy: 0.9949\n",
      "Epoch 60/180\n",
      "3155/3155 - 0s - loss: 0.2385 - wine_quality_loss: 0.2272 - wine_type_loss: 0.0110 - wine_quality_root_mean_squared_error: 0.4769 - wine_type_accuracy: 0.9971 - val_loss: 0.3326 - val_wine_quality_loss: 0.3054 - val_wine_type_loss: 0.0264 - val_wine_quality_root_mean_squared_error: 0.5530 - val_wine_type_accuracy: 0.9949\n",
      "Epoch 61/180\n",
      "3155/3155 - 0s - loss: 0.2385 - wine_quality_loss: 0.2278 - wine_type_loss: 0.0109 - wine_quality_root_mean_squared_error: 0.4770 - wine_type_accuracy: 0.9971 - val_loss: 0.3416 - val_wine_quality_loss: 0.3144 - val_wine_type_loss: 0.0265 - val_wine_quality_root_mean_squared_error: 0.5610 - val_wine_type_accuracy: 0.9949\n",
      "Epoch 62/180\n",
      "3155/3155 - 0s - loss: 0.2381 - wine_quality_loss: 0.2275 - wine_type_loss: 0.0109 - wine_quality_root_mean_squared_error: 0.4766 - wine_type_accuracy: 0.9971 - val_loss: 0.3338 - val_wine_quality_loss: 0.3066 - val_wine_type_loss: 0.0264 - val_wine_quality_root_mean_squared_error: 0.5541 - val_wine_type_accuracy: 0.9949\n",
      "Epoch 63/180\n",
      "3155/3155 - 0s - loss: 0.2378 - wine_quality_loss: 0.2272 - wine_type_loss: 0.0109 - wine_quality_root_mean_squared_error: 0.4764 - wine_type_accuracy: 0.9971 - val_loss: 0.3362 - val_wine_quality_loss: 0.3090 - val_wine_type_loss: 0.0265 - val_wine_quality_root_mean_squared_error: 0.5562 - val_wine_type_accuracy: 0.9949\n",
      "Epoch 64/180\n",
      "3155/3155 - 0s - loss: 0.2371 - wine_quality_loss: 0.2262 - wine_type_loss: 0.0108 - wine_quality_root_mean_squared_error: 0.4756 - wine_type_accuracy: 0.9971 - val_loss: 0.3391 - val_wine_quality_loss: 0.3117 - val_wine_type_loss: 0.0266 - val_wine_quality_root_mean_squared_error: 0.5587 - val_wine_type_accuracy: 0.9949\n",
      "Epoch 65/180\n",
      "3155/3155 - 0s - loss: 0.2381 - wine_quality_loss: 0.2275 - wine_type_loss: 0.0107 - wine_quality_root_mean_squared_error: 0.4768 - wine_type_accuracy: 0.9971 - val_loss: 0.3307 - val_wine_quality_loss: 0.3033 - val_wine_type_loss: 0.0267 - val_wine_quality_root_mean_squared_error: 0.5510 - val_wine_type_accuracy: 0.9949\n",
      "Epoch 66/180\n",
      "3155/3155 - 0s - loss: 0.2360 - wine_quality_loss: 0.2248 - wine_type_loss: 0.0107 - wine_quality_root_mean_squared_error: 0.4745 - wine_type_accuracy: 0.9971 - val_loss: 0.3342 - val_wine_quality_loss: 0.3069 - val_wine_type_loss: 0.0266 - val_wine_quality_root_mean_squared_error: 0.5543 - val_wine_type_accuracy: 0.9949\n",
      "Epoch 67/180\n",
      "3155/3155 - 0s - loss: 0.2373 - wine_quality_loss: 0.2268 - wine_type_loss: 0.0107 - wine_quality_root_mean_squared_error: 0.4760 - wine_type_accuracy: 0.9971 - val_loss: 0.3361 - val_wine_quality_loss: 0.3088 - val_wine_type_loss: 0.0265 - val_wine_quality_root_mean_squared_error: 0.5561 - val_wine_type_accuracy: 0.9949\n",
      "Epoch 68/180\n",
      "3155/3155 - 0s - loss: 0.2362 - wine_quality_loss: 0.2256 - wine_type_loss: 0.0112 - wine_quality_root_mean_squared_error: 0.4748 - wine_type_accuracy: 0.9971 - val_loss: 0.3364 - val_wine_quality_loss: 0.3086 - val_wine_type_loss: 0.0267 - val_wine_quality_root_mean_squared_error: 0.5562 - val_wine_type_accuracy: 0.9949\n",
      "Epoch 69/180\n",
      "3155/3155 - 0s - loss: 0.2356 - wine_quality_loss: 0.2246 - wine_type_loss: 0.0106 - wine_quality_root_mean_squared_error: 0.4743 - wine_type_accuracy: 0.9971 - val_loss: 0.3345 - val_wine_quality_loss: 0.3070 - val_wine_type_loss: 0.0267 - val_wine_quality_root_mean_squared_error: 0.5545 - val_wine_type_accuracy: 0.9949\n",
      "Epoch 70/180\n",
      "3155/3155 - 0s - loss: 0.2351 - wine_quality_loss: 0.2243 - wine_type_loss: 0.0106 - wine_quality_root_mean_squared_error: 0.4739 - wine_type_accuracy: 0.9971 - val_loss: 0.3411 - val_wine_quality_loss: 0.3135 - val_wine_type_loss: 0.0268 - val_wine_quality_root_mean_squared_error: 0.5603 - val_wine_type_accuracy: 0.9949\n",
      "Epoch 71/180\n",
      "3155/3155 - 0s - loss: 0.2355 - wine_quality_loss: 0.2251 - wine_type_loss: 0.0105 - wine_quality_root_mean_squared_error: 0.4743 - wine_type_accuracy: 0.9971 - val_loss: 0.3343 - val_wine_quality_loss: 0.3066 - val_wine_type_loss: 0.0267 - val_wine_quality_root_mean_squared_error: 0.5542 - val_wine_type_accuracy: 0.9949\n",
      "Epoch 72/180\n",
      "3155/3155 - 0s - loss: 0.2360 - wine_quality_loss: 0.2252 - wine_type_loss: 0.0105 - wine_quality_root_mean_squared_error: 0.4749 - wine_type_accuracy: 0.9971 - val_loss: 0.3335 - val_wine_quality_loss: 0.3060 - val_wine_type_loss: 0.0268 - val_wine_quality_root_mean_squared_error: 0.5535 - val_wine_type_accuracy: 0.9949\n",
      "Epoch 73/180\n",
      "3155/3155 - 0s - loss: 0.2354 - wine_quality_loss: 0.2246 - wine_type_loss: 0.0105 - wine_quality_root_mean_squared_error: 0.4742 - wine_type_accuracy: 0.9971 - val_loss: 0.3470 - val_wine_quality_loss: 0.3194 - val_wine_type_loss: 0.0267 - val_wine_quality_root_mean_squared_error: 0.5656 - val_wine_type_accuracy: 0.9949\n",
      "Epoch 74/180\n",
      "3155/3155 - 0s - loss: 0.2345 - wine_quality_loss: 0.2241 - wine_type_loss: 0.0104 - wine_quality_root_mean_squared_error: 0.4734 - wine_type_accuracy: 0.9971 - val_loss: 0.3399 - val_wine_quality_loss: 0.3127 - val_wine_type_loss: 0.0266 - val_wine_quality_root_mean_squared_error: 0.5594 - val_wine_type_accuracy: 0.9949\n",
      "Epoch 75/180\n",
      "3155/3155 - 0s - loss: 0.2332 - wine_quality_loss: 0.2234 - wine_type_loss: 0.0104 - wine_quality_root_mean_squared_error: 0.4720 - wine_type_accuracy: 0.9971 - val_loss: 0.3481 - val_wine_quality_loss: 0.3206 - val_wine_type_loss: 0.0267 - val_wine_quality_root_mean_squared_error: 0.5666 - val_wine_type_accuracy: 0.9949\n",
      "Epoch 76/180\n",
      "3155/3155 - 0s - loss: 0.2344 - wine_quality_loss: 0.2246 - wine_type_loss: 0.0103 - wine_quality_root_mean_squared_error: 0.4733 - wine_type_accuracy: 0.9971 - val_loss: 0.3429 - val_wine_quality_loss: 0.3155 - val_wine_type_loss: 0.0267 - val_wine_quality_root_mean_squared_error: 0.5620 - val_wine_type_accuracy: 0.9949\n",
      "Epoch 77/180\n",
      "3155/3155 - 0s - loss: 0.2331 - wine_quality_loss: 0.2229 - wine_type_loss: 0.0103 - wine_quality_root_mean_squared_error: 0.4720 - wine_type_accuracy: 0.9971 - val_loss: 0.3419 - val_wine_quality_loss: 0.3145 - val_wine_type_loss: 0.0267 - val_wine_quality_root_mean_squared_error: 0.5612 - val_wine_type_accuracy: 0.9949\n",
      "Epoch 78/180\n",
      "3155/3155 - 0s - loss: 0.2336 - wine_quality_loss: 0.2233 - wine_type_loss: 0.0102 - wine_quality_root_mean_squared_error: 0.4727 - wine_type_accuracy: 0.9971 - val_loss: 0.3410 - val_wine_quality_loss: 0.3134 - val_wine_type_loss: 0.0267 - val_wine_quality_root_mean_squared_error: 0.5603 - val_wine_type_accuracy: 0.9949\n",
      "Epoch 79/180\n",
      "3155/3155 - 0s - loss: 0.2337 - wine_quality_loss: 0.2236 - wine_type_loss: 0.0101 - wine_quality_root_mean_squared_error: 0.4728 - wine_type_accuracy: 0.9971 - val_loss: 0.3380 - val_wine_quality_loss: 0.3106 - val_wine_type_loss: 0.0267 - val_wine_quality_root_mean_squared_error: 0.5577 - val_wine_type_accuracy: 0.9949\n",
      "Epoch 80/180\n",
      "3155/3155 - 0s - loss: 0.2330 - wine_quality_loss: 0.2231 - wine_type_loss: 0.0101 - wine_quality_root_mean_squared_error: 0.4720 - wine_type_accuracy: 0.9971 - val_loss: 0.3362 - val_wine_quality_loss: 0.3089 - val_wine_type_loss: 0.0267 - val_wine_quality_root_mean_squared_error: 0.5560 - val_wine_type_accuracy: 0.9949\n",
      "Epoch 81/180\n",
      "3155/3155 - 0s - loss: 0.2323 - wine_quality_loss: 0.2223 - wine_type_loss: 0.0101 - wine_quality_root_mean_squared_error: 0.4714 - wine_type_accuracy: 0.9971 - val_loss: 0.3418 - val_wine_quality_loss: 0.3139 - val_wine_type_loss: 0.0267 - val_wine_quality_root_mean_squared_error: 0.5610 - val_wine_type_accuracy: 0.9949\n",
      "Epoch 82/180\n",
      "3155/3155 - 0s - loss: 0.2321 - wine_quality_loss: 0.2228 - wine_type_loss: 0.0100 - wine_quality_root_mean_squared_error: 0.4712 - wine_type_accuracy: 0.9975 - val_loss: 0.3389 - val_wine_quality_loss: 0.3114 - val_wine_type_loss: 0.0268 - val_wine_quality_root_mean_squared_error: 0.5584 - val_wine_type_accuracy: 0.9949\n",
      "Epoch 83/180\n",
      "3155/3155 - 0s - loss: 0.2308 - wine_quality_loss: 0.2210 - wine_type_loss: 0.0100 - wine_quality_root_mean_squared_error: 0.4699 - wine_type_accuracy: 0.9971 - val_loss: 0.3365 - val_wine_quality_loss: 0.3089 - val_wine_type_loss: 0.0268 - val_wine_quality_root_mean_squared_error: 0.5562 - val_wine_type_accuracy: 0.9949\n",
      "Epoch 84/180\n",
      "3155/3155 - 0s - loss: 0.2319 - wine_quality_loss: 0.2221 - wine_type_loss: 0.0100 - wine_quality_root_mean_squared_error: 0.4711 - wine_type_accuracy: 0.9971 - val_loss: 0.3353 - val_wine_quality_loss: 0.3075 - val_wine_type_loss: 0.0269 - val_wine_quality_root_mean_squared_error: 0.5550 - val_wine_type_accuracy: 0.9949\n",
      "Epoch 85/180\n",
      "3155/3155 - 0s - loss: 0.2312 - wine_quality_loss: 0.2212 - wine_type_loss: 0.0099 - wine_quality_root_mean_squared_error: 0.4705 - wine_type_accuracy: 0.9975 - val_loss: 0.3441 - val_wine_quality_loss: 0.3164 - val_wine_type_loss: 0.0270 - val_wine_quality_root_mean_squared_error: 0.5628 - val_wine_type_accuracy: 0.9949\n",
      "Epoch 86/180\n",
      "3155/3155 - 0s - loss: 0.2307 - wine_quality_loss: 0.2206 - wine_type_loss: 0.0099 - wine_quality_root_mean_squared_error: 0.4698 - wine_type_accuracy: 0.9971 - val_loss: 0.3391 - val_wine_quality_loss: 0.3112 - val_wine_type_loss: 0.0271 - val_wine_quality_root_mean_squared_error: 0.5582 - val_wine_type_accuracy: 0.9949\n",
      "Epoch 87/180\n",
      "3155/3155 - 0s - loss: 0.2316 - wine_quality_loss: 0.2221 - wine_type_loss: 0.0099 - wine_quality_root_mean_squared_error: 0.4709 - wine_type_accuracy: 0.9975 - val_loss: 0.3377 - val_wine_quality_loss: 0.3098 - val_wine_type_loss: 0.0270 - val_wine_quality_root_mean_squared_error: 0.5570 - val_wine_type_accuracy: 0.9949\n",
      "Epoch 88/180\n",
      "3155/3155 - 0s - loss: 0.2313 - wine_quality_loss: 0.2211 - wine_type_loss: 0.0098 - wine_quality_root_mean_squared_error: 0.4706 - wine_type_accuracy: 0.9975 - val_loss: 0.3349 - val_wine_quality_loss: 0.3072 - val_wine_type_loss: 0.0271 - val_wine_quality_root_mean_squared_error: 0.5544 - val_wine_type_accuracy: 0.9949\n",
      "Epoch 89/180\n",
      "3155/3155 - 0s - loss: 0.2299 - wine_quality_loss: 0.2200 - wine_type_loss: 0.0098 - wine_quality_root_mean_squared_error: 0.4691 - wine_type_accuracy: 0.9975 - val_loss: 0.3370 - val_wine_quality_loss: 0.3091 - val_wine_type_loss: 0.0271 - val_wine_quality_root_mean_squared_error: 0.5563 - val_wine_type_accuracy: 0.9949\n",
      "Epoch 90/180\n",
      "3155/3155 - 0s - loss: 0.2297 - wine_quality_loss: 0.2201 - wine_type_loss: 0.0098 - wine_quality_root_mean_squared_error: 0.4689 - wine_type_accuracy: 0.9975 - val_loss: 0.3472 - val_wine_quality_loss: 0.3192 - val_wine_type_loss: 0.0271 - val_wine_quality_root_mean_squared_error: 0.5655 - val_wine_type_accuracy: 0.9949\n",
      "Epoch 91/180\n",
      "3155/3155 - 0s - loss: 0.2295 - wine_quality_loss: 0.2194 - wine_type_loss: 0.0097 - wine_quality_root_mean_squared_error: 0.4688 - wine_type_accuracy: 0.9975 - val_loss: 0.3419 - val_wine_quality_loss: 0.3141 - val_wine_type_loss: 0.0272 - val_wine_quality_root_mean_squared_error: 0.5607 - val_wine_type_accuracy: 0.9949\n",
      "Epoch 92/180\n",
      "3155/3155 - 0s - loss: 0.2292 - wine_quality_loss: 0.2193 - wine_type_loss: 0.0097 - wine_quality_root_mean_squared_error: 0.4686 - wine_type_accuracy: 0.9975 - val_loss: 0.3374 - val_wine_quality_loss: 0.3094 - val_wine_type_loss: 0.0271 - val_wine_quality_root_mean_squared_error: 0.5567 - val_wine_type_accuracy: 0.9949\n",
      "Epoch 93/180\n",
      "3155/3155 - 0s - loss: 0.2291 - wine_quality_loss: 0.2192 - wine_type_loss: 0.0101 - wine_quality_root_mean_squared_error: 0.4683 - wine_type_accuracy: 0.9975 - val_loss: 0.3347 - val_wine_quality_loss: 0.3069 - val_wine_type_loss: 0.0271 - val_wine_quality_root_mean_squared_error: 0.5543 - val_wine_type_accuracy: 0.9949\n",
      "Epoch 94/180\n",
      "3155/3155 - 0s - loss: 0.2281 - wine_quality_loss: 0.2191 - wine_type_loss: 0.0096 - wine_quality_root_mean_squared_error: 0.4674 - wine_type_accuracy: 0.9975 - val_loss: 0.3455 - val_wine_quality_loss: 0.3179 - val_wine_type_loss: 0.0271 - val_wine_quality_root_mean_squared_error: 0.5639 - val_wine_type_accuracy: 0.9949\n",
      "Epoch 95/180\n",
      "3155/3155 - 0s - loss: 0.2289 - wine_quality_loss: 0.2197 - wine_type_loss: 0.0095 - wine_quality_root_mean_squared_error: 0.4683 - wine_type_accuracy: 0.9975 - val_loss: 0.3342 - val_wine_quality_loss: 0.3065 - val_wine_type_loss: 0.0272 - val_wine_quality_root_mean_squared_error: 0.5538 - val_wine_type_accuracy: 0.9949\n",
      "Epoch 96/180\n",
      "3155/3155 - 0s - loss: 0.2292 - wine_quality_loss: 0.2199 - wine_type_loss: 0.0095 - wine_quality_root_mean_squared_error: 0.4687 - wine_type_accuracy: 0.9975 - val_loss: 0.3441 - val_wine_quality_loss: 0.3160 - val_wine_type_loss: 0.0272 - val_wine_quality_root_mean_squared_error: 0.5626 - val_wine_type_accuracy: 0.9949\n",
      "Epoch 97/180\n",
      "3155/3155 - 0s - loss: 0.2277 - wine_quality_loss: 0.2182 - wine_type_loss: 0.0096 - wine_quality_root_mean_squared_error: 0.4670 - wine_type_accuracy: 0.9975 - val_loss: 0.3498 - val_wine_quality_loss: 0.3221 - val_wine_type_loss: 0.0272 - val_wine_quality_root_mean_squared_error: 0.5677 - val_wine_type_accuracy: 0.9949\n",
      "Epoch 98/180\n",
      "3155/3155 - 0s - loss: 0.2273 - wine_quality_loss: 0.2177 - wine_type_loss: 0.0095 - wine_quality_root_mean_squared_error: 0.4667 - wine_type_accuracy: 0.9975 - val_loss: 0.3365 - val_wine_quality_loss: 0.3085 - val_wine_type_loss: 0.0272 - val_wine_quality_root_mean_squared_error: 0.5558 - val_wine_type_accuracy: 0.9949\n",
      "Epoch 99/180\n",
      "3155/3155 - 0s - loss: 0.2272 - wine_quality_loss: 0.2175 - wine_type_loss: 0.0094 - wine_quality_root_mean_squared_error: 0.4667 - wine_type_accuracy: 0.9975 - val_loss: 0.3332 - val_wine_quality_loss: 0.3050 - val_wine_type_loss: 0.0274 - val_wine_quality_root_mean_squared_error: 0.5527 - val_wine_type_accuracy: 0.9949\n",
      "Epoch 100/180\n",
      "3155/3155 - 0s - loss: 0.2271 - wine_quality_loss: 0.2173 - wine_type_loss: 0.0094 - wine_quality_root_mean_squared_error: 0.4665 - wine_type_accuracy: 0.9975 - val_loss: 0.3369 - val_wine_quality_loss: 0.3088 - val_wine_type_loss: 0.0274 - val_wine_quality_root_mean_squared_error: 0.5560 - val_wine_type_accuracy: 0.9949\n",
      "Epoch 101/180\n",
      "3155/3155 - 0s - loss: 0.2267 - wine_quality_loss: 0.2173 - wine_type_loss: 0.0094 - wine_quality_root_mean_squared_error: 0.4661 - wine_type_accuracy: 0.9975 - val_loss: 0.3525 - val_wine_quality_loss: 0.3244 - val_wine_type_loss: 0.0275 - val_wine_quality_root_mean_squared_error: 0.5698 - val_wine_type_accuracy: 0.9949\n",
      "Epoch 102/180\n",
      "3155/3155 - 0s - loss: 0.2259 - wine_quality_loss: 0.2166 - wine_type_loss: 0.0106 - wine_quality_root_mean_squared_error: 0.4653 - wine_type_accuracy: 0.9975 - val_loss: 0.3400 - val_wine_quality_loss: 0.3120 - val_wine_type_loss: 0.0276 - val_wine_quality_root_mean_squared_error: 0.5587 - val_wine_type_accuracy: 0.9949\n",
      "Epoch 103/180\n",
      "3155/3155 - 0s - loss: 0.2269 - wine_quality_loss: 0.2174 - wine_type_loss: 0.0093 - wine_quality_root_mean_squared_error: 0.4665 - wine_type_accuracy: 0.9975 - val_loss: 0.3370 - val_wine_quality_loss: 0.3088 - val_wine_type_loss: 0.0276 - val_wine_quality_root_mean_squared_error: 0.5559 - val_wine_type_accuracy: 0.9949\n",
      "Epoch 104/180\n",
      "3155/3155 - 0s - loss: 0.2255 - wine_quality_loss: 0.2164 - wine_type_loss: 0.0093 - wine_quality_root_mean_squared_error: 0.4650 - wine_type_accuracy: 0.9975 - val_loss: 0.3525 - val_wine_quality_loss: 0.3244 - val_wine_type_loss: 0.0276 - val_wine_quality_root_mean_squared_error: 0.5697 - val_wine_type_accuracy: 0.9949\n",
      "Epoch 105/180\n",
      "3155/3155 - 0s - loss: 0.2253 - wine_quality_loss: 0.2165 - wine_type_loss: 0.0092 - wine_quality_root_mean_squared_error: 0.4648 - wine_type_accuracy: 0.9975 - val_loss: 0.3408 - val_wine_quality_loss: 0.3127 - val_wine_type_loss: 0.0274 - val_wine_quality_root_mean_squared_error: 0.5595 - val_wine_type_accuracy: 0.9949\n",
      "Epoch 106/180\n",
      "3155/3155 - 0s - loss: 0.2250 - wine_quality_loss: 0.2158 - wine_type_loss: 0.0092 - wine_quality_root_mean_squared_error: 0.4645 - wine_type_accuracy: 0.9975 - val_loss: 0.3449 - val_wine_quality_loss: 0.3165 - val_wine_type_loss: 0.0275 - val_wine_quality_root_mean_squared_error: 0.5630 - val_wine_type_accuracy: 0.9949\n",
      "Epoch 107/180\n",
      "3155/3155 - 0s - loss: 0.2259 - wine_quality_loss: 0.2165 - wine_type_loss: 0.0092 - wine_quality_root_mean_squared_error: 0.4655 - wine_type_accuracy: 0.9975 - val_loss: 0.3361 - val_wine_quality_loss: 0.3078 - val_wine_type_loss: 0.0276 - val_wine_quality_root_mean_squared_error: 0.5551 - val_wine_type_accuracy: 0.9949\n",
      "Epoch 108/180\n",
      "3155/3155 - 0s - loss: 0.2242 - wine_quality_loss: 0.2150 - wine_type_loss: 0.0091 - wine_quality_root_mean_squared_error: 0.4638 - wine_type_accuracy: 0.9975 - val_loss: 0.3459 - val_wine_quality_loss: 0.3174 - val_wine_type_loss: 0.0275 - val_wine_quality_root_mean_squared_error: 0.5639 - val_wine_type_accuracy: 0.9949\n",
      "Epoch 109/180\n",
      "3155/3155 - 0s - loss: 0.2240 - wine_quality_loss: 0.2148 - wine_type_loss: 0.0091 - wine_quality_root_mean_squared_error: 0.4635 - wine_type_accuracy: 0.9975 - val_loss: 0.3455 - val_wine_quality_loss: 0.3173 - val_wine_type_loss: 0.0277 - val_wine_quality_root_mean_squared_error: 0.5633 - val_wine_type_accuracy: 0.9949\n",
      "Epoch 110/180\n",
      "3155/3155 - 0s - loss: 0.2245 - wine_quality_loss: 0.2157 - wine_type_loss: 0.0091 - wine_quality_root_mean_squared_error: 0.4641 - wine_type_accuracy: 0.9975 - val_loss: 0.3389 - val_wine_quality_loss: 0.3103 - val_wine_type_loss: 0.0278 - val_wine_quality_root_mean_squared_error: 0.5574 - val_wine_type_accuracy: 0.9949\n",
      "Epoch 111/180\n",
      "3155/3155 - 0s - loss: 0.2235 - wine_quality_loss: 0.2141 - wine_type_loss: 0.0090 - wine_quality_root_mean_squared_error: 0.4631 - wine_type_accuracy: 0.9975 - val_loss: 0.3403 - val_wine_quality_loss: 0.3116 - val_wine_type_loss: 0.0280 - val_wine_quality_root_mean_squared_error: 0.5585 - val_wine_type_accuracy: 0.9949\n",
      "Epoch 112/180\n",
      "3155/3155 - 0s - loss: 0.2234 - wine_quality_loss: 0.2146 - wine_type_loss: 0.0090 - wine_quality_root_mean_squared_error: 0.4630 - wine_type_accuracy: 0.9975 - val_loss: 0.3363 - val_wine_quality_loss: 0.3076 - val_wine_type_loss: 0.0279 - val_wine_quality_root_mean_squared_error: 0.5550 - val_wine_type_accuracy: 0.9949\n",
      "Epoch 113/180\n",
      "3155/3155 - 0s - loss: 0.2238 - wine_quality_loss: 0.2151 - wine_type_loss: 0.0090 - wine_quality_root_mean_squared_error: 0.4635 - wine_type_accuracy: 0.9975 - val_loss: 0.3390 - val_wine_quality_loss: 0.3104 - val_wine_type_loss: 0.0279 - val_wine_quality_root_mean_squared_error: 0.5575 - val_wine_type_accuracy: 0.9949\n",
      "Epoch 114/180\n",
      "3155/3155 - 0s - loss: 0.2219 - wine_quality_loss: 0.2126 - wine_type_loss: 0.0089 - wine_quality_root_mean_squared_error: 0.4615 - wine_type_accuracy: 0.9975 - val_loss: 0.3516 - val_wine_quality_loss: 0.3227 - val_wine_type_loss: 0.0279 - val_wine_quality_root_mean_squared_error: 0.5686 - val_wine_type_accuracy: 0.9949\n",
      "Epoch 115/180\n",
      "3155/3155 - 0s - loss: 0.2228 - wine_quality_loss: 0.2136 - wine_type_loss: 0.0089 - wine_quality_root_mean_squared_error: 0.4624 - wine_type_accuracy: 0.9975 - val_loss: 0.3371 - val_wine_quality_loss: 0.3084 - val_wine_type_loss: 0.0279 - val_wine_quality_root_mean_squared_error: 0.5557 - val_wine_type_accuracy: 0.9949\n",
      "Epoch 116/180\n",
      "3155/3155 - 0s - loss: 0.2219 - wine_quality_loss: 0.2131 - wine_type_loss: 0.0089 - wine_quality_root_mean_squared_error: 0.4615 - wine_type_accuracy: 0.9975 - val_loss: 0.3474 - val_wine_quality_loss: 0.3187 - val_wine_type_loss: 0.0279 - val_wine_quality_root_mean_squared_error: 0.5649 - val_wine_type_accuracy: 0.9949\n",
      "Epoch 117/180\n",
      "3155/3155 - 0s - loss: 0.2228 - wine_quality_loss: 0.2148 - wine_type_loss: 0.0088 - wine_quality_root_mean_squared_error: 0.4626 - wine_type_accuracy: 0.9975 - val_loss: 0.3413 - val_wine_quality_loss: 0.3124 - val_wine_type_loss: 0.0279 - val_wine_quality_root_mean_squared_error: 0.5594 - val_wine_type_accuracy: 0.9949\n",
      "Epoch 118/180\n",
      "3155/3155 - 0s - loss: 0.2213 - wine_quality_loss: 0.2128 - wine_type_loss: 0.0088 - wine_quality_root_mean_squared_error: 0.4610 - wine_type_accuracy: 0.9975 - val_loss: 0.3528 - val_wine_quality_loss: 0.3235 - val_wine_type_loss: 0.0281 - val_wine_quality_root_mean_squared_error: 0.5696 - val_wine_type_accuracy: 0.9949\n",
      "Epoch 119/180\n",
      "3155/3155 - 0s - loss: 0.2221 - wine_quality_loss: 0.2130 - wine_type_loss: 0.0087 - wine_quality_root_mean_squared_error: 0.4619 - wine_type_accuracy: 0.9975 - val_loss: 0.3416 - val_wine_quality_loss: 0.3128 - val_wine_type_loss: 0.0281 - val_wine_quality_root_mean_squared_error: 0.5595 - val_wine_type_accuracy: 0.9949\n",
      "Epoch 120/180\n",
      "3155/3155 - 0s - loss: 0.2205 - wine_quality_loss: 0.2120 - wine_type_loss: 0.0087 - wine_quality_root_mean_squared_error: 0.4602 - wine_type_accuracy: 0.9975 - val_loss: 0.3454 - val_wine_quality_loss: 0.3162 - val_wine_type_loss: 0.0281 - val_wine_quality_root_mean_squared_error: 0.5629 - val_wine_type_accuracy: 0.9949\n",
      "Epoch 121/180\n",
      "3155/3155 - 0s - loss: 0.2213 - wine_quality_loss: 0.2125 - wine_type_loss: 0.0087 - wine_quality_root_mean_squared_error: 0.4611 - wine_type_accuracy: 0.9975 - val_loss: 0.3395 - val_wine_quality_loss: 0.3105 - val_wine_type_loss: 0.0281 - val_wine_quality_root_mean_squared_error: 0.5577 - val_wine_type_accuracy: 0.9949\n",
      "Epoch 122/180\n",
      "3155/3155 - 0s - loss: 0.2206 - wine_quality_loss: 0.2122 - wine_type_loss: 0.0087 - wine_quality_root_mean_squared_error: 0.4603 - wine_type_accuracy: 0.9975 - val_loss: 0.3373 - val_wine_quality_loss: 0.3085 - val_wine_type_loss: 0.0281 - val_wine_quality_root_mean_squared_error: 0.5557 - val_wine_type_accuracy: 0.9949\n",
      "Epoch 123/180\n",
      "3155/3155 - 0s - loss: 0.2208 - wine_quality_loss: 0.2122 - wine_type_loss: 0.0086 - wine_quality_root_mean_squared_error: 0.4606 - wine_type_accuracy: 0.9975 - val_loss: 0.3450 - val_wine_quality_loss: 0.3160 - val_wine_type_loss: 0.0281 - val_wine_quality_root_mean_squared_error: 0.5626 - val_wine_type_accuracy: 0.9949\n",
      "Epoch 124/180\n",
      "3155/3155 - 0s - loss: 0.2203 - wine_quality_loss: 0.2116 - wine_type_loss: 0.0086 - wine_quality_root_mean_squared_error: 0.4600 - wine_type_accuracy: 0.9975 - val_loss: 0.3429 - val_wine_quality_loss: 0.3142 - val_wine_type_loss: 0.0281 - val_wine_quality_root_mean_squared_error: 0.5608 - val_wine_type_accuracy: 0.9949\n",
      "Epoch 125/180\n",
      "3155/3155 - 0s - loss: 0.2203 - wine_quality_loss: 0.2117 - wine_type_loss: 0.0086 - wine_quality_root_mean_squared_error: 0.4601 - wine_type_accuracy: 0.9975 - val_loss: 0.3475 - val_wine_quality_loss: 0.3184 - val_wine_type_loss: 0.0283 - val_wine_quality_root_mean_squared_error: 0.5647 - val_wine_type_accuracy: 0.9949\n",
      "Epoch 126/180\n",
      "3155/3155 - 0s - loss: 0.2201 - wine_quality_loss: 0.2115 - wine_type_loss: 0.0085 - wine_quality_root_mean_squared_error: 0.4599 - wine_type_accuracy: 0.9975 - val_loss: 0.3439 - val_wine_quality_loss: 0.3149 - val_wine_type_loss: 0.0283 - val_wine_quality_root_mean_squared_error: 0.5615 - val_wine_type_accuracy: 0.9949\n",
      "Epoch 127/180\n",
      "3155/3155 - 0s - loss: 0.2197 - wine_quality_loss: 0.2111 - wine_type_loss: 0.0085 - wine_quality_root_mean_squared_error: 0.4596 - wine_type_accuracy: 0.9975 - val_loss: 0.3432 - val_wine_quality_loss: 0.3139 - val_wine_type_loss: 0.0284 - val_wine_quality_root_mean_squared_error: 0.5607 - val_wine_type_accuracy: 0.9949\n",
      "Epoch 128/180\n",
      "3155/3155 - 0s - loss: 0.2190 - wine_quality_loss: 0.2104 - wine_type_loss: 0.0084 - wine_quality_root_mean_squared_error: 0.4588 - wine_type_accuracy: 0.9975 - val_loss: 0.3438 - val_wine_quality_loss: 0.3145 - val_wine_type_loss: 0.0284 - val_wine_quality_root_mean_squared_error: 0.5612 - val_wine_type_accuracy: 0.9949\n",
      "Epoch 129/180\n",
      "3155/3155 - 0s - loss: 0.2191 - wine_quality_loss: 0.2104 - wine_type_loss: 0.0085 - wine_quality_root_mean_squared_error: 0.4589 - wine_type_accuracy: 0.9975 - val_loss: 0.3379 - val_wine_quality_loss: 0.3087 - val_wine_type_loss: 0.0284 - val_wine_quality_root_mean_squared_error: 0.5560 - val_wine_type_accuracy: 0.9949\n",
      "Epoch 130/180\n",
      "3155/3155 - 0s - loss: 0.2190 - wine_quality_loss: 0.2105 - wine_type_loss: 0.0084 - wine_quality_root_mean_squared_error: 0.4588 - wine_type_accuracy: 0.9975 - val_loss: 0.3414 - val_wine_quality_loss: 0.3121 - val_wine_type_loss: 0.0283 - val_wine_quality_root_mean_squared_error: 0.5592 - val_wine_type_accuracy: 0.9949\n",
      "Epoch 131/180\n",
      "3155/3155 - 0s - loss: 0.2185 - wine_quality_loss: 0.2104 - wine_type_loss: 0.0083 - wine_quality_root_mean_squared_error: 0.4585 - wine_type_accuracy: 0.9975 - val_loss: 0.3411 - val_wine_quality_loss: 0.3116 - val_wine_type_loss: 0.0285 - val_wine_quality_root_mean_squared_error: 0.5587 - val_wine_type_accuracy: 0.9949\n",
      "Epoch 132/180\n",
      "3155/3155 - 0s - loss: 0.2184 - wine_quality_loss: 0.2101 - wine_type_loss: 0.0086 - wine_quality_root_mean_squared_error: 0.4582 - wine_type_accuracy: 0.9975 - val_loss: 0.3476 - val_wine_quality_loss: 0.3181 - val_wine_type_loss: 0.0284 - val_wine_quality_root_mean_squared_error: 0.5647 - val_wine_type_accuracy: 0.9949\n",
      "Epoch 133/180\n",
      "3155/3155 - 0s - loss: 0.2173 - wine_quality_loss: 0.2084 - wine_type_loss: 0.0083 - wine_quality_root_mean_squared_error: 0.4572 - wine_type_accuracy: 0.9975 - val_loss: 0.3414 - val_wine_quality_loss: 0.3124 - val_wine_type_loss: 0.0286 - val_wine_quality_root_mean_squared_error: 0.5590 - val_wine_type_accuracy: 0.9949\n",
      "Epoch 134/180\n",
      "3155/3155 - 0s - loss: 0.2177 - wine_quality_loss: 0.2091 - wine_type_loss: 0.0083 - wine_quality_root_mean_squared_error: 0.4576 - wine_type_accuracy: 0.9975 - val_loss: 0.3434 - val_wine_quality_loss: 0.3140 - val_wine_type_loss: 0.0288 - val_wine_quality_root_mean_squared_error: 0.5605 - val_wine_type_accuracy: 0.9949\n",
      "Epoch 135/180\n",
      "3155/3155 - 0s - loss: 0.2169 - wine_quality_loss: 0.2088 - wine_type_loss: 0.0083 - wine_quality_root_mean_squared_error: 0.4567 - wine_type_accuracy: 0.9975 - val_loss: 0.3429 - val_wine_quality_loss: 0.3133 - val_wine_type_loss: 0.0286 - val_wine_quality_root_mean_squared_error: 0.5602 - val_wine_type_accuracy: 0.9949\n",
      "Epoch 136/180\n",
      "3155/3155 - 0s - loss: 0.2168 - wine_quality_loss: 0.2083 - wine_type_loss: 0.0082 - wine_quality_root_mean_squared_error: 0.4567 - wine_type_accuracy: 0.9975 - val_loss: 0.3403 - val_wine_quality_loss: 0.3107 - val_wine_type_loss: 0.0288 - val_wine_quality_root_mean_squared_error: 0.5578 - val_wine_type_accuracy: 0.9949\n",
      "Epoch 137/180\n",
      "3155/3155 - 0s - loss: 0.2178 - wine_quality_loss: 0.2091 - wine_type_loss: 0.0083 - wine_quality_root_mean_squared_error: 0.4578 - wine_type_accuracy: 0.9975 - val_loss: 0.3418 - val_wine_quality_loss: 0.3123 - val_wine_type_loss: 0.0286 - val_wine_quality_root_mean_squared_error: 0.5592 - val_wine_type_accuracy: 0.9949\n",
      "Epoch 138/180\n",
      "3155/3155 - 0s - loss: 0.2165 - wine_quality_loss: 0.2081 - wine_type_loss: 0.0082 - wine_quality_root_mean_squared_error: 0.4564 - wine_type_accuracy: 0.9975 - val_loss: 0.3426 - val_wine_quality_loss: 0.3133 - val_wine_type_loss: 0.0288 - val_wine_quality_root_mean_squared_error: 0.5599 - val_wine_type_accuracy: 0.9949\n",
      "Epoch 139/180\n",
      "3155/3155 - 0s - loss: 0.2176 - wine_quality_loss: 0.2091 - wine_type_loss: 0.0082 - wine_quality_root_mean_squared_error: 0.4576 - wine_type_accuracy: 0.9975 - val_loss: 0.3490 - val_wine_quality_loss: 0.3192 - val_wine_type_loss: 0.0287 - val_wine_quality_root_mean_squared_error: 0.5656 - val_wine_type_accuracy: 0.9949\n",
      "Epoch 140/180\n",
      "3155/3155 - 0s - loss: 0.2161 - wine_quality_loss: 0.2077 - wine_type_loss: 0.0082 - wine_quality_root_mean_squared_error: 0.4560 - wine_type_accuracy: 0.9975 - val_loss: 0.3442 - val_wine_quality_loss: 0.3145 - val_wine_type_loss: 0.0288 - val_wine_quality_root_mean_squared_error: 0.5612 - val_wine_type_accuracy: 0.9949\n",
      "Epoch 141/180\n",
      "3155/3155 - 0s - loss: 0.2156 - wine_quality_loss: 0.2073 - wine_type_loss: 0.0081 - wine_quality_root_mean_squared_error: 0.4555 - wine_type_accuracy: 0.9975 - val_loss: 0.3497 - val_wine_quality_loss: 0.3199 - val_wine_type_loss: 0.0288 - val_wine_quality_root_mean_squared_error: 0.5661 - val_wine_type_accuracy: 0.9949\n",
      "Epoch 142/180\n",
      "3155/3155 - 0s - loss: 0.2157 - wine_quality_loss: 0.2072 - wine_type_loss: 0.0081 - wine_quality_root_mean_squared_error: 0.4556 - wine_type_accuracy: 0.9975 - val_loss: 0.3414 - val_wine_quality_loss: 0.3120 - val_wine_type_loss: 0.0287 - val_wine_quality_root_mean_squared_error: 0.5588 - val_wine_type_accuracy: 0.9949\n",
      "Epoch 143/180\n",
      "3155/3155 - 0s - loss: 0.2147 - wine_quality_loss: 0.2067 - wine_type_loss: 0.0080 - wine_quality_root_mean_squared_error: 0.4546 - wine_type_accuracy: 0.9975 - val_loss: 0.3493 - val_wine_quality_loss: 0.3197 - val_wine_type_loss: 0.0289 - val_wine_quality_root_mean_squared_error: 0.5657 - val_wine_type_accuracy: 0.9949\n",
      "Epoch 144/180\n",
      "3155/3155 - 0s - loss: 0.2155 - wine_quality_loss: 0.2071 - wine_type_loss: 0.0080 - wine_quality_root_mean_squared_error: 0.4556 - wine_type_accuracy: 0.9975 - val_loss: 0.3491 - val_wine_quality_loss: 0.3192 - val_wine_type_loss: 0.0290 - val_wine_quality_root_mean_squared_error: 0.5653 - val_wine_type_accuracy: 0.9949\n",
      "Epoch 145/180\n",
      "3155/3155 - 0s - loss: 0.2155 - wine_quality_loss: 0.2074 - wine_type_loss: 0.0087 - wine_quality_root_mean_squared_error: 0.4555 - wine_type_accuracy: 0.9975 - val_loss: 0.3452 - val_wine_quality_loss: 0.3159 - val_wine_type_loss: 0.0288 - val_wine_quality_root_mean_squared_error: 0.5622 - val_wine_type_accuracy: 0.9949\n",
      "Epoch 146/180\n",
      "3155/3155 - 0s - loss: 0.2145 - wine_quality_loss: 0.2066 - wine_type_loss: 0.0080 - wine_quality_root_mean_squared_error: 0.4545 - wine_type_accuracy: 0.9975 - val_loss: 0.3700 - val_wine_quality_loss: 0.3405 - val_wine_type_loss: 0.0289 - val_wine_quality_root_mean_squared_error: 0.5837 - val_wine_type_accuracy: 0.9949\n",
      "Epoch 147/180\n",
      "3155/3155 - 0s - loss: 0.2142 - wine_quality_loss: 0.2066 - wine_type_loss: 0.0079 - wine_quality_root_mean_squared_error: 0.4541 - wine_type_accuracy: 0.9975 - val_loss: 0.3444 - val_wine_quality_loss: 0.3148 - val_wine_type_loss: 0.0288 - val_wine_quality_root_mean_squared_error: 0.5614 - val_wine_type_accuracy: 0.9949\n",
      "Epoch 148/180\n",
      "3155/3155 - 0s - loss: 0.2139 - wine_quality_loss: 0.2057 - wine_type_loss: 0.0079 - wine_quality_root_mean_squared_error: 0.4538 - wine_type_accuracy: 0.9975 - val_loss: 0.3481 - val_wine_quality_loss: 0.3183 - val_wine_type_loss: 0.0289 - val_wine_quality_root_mean_squared_error: 0.5645 - val_wine_type_accuracy: 0.9949\n",
      "Epoch 149/180\n",
      "3155/3155 - 0s - loss: 0.2140 - wine_quality_loss: 0.2060 - wine_type_loss: 0.0079 - wine_quality_root_mean_squared_error: 0.4540 - wine_type_accuracy: 0.9975 - val_loss: 0.3510 - val_wine_quality_loss: 0.3211 - val_wine_type_loss: 0.0291 - val_wine_quality_root_mean_squared_error: 0.5671 - val_wine_type_accuracy: 0.9949\n",
      "Epoch 150/180\n",
      "3155/3155 - 0s - loss: 0.2139 - wine_quality_loss: 0.2060 - wine_type_loss: 0.0079 - wine_quality_root_mean_squared_error: 0.4538 - wine_type_accuracy: 0.9975 - val_loss: 0.3530 - val_wine_quality_loss: 0.3234 - val_wine_type_loss: 0.0292 - val_wine_quality_root_mean_squared_error: 0.5687 - val_wine_type_accuracy: 0.9949\n",
      "Epoch 151/180\n",
      "3155/3155 - 0s - loss: 0.2136 - wine_quality_loss: 0.2055 - wine_type_loss: 0.0078 - wine_quality_root_mean_squared_error: 0.4535 - wine_type_accuracy: 0.9975 - val_loss: 0.3447 - val_wine_quality_loss: 0.3146 - val_wine_type_loss: 0.0292 - val_wine_quality_root_mean_squared_error: 0.5613 - val_wine_type_accuracy: 0.9949\n",
      "Epoch 152/180\n",
      "3155/3155 - 0s - loss: 0.2133 - wine_quality_loss: 0.2060 - wine_type_loss: 0.0078 - wine_quality_root_mean_squared_error: 0.4534 - wine_type_accuracy: 0.9978 - val_loss: 0.3441 - val_wine_quality_loss: 0.3142 - val_wine_type_loss: 0.0293 - val_wine_quality_root_mean_squared_error: 0.5607 - val_wine_type_accuracy: 0.9949\n",
      "Epoch 153/180\n",
      "3155/3155 - 0s - loss: 0.2134 - wine_quality_loss: 0.2058 - wine_type_loss: 0.0078 - wine_quality_root_mean_squared_error: 0.4535 - wine_type_accuracy: 0.9975 - val_loss: 0.3483 - val_wine_quality_loss: 0.3179 - val_wine_type_loss: 0.0294 - val_wine_quality_root_mean_squared_error: 0.5643 - val_wine_type_accuracy: 0.9949\n",
      "Epoch 154/180\n",
      "3155/3155 - 0s - loss: 0.2132 - wine_quality_loss: 0.2055 - wine_type_loss: 0.0077 - wine_quality_root_mean_squared_error: 0.4532 - wine_type_accuracy: 0.9975 - val_loss: 0.3437 - val_wine_quality_loss: 0.3134 - val_wine_type_loss: 0.0296 - val_wine_quality_root_mean_squared_error: 0.5601 - val_wine_type_accuracy: 0.9949\n",
      "Epoch 155/180\n",
      "3155/3155 - 0s - loss: 0.2125 - wine_quality_loss: 0.2048 - wine_type_loss: 0.0077 - wine_quality_root_mean_squared_error: 0.4525 - wine_type_accuracy: 0.9975 - val_loss: 0.3439 - val_wine_quality_loss: 0.3138 - val_wine_type_loss: 0.0295 - val_wine_quality_root_mean_squared_error: 0.5603 - val_wine_type_accuracy: 0.9949\n",
      "Epoch 156/180\n",
      "3155/3155 - 0s - loss: 0.2118 - wine_quality_loss: 0.2041 - wine_type_loss: 0.0077 - wine_quality_root_mean_squared_error: 0.4517 - wine_type_accuracy: 0.9978 - val_loss: 0.3481 - val_wine_quality_loss: 0.3176 - val_wine_type_loss: 0.0295 - val_wine_quality_root_mean_squared_error: 0.5641 - val_wine_type_accuracy: 0.9949\n",
      "Epoch 157/180\n",
      "3155/3155 - 0s - loss: 0.2122 - wine_quality_loss: 0.2042 - wine_type_loss: 0.0077 - wine_quality_root_mean_squared_error: 0.4522 - wine_type_accuracy: 0.9975 - val_loss: 0.3575 - val_wine_quality_loss: 0.3273 - val_wine_type_loss: 0.0294 - val_wine_quality_root_mean_squared_error: 0.5725 - val_wine_type_accuracy: 0.9949\n",
      "Epoch 158/180\n",
      "3155/3155 - 0s - loss: 0.2116 - wine_quality_loss: 0.2040 - wine_type_loss: 0.0077 - wine_quality_root_mean_squared_error: 0.4516 - wine_type_accuracy: 0.9978 - val_loss: 0.3537 - val_wine_quality_loss: 0.3235 - val_wine_type_loss: 0.0294 - val_wine_quality_root_mean_squared_error: 0.5691 - val_wine_type_accuracy: 0.9949\n",
      "Epoch 159/180\n",
      "3155/3155 - 0s - loss: 0.2103 - wine_quality_loss: 0.2023 - wine_type_loss: 0.0076 - wine_quality_root_mean_squared_error: 0.4502 - wine_type_accuracy: 0.9978 - val_loss: 0.3480 - val_wine_quality_loss: 0.3175 - val_wine_type_loss: 0.0295 - val_wine_quality_root_mean_squared_error: 0.5640 - val_wine_type_accuracy: 0.9949\n",
      "Epoch 160/180\n",
      "3155/3155 - 0s - loss: 0.2111 - wine_quality_loss: 0.2032 - wine_type_loss: 0.0075 - wine_quality_root_mean_squared_error: 0.4511 - wine_type_accuracy: 0.9978 - val_loss: 0.3483 - val_wine_quality_loss: 0.3180 - val_wine_type_loss: 0.0297 - val_wine_quality_root_mean_squared_error: 0.5640 - val_wine_type_accuracy: 0.9949\n",
      "Epoch 161/180\n",
      "3155/3155 - 0s - loss: 0.2112 - wine_quality_loss: 0.2041 - wine_type_loss: 0.0076 - wine_quality_root_mean_squared_error: 0.4512 - wine_type_accuracy: 0.9978 - val_loss: 0.3520 - val_wine_quality_loss: 0.3218 - val_wine_type_loss: 0.0296 - val_wine_quality_root_mean_squared_error: 0.5674 - val_wine_type_accuracy: 0.9949\n",
      "Epoch 162/180\n",
      "3155/3155 - 0s - loss: 0.2092 - wine_quality_loss: 0.2019 - wine_type_loss: 0.0075 - wine_quality_root_mean_squared_error: 0.4491 - wine_type_accuracy: 0.9978 - val_loss: 0.3486 - val_wine_quality_loss: 0.3185 - val_wine_type_loss: 0.0295 - val_wine_quality_root_mean_squared_error: 0.5645 - val_wine_type_accuracy: 0.9949\n",
      "Epoch 163/180\n",
      "3155/3155 - 0s - loss: 0.2101 - wine_quality_loss: 0.2033 - wine_type_loss: 0.0075 - wine_quality_root_mean_squared_error: 0.4501 - wine_type_accuracy: 0.9978 - val_loss: 0.3487 - val_wine_quality_loss: 0.3183 - val_wine_type_loss: 0.0297 - val_wine_quality_root_mean_squared_error: 0.5645 - val_wine_type_accuracy: 0.9949\n",
      "Epoch 164/180\n",
      "3155/3155 - 0s - loss: 0.2101 - wine_quality_loss: 0.2023 - wine_type_loss: 0.0074 - wine_quality_root_mean_squared_error: 0.4502 - wine_type_accuracy: 0.9978 - val_loss: 0.3458 - val_wine_quality_loss: 0.3150 - val_wine_type_loss: 0.0297 - val_wine_quality_root_mean_squared_error: 0.5618 - val_wine_type_accuracy: 0.9949\n",
      "Epoch 165/180\n",
      "3155/3155 - 0s - loss: 0.2104 - wine_quality_loss: 0.2031 - wine_type_loss: 0.0074 - wine_quality_root_mean_squared_error: 0.4505 - wine_type_accuracy: 0.9978 - val_loss: 0.3460 - val_wine_quality_loss: 0.3158 - val_wine_type_loss: 0.0298 - val_wine_quality_root_mean_squared_error: 0.5620 - val_wine_type_accuracy: 0.9949\n",
      "Epoch 166/180\n",
      "3155/3155 - 0s - loss: 0.2097 - wine_quality_loss: 0.2029 - wine_type_loss: 0.0073 - wine_quality_root_mean_squared_error: 0.4498 - wine_type_accuracy: 0.9978 - val_loss: 0.3520 - val_wine_quality_loss: 0.3212 - val_wine_type_loss: 0.0302 - val_wine_quality_root_mean_squared_error: 0.5669 - val_wine_type_accuracy: 0.9949\n",
      "Epoch 167/180\n",
      "3155/3155 - 0s - loss: 0.2095 - wine_quality_loss: 0.2019 - wine_type_loss: 0.0075 - wine_quality_root_mean_squared_error: 0.4494 - wine_type_accuracy: 0.9975 - val_loss: 0.3429 - val_wine_quality_loss: 0.3123 - val_wine_type_loss: 0.0300 - val_wine_quality_root_mean_squared_error: 0.5590 - val_wine_type_accuracy: 0.9949\n",
      "Epoch 168/180\n",
      "3155/3155 - 0s - loss: 0.2091 - wine_quality_loss: 0.2016 - wine_type_loss: 0.0074 - wine_quality_root_mean_squared_error: 0.4492 - wine_type_accuracy: 0.9978 - val_loss: 0.3544 - val_wine_quality_loss: 0.3235 - val_wine_type_loss: 0.0301 - val_wine_quality_root_mean_squared_error: 0.5690 - val_wine_type_accuracy: 0.9949\n",
      "Epoch 169/180\n",
      "3155/3155 - 0s - loss: 0.2092 - wine_quality_loss: 0.2015 - wine_type_loss: 0.0073 - wine_quality_root_mean_squared_error: 0.4493 - wine_type_accuracy: 0.9978 - val_loss: 0.3464 - val_wine_quality_loss: 0.3154 - val_wine_type_loss: 0.0299 - val_wine_quality_root_mean_squared_error: 0.5622 - val_wine_type_accuracy: 0.9949\n",
      "Epoch 170/180\n",
      "3155/3155 - 0s - loss: 0.2091 - wine_quality_loss: 0.2020 - wine_type_loss: 0.0073 - wine_quality_root_mean_squared_error: 0.4492 - wine_type_accuracy: 0.9978 - val_loss: 0.3414 - val_wine_quality_loss: 0.3108 - val_wine_type_loss: 0.0299 - val_wine_quality_root_mean_squared_error: 0.5577 - val_wine_type_accuracy: 0.9949\n",
      "Epoch 171/180\n",
      "3155/3155 - 0s - loss: 0.2086 - wine_quality_loss: 0.2011 - wine_type_loss: 0.0073 - wine_quality_root_mean_squared_error: 0.4487 - wine_type_accuracy: 0.9978 - val_loss: 0.3424 - val_wine_quality_loss: 0.3118 - val_wine_type_loss: 0.0301 - val_wine_quality_root_mean_squared_error: 0.5585 - val_wine_type_accuracy: 0.9949\n",
      "Epoch 172/180\n",
      "3155/3155 - 0s - loss: 0.2081 - wine_quality_loss: 0.2017 - wine_type_loss: 0.0073 - wine_quality_root_mean_squared_error: 0.4482 - wine_type_accuracy: 0.9978 - val_loss: 0.3435 - val_wine_quality_loss: 0.3127 - val_wine_type_loss: 0.0301 - val_wine_quality_root_mean_squared_error: 0.5595 - val_wine_type_accuracy: 0.9949\n",
      "Epoch 173/180\n",
      "3155/3155 - 0s - loss: 0.2080 - wine_quality_loss: 0.2011 - wine_type_loss: 0.0072 - wine_quality_root_mean_squared_error: 0.4481 - wine_type_accuracy: 0.9978 - val_loss: 0.3432 - val_wine_quality_loss: 0.3125 - val_wine_type_loss: 0.0302 - val_wine_quality_root_mean_squared_error: 0.5591 - val_wine_type_accuracy: 0.9949\n",
      "Epoch 174/180\n",
      "3155/3155 - 0s - loss: 0.2082 - wine_quality_loss: 0.2009 - wine_type_loss: 0.0072 - wine_quality_root_mean_squared_error: 0.4483 - wine_type_accuracy: 0.9978 - val_loss: 0.3471 - val_wine_quality_loss: 0.3163 - val_wine_type_loss: 0.0300 - val_wine_quality_root_mean_squared_error: 0.5627 - val_wine_type_accuracy: 0.9949\n",
      "Epoch 175/180\n",
      "3155/3155 - 0s - loss: 0.2072 - wine_quality_loss: 0.1999 - wine_type_loss: 0.0071 - wine_quality_root_mean_squared_error: 0.4473 - wine_type_accuracy: 0.9978 - val_loss: 0.3476 - val_wine_quality_loss: 0.3166 - val_wine_type_loss: 0.0303 - val_wine_quality_root_mean_squared_error: 0.5629 - val_wine_type_accuracy: 0.9949\n",
      "Epoch 176/180\n",
      "3155/3155 - 0s - loss: 0.2064 - wine_quality_loss: 0.1989 - wine_type_loss: 0.0072 - wine_quality_root_mean_squared_error: 0.4463 - wine_type_accuracy: 0.9978 - val_loss: 0.3425 - val_wine_quality_loss: 0.3115 - val_wine_type_loss: 0.0303 - val_wine_quality_root_mean_squared_error: 0.5584 - val_wine_type_accuracy: 0.9949\n",
      "Epoch 177/180\n",
      "3155/3155 - 0s - loss: 0.2080 - wine_quality_loss: 0.2009 - wine_type_loss: 0.0074 - wine_quality_root_mean_squared_error: 0.4481 - wine_type_accuracy: 0.9978 - val_loss: 0.3486 - val_wine_quality_loss: 0.3174 - val_wine_type_loss: 0.0303 - val_wine_quality_root_mean_squared_error: 0.5638 - val_wine_type_accuracy: 0.9949\n",
      "Epoch 178/180\n",
      "3155/3155 - 0s - loss: 0.2050 - wine_quality_loss: 0.1980 - wine_type_loss: 0.0071 - wine_quality_root_mean_squared_error: 0.4449 - wine_type_accuracy: 0.9978 - val_loss: 0.3529 - val_wine_quality_loss: 0.3216 - val_wine_type_loss: 0.0302 - val_wine_quality_root_mean_squared_error: 0.5677 - val_wine_type_accuracy: 0.9949\n",
      "Epoch 179/180\n",
      "3155/3155 - 0s - loss: 0.2071 - wine_quality_loss: 0.1998 - wine_type_loss: 0.0075 - wine_quality_root_mean_squared_error: 0.4472 - wine_type_accuracy: 0.9978 - val_loss: 0.3456 - val_wine_quality_loss: 0.3141 - val_wine_type_loss: 0.0306 - val_wine_quality_root_mean_squared_error: 0.5608 - val_wine_type_accuracy: 0.9949\n",
      "Epoch 180/180\n",
      "3155/3155 - 0s - loss: 0.2064 - wine_quality_loss: 0.1992 - wine_type_loss: 0.0071 - wine_quality_root_mean_squared_error: 0.4464 - wine_type_accuracy: 0.9978 - val_loss: 0.3463 - val_wine_quality_loss: 0.3153 - val_wine_type_loss: 0.0305 - val_wine_quality_root_mean_squared_error: 0.5616 - val_wine_type_accuracy: 0.9949\n"
     ]
    }
   ],
   "source": [
    "# Please uncomment all lines in this cell and replace those marked with `# YOUR CODE HERE`.\n",
    "# You can select all lines in this code cell with Ctrl+A (Windows/Linux) or Cmd+A (Mac), then press Ctrl+/ (Windows/Linux) or Cmd+/ (Mac) to uncomment.\n",
    "\n",
    "\n",
    "\n",
    "history = model.fit(norm_train_X, train_Y,\n",
    "                    epochs = 180, validation_data=(norm_val_X, val_Y), verbose = 2)"
   ]
  },
  {
   "cell_type": "code",
   "execution_count": 67,
   "metadata": {
    "deletable": false,
    "editable": false,
    "nbgrader": {
     "cell_type": "code",
     "checksum": "fadad8896eda9c8c2115970724b15508",
     "grade": true,
     "grade_id": "cell-eb4d5b41bef8f0ab",
     "locked": true,
     "points": 1,
     "schema_version": 3,
     "solution": false,
     "task": false
    }
   },
   "outputs": [
    {
     "name": "stdout",
     "output_type": "stream",
     "text": [
      "\u001b[92m All public tests passed\n"
     ]
    }
   ],
   "source": [
    "utils.test_history(history)"
   ]
  },
  {
   "cell_type": "code",
   "execution_count": 68,
   "metadata": {
    "colab": {},
    "colab_type": "code",
    "id": "CubF2J2gSf6q"
   },
   "outputs": [
    {
     "name": "stdout",
     "output_type": "stream",
     "text": [
      "789/789 [==============================] - 0s 22us/sample - loss: 0.3463 - wine_quality_loss: 0.3153 - wine_type_loss: 0.0305 - wine_quality_root_mean_squared_error: 0.5616 - wine_type_accuracy: 0.9949\n",
      "\n",
      "loss: 0.34629212079996996\n",
      "wine_quality_loss: 0.3153306245803833\n",
      "wine_type_loss: 0.030512623488903046\n",
      "wine_quality_rmse: 0.5615673065185547\n",
      "wine_type_accuracy: 0.9949302673339844\n"
     ]
    }
   ],
   "source": [
    "# Gather the training metrics\n",
    "loss, wine_quality_loss, wine_type_loss, wine_quality_rmse, wine_type_accuracy = model.evaluate(x=norm_val_X, y=val_Y)\n",
    "\n",
    "print()\n",
    "print(f'loss: {loss}')\n",
    "print(f'wine_quality_loss: {wine_quality_loss}')\n",
    "print(f'wine_type_loss: {wine_type_loss}')\n",
    "print(f'wine_quality_rmse: {wine_quality_rmse}')\n",
    "print(f'wine_type_accuracy: {wine_type_accuracy}')\n",
    "\n",
    "# EXPECTED VALUES\n",
    "# ~ 0.30 - 0.38\n",
    "# ~ 0.30 - 0.38\n",
    "# ~ 0.018 - 0.030\n",
    "# ~ 0.50 - 0.62\n",
    "# ~ 0.97 - 1.0\n",
    "\n",
    "# Example:\n",
    "#0.3657050132751465\n",
    "#0.3463745415210724\n",
    "#0.019330406561493874\n",
    "#0.5885359048843384\n",
    "#0.9974651336669922"
   ]
  },
  {
   "cell_type": "markdown",
   "metadata": {
    "colab_type": "text",
    "id": "gPtTGAP4usnm"
   },
   "source": [
    "## Analyze the Model Performance\n",
    "\n",
    "Note that the model has two outputs. The output at index 0 is quality and index 1 is wine type\n",
    "\n",
    "So, round the quality predictions to the nearest integer."
   ]
  },
  {
   "cell_type": "code",
   "execution_count": 69,
   "metadata": {
    "colab": {},
    "colab_type": "code",
    "id": "tBq9PEeAaW-Y"
   },
   "outputs": [],
   "source": [
    "predictions = model.predict(norm_test_X)\n",
    "quality_pred = predictions[0]\n",
    "type_pred = predictions[1]"
   ]
  },
  {
   "cell_type": "code",
   "execution_count": 70,
   "metadata": {
    "colab": {},
    "colab_type": "code",
    "id": "YLhgTR4xTIxj"
   },
   "outputs": [
    {
     "name": "stdout",
     "output_type": "stream",
     "text": [
      "[5.6975713]\n"
     ]
    }
   ],
   "source": [
    "print(quality_pred[0])\n",
    "\n",
    "# EXPECTED OUTPUT\n",
    "# 5.6 - 6.0"
   ]
  },
  {
   "cell_type": "code",
   "execution_count": 71,
   "metadata": {
    "colab": {},
    "colab_type": "code",
    "id": "MPi-eYfGTUXi"
   },
   "outputs": [
    {
     "name": "stdout",
     "output_type": "stream",
     "text": [
      "[9.621844e-06]\n",
      "[1.]\n"
     ]
    }
   ],
   "source": [
    "print(type_pred[0])\n",
    "print(type_pred[944])\n",
    "\n",
    "# EXPECTED OUTPUT\n",
    "# A number close to zero\n",
    "# A number close to or equal to 1"
   ]
  },
  {
   "cell_type": "markdown",
   "metadata": {
    "colab_type": "text",
    "id": "Kohk-9C6vt_s"
   },
   "source": [
    "### Plot Utilities\n",
    "\n",
    "We define a few utilities to visualize the model performance."
   ]
  },
  {
   "cell_type": "code",
   "execution_count": 72,
   "metadata": {
    "colab": {},
    "colab_type": "code",
    "id": "62gEOFUhn6aQ"
   },
   "outputs": [],
   "source": [
    "def plot_metrics(metric_name, title, ylim=5):\n",
    "    plt.title(title)\n",
    "    plt.ylim(0,ylim)\n",
    "    plt.plot(history.history[metric_name],color='blue',label=metric_name)\n",
    "    plt.plot(history.history['val_' + metric_name],color='green',label='val_' + metric_name)\n"
   ]
  },
  {
   "cell_type": "code",
   "execution_count": 73,
   "metadata": {
    "colab": {},
    "colab_type": "code",
    "id": "6rfgSx7uz5dj"
   },
   "outputs": [],
   "source": [
    "def plot_confusion_matrix(y_true, y_pred, title='', labels=[0,1]):\n",
    "    cm = confusion_matrix(y_true, y_pred)\n",
    "    fig = plt.figure()\n",
    "    ax = fig.add_subplot(111)\n",
    "    cax = ax.matshow(cm)\n",
    "    plt.title('Confusion matrix of the classifier')\n",
    "    fig.colorbar(cax)\n",
    "    ax.set_xticklabels([''] + labels)\n",
    "    ax.set_yticklabels([''] + labels)\n",
    "    plt.xlabel('Predicted')\n",
    "    plt.ylabel('True')\n",
    "    fmt = 'd'\n",
    "    thresh = cm.max() / 2.\n",
    "    for i, j in itertools.product(range(cm.shape[0]), range(cm.shape[1])):\n",
    "          plt.text(j, i, format(cm[i, j], fmt),\n",
    "                  horizontalalignment=\"center\",\n",
    "                  color=\"black\" if cm[i, j] > thresh else \"white\")\n",
    "    plt.show()"
   ]
  },
  {
   "cell_type": "code",
   "execution_count": 74,
   "metadata": {
    "colab": {},
    "colab_type": "code",
    "id": "dfVLIqi017Vf"
   },
   "outputs": [],
   "source": [
    "def plot_diff(y_true, y_pred, title = '' ):\n",
    "    plt.scatter(y_true, y_pred)\n",
    "    plt.title(title)\n",
    "    plt.xlabel('True Values')\n",
    "    plt.ylabel('Predictions')\n",
    "    plt.axis('equal')\n",
    "    plt.axis('square')\n",
    "    plt.plot([-100, 100], [-100, 100])\n",
    "    return plt"
   ]
  },
  {
   "cell_type": "markdown",
   "metadata": {
    "colab_type": "text",
    "id": "8sd1jdFbwE0I"
   },
   "source": [
    "### Plots for Metrics"
   ]
  },
  {
   "cell_type": "code",
   "execution_count": 75,
   "metadata": {
    "colab": {},
    "colab_type": "code",
    "id": "f3MwZ5J1pOfj"
   },
   "outputs": [
    {
     "data": {
      "image/png": "[encoded data removed]",
      "text/plain": [
       "<Figure size 432x288 with 1 Axes>"
      ]
     },
     "metadata": {
      "needs_background": "light"
     },
     "output_type": "display_data"
    }
   ],
   "source": [
    "plot_metrics('wine_quality_root_mean_squared_error', 'RMSE', ylim=2)"
   ]
  },
  {
   "cell_type": "code",
   "execution_count": 76,
   "metadata": {
    "colab": {},
    "colab_type": "code",
    "id": "QIAxEezCppnd"
   },
   "outputs": [
    {
     "data": {
      "image/png": "[encoded data removed]",
      "text/plain": [
       "<Figure size 432x288 with 1 Axes>"
      ]
     },
     "metadata": {
      "needs_background": "light"
     },
     "output_type": "display_data"
    }
   ],
   "source": [
    "plot_metrics('wine_type_loss', 'Wine Type Loss', ylim=0.2)"
   ]
  },
  {
   "cell_type": "markdown",
   "metadata": {
    "colab_type": "text",
    "id": "uYV9AOAMwI9p"
   },
   "source": [
    "### Plots for Confusion Matrix\n",
    "\n",
    "Plot the confusion matrices for wine type. You can see that the model performs well for prediction of wine type from the confusion matrix and the loss metrics."
   ]
  },
  {
   "cell_type": "code",
   "execution_count": 77,
   "metadata": {
    "colab": {},
    "colab_type": "code",
    "id": "C3hvTYxIaf3n"
   },
   "outputs": [
    {
     "data": {
      "image/png": "[encoded data removed]",
      "text/plain": [
       "<Figure size 432x288 with 2 Axes>"
      ]
     },
     "metadata": {
      "needs_background": "light"
     },
     "output_type": "display_data"
    }
   ],
   "source": [
    "plot_confusion_matrix(test_Y[1], np.round(type_pred), title='Wine Type', labels = [0, 1])"
   ]
  },
  {
   "cell_type": "code",
   "execution_count": 78,
   "metadata": {
    "colab": {},
    "colab_type": "code",
    "id": "GW91ym8P2I5y"
   },
   "outputs": [
    {
     "data": {
      "image/png": "[encoded data removed]",
      "text/plain": [
       "<Figure size 432x288 with 1 Axes>"
      ]
     },
     "metadata": {
      "needs_background": "light"
     },
     "output_type": "display_data"
    }
   ],
   "source": [
    "scatter_plot = plot_diff(test_Y[0], quality_pred, title='Type')"
   ]
  }
 ],
 "metadata": {
  "colab": {
   "include_colab_link": true,
   "name": "exercise-answer.ipynb",
   "provenance": []
  },
  "kernelspec": {
   "display_name": "Python 3",
   "language": "python",
   "name": "python3"
  },
  "language_info": {
   "codemirror_mode": {
    "name": "ipython",
    "version": 3
   },
   "file_extension": ".py",
   "mimetype": "text/x-python",
   "name": "python",
   "nbconvert_exporter": "python",
   "pygments_lexer": "ipython3",
   "version": "3.7.6"
  }
 },
 "nbformat": 4,
 "nbformat_minor": 4
}
