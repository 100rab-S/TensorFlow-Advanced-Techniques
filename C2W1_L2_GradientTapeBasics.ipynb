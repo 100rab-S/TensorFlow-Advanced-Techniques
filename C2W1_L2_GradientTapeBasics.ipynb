{
  "nbformat": 4,
  "nbformat_minor": 0,
  "metadata": {
    "colab": {
      "name": "C2W1_L2_GradientTapeBasics.ipynb",
      "provenance": [],
      "include_colab_link": true
    },
    "kernelspec": {
      "display_name": "Python 3",
      "language": "python",
      "name": "python3"
    },
    "language_info": {
      "codemirror_mode": {
        "name": "ipython",
        "version": 3
      },
      "file_extension": ".py",
      "mimetype": "text/x-python",
      "name": "python",
      "nbconvert_exporter": "python",
      "pygments_lexer": "ipython3",
      "version": "3.7.6"
    }
  },
  "cells": [
    {
      "cell_type": "markdown",
      "metadata": {
        "id": "view-in-github",
        "colab_type": "text"
      },
      "source": [
        "<a href=\"https://colab.research.google.com/github/100rab-S/TensorFlow-Advanced-Techniques/blob/main/C2W1_L2_GradientTapeBasics.ipynb\" target=\"_parent\"><img src=\"https://colab.research.google.com/assets/colab-badge.svg\" alt=\"Open In Colab\"/></a>"
      ]
    },
    {
      "cell_type": "markdown",
      "metadata": {
        "id": "Sx6gxuDG-p6U"
      },
      "source": [
        "# Gradient Tape Basics\n",
        "\n",
        "In this ungraded lab, you'll get familiar with Tensorflow's built in API called Gradient Tape which helps in performing automatic differentiation."
      ]
    },
    {
      "cell_type": "markdown",
      "metadata": {
        "id": "wzO7s8xg-p6u"
      },
      "source": [
        "## Imports"
      ]
    },
    {
      "cell_type": "code",
      "metadata": {
        "id": "uQe_MWjNPQkR"
      },
      "source": [
        "import tensorflow as tf"
      ],
      "execution_count": 1,
      "outputs": []
    },
    {
      "cell_type": "markdown",
      "metadata": {
        "id": "ko6VpGpX-p6y"
      },
      "source": [
        "## Exercise on basics of Gradient Tape\n",
        "\n",
        "Let's explore how you can use [tf.GradientTape()](https://www.tensorflow.org/api_docs/python/tf/GradientTape) to do automatic differentiation."
      ]
    },
    {
      "cell_type": "code",
      "metadata": {
        "colab": {
          "base_uri": "https://localhost:8080/",
          "height": 69
        },
        "id": "57Vnn9iIPNh9",
        "outputId": "543fce75-1adc-447c-b70b-872e8f8c9841"
      },
      "source": [
        "# Define a 2x2 array of 1's\n",
        "x = tf.ones((2,2))\n",
        "\n",
        "with tf.GradientTape() as t:\n",
        "    # Record the actions performed on tensor x with `watch`\n",
        "    t.watch(x) \n",
        "\n",
        "    # Define y as the sum of the elements in x\n",
        "    y =  tf.reduce_sum(x)\n",
        "\n",
        "    # Let z be the square of y\n",
        "    z = tf.square(y) \n",
        "\n",
        "# Get the derivative of z wrt the original input tensor x\n",
        "dz_dx = t.gradient(z, x)\n",
        "\n",
        "# Print our result\n",
        "print(dz_dx)"
      ],
      "execution_count": null,
      "outputs": [
        {
          "output_type": "stream",
          "text": [
            "tf.Tensor(\n",
            "[[8. 8.]\n",
            " [8. 8.]], shape=(2, 2), dtype=float32)\n"
          ],
          "name": "stdout"
        }
      ]
    },
    {
      "cell_type": "markdown",
      "metadata": {
        "id": "S94ld4H3-p64"
      },
      "source": [
        "### Gradient tape expires after one use, by default\n",
        "\n",
        "If you want to compute multiple gradients, note that by default, GradientTape is not persistent (`persistent=False`).  This means that the GradientTape will expire after you use it to calculate a gradient.\n",
        "\n",
        "To see this, set up gradient tape as usual and calculate a gradient, so that the gradient tape will be 'expired'."
      ]
    },
    {
      "cell_type": "code",
      "metadata": {
        "id": "fCCR_sRy-p66",
        "colab": {
          "base_uri": "https://localhost:8080/"
        },
        "outputId": "57ff3560-9e27-43c5-8db5-ed0d437b59be"
      },
      "source": [
        "x = tf.constant(3.0)\n",
        "\n",
        "# Notice that persistent is False by default\n",
        "with tf.GradientTape() as t:\n",
        "    t.watch(x)\n",
        "    \n",
        "    # y = x^2\n",
        "    y = x * x\n",
        "    \n",
        "    # z = y^2\n",
        "    z = y * y\n",
        "\n",
        "# Compute dz/dx. 4 * x^3 at x = 3 --> 108.0\n",
        "dz_dx = t.gradient(z, x)\n",
        "print(dz_dx)"
      ],
      "execution_count": 4,
      "outputs": [
        {
          "output_type": "stream",
          "text": [
            "tf.Tensor(108.0, shape=(), dtype=float32)\n"
          ],
          "name": "stdout"
        }
      ]
    },
    {
      "cell_type": "markdown",
      "metadata": {
        "id": "ksr7lfK1-p67"
      },
      "source": [
        "#### Gradient tape has expired\n",
        "\n",
        "See what happens if you try to calculate another gradient after you've already used gradient tape once."
      ]
    },
    {
      "cell_type": "code",
      "metadata": {
        "id": "QaNq3bZ6-p68",
        "outputId": "f4a9e431-7afa-43f6-add4-7843fa95bb40"
      },
      "source": [
        "# If you try to compute dy/dx after the gradient tape has expired:\n",
        "try:\n",
        "    dy_dx = t.gradient(y, x)  # 6.0\n",
        "    print(dy_dx)\n",
        "except RuntimeError as e:\n",
        "    print(\"The error message you get is:\")\n",
        "    print(e)"
      ],
      "execution_count": null,
      "outputs": [
        {
          "output_type": "stream",
          "text": [
            "The error message you get is:\n",
            "GradientTape.gradient can only be called once on non-persistent tapes.\n"
          ],
          "name": "stdout"
        }
      ]
    },
    {
      "cell_type": "markdown",
      "metadata": {
        "id": "5zOGpUJY-p6_"
      },
      "source": [
        "### Make the gradient tape persistent\n",
        "To make sure that the gradient tape can be used multiple times, set `persistent=True` "
      ]
    },
    {
      "cell_type": "code",
      "metadata": {
        "colab": {
          "base_uri": "https://localhost:8080/",
          "height": 52
        },
        "id": "P12ExatAPqn6",
        "outputId": "65d8c2ca-b49d-4b91-d2d5-97153daf5d19"
      },
      "source": [
        "x = tf.constant(3.0)\n",
        "\n",
        "# Set persistent=True so that you can reuse the tape\n",
        "with tf.GradientTape(persistent=True) as t:\n",
        "    t.watch(x)\n",
        "    \n",
        "    # y = x^2\n",
        "    y = x * x\n",
        "    \n",
        "    # z = y^2\n",
        "    z = y * y\n",
        "\n",
        "# Compute dz/dx. 4 * x^3 at x = 3 --> 108.0\n",
        "dz_dx = t.gradient(z, x)\n",
        "print(dz_dx)"
      ],
      "execution_count": null,
      "outputs": [
        {
          "output_type": "stream",
          "text": [
            "tf.Tensor(108.0, shape=(), dtype=float32)\n"
          ],
          "name": "stdout"
        }
      ]
    },
    {
      "cell_type": "markdown",
      "metadata": {
        "id": "ueeill1v-p7B"
      },
      "source": [
        "#### Now that it's persistent, you can still reuse this tape!\n",
        "\n",
        "Try calculating a second gradient on this persistent tape."
      ]
    },
    {
      "cell_type": "code",
      "metadata": {
        "id": "en7aoE5X-p7C",
        "outputId": "6af4a11d-9114-4836-e76a-2e3e1ede3dab"
      },
      "source": [
        "# You can still compute dy/dx because of the persistent flag.\n",
        "dy_dx = t.gradient(y, x)  # 6.0\n",
        "print(dy_dx)"
      ],
      "execution_count": null,
      "outputs": [
        {
          "output_type": "stream",
          "text": [
            "tf.Tensor(6.0, shape=(), dtype=float32)\n"
          ],
          "name": "stdout"
        }
      ]
    },
    {
      "cell_type": "markdown",
      "metadata": {
        "id": "3Cyruqrh-p7D"
      },
      "source": [
        "Great! It still works!  Delete the tape variable `t` once you no longer need it."
      ]
    },
    {
      "cell_type": "code",
      "metadata": {
        "id": "RKRQob6f-p7E"
      },
      "source": [
        "# Drop the reference to the tape\n",
        "del t  "
      ],
      "execution_count": null,
      "outputs": []
    },
    {
      "cell_type": "markdown",
      "metadata": {
        "id": "GR60S_mL-p7F"
      },
      "source": [
        "### Nested Gradient tapes\n",
        "Now let's try computing a higher order derivative by nesting the `GradientTapes:`\n",
        "\n",
        "#### Acceptable indentation of the first gradient calculation\n",
        "Keep in mind that you'll want to make sure that the first gradient calculation of `dy_dx` should occur at least inside the outer `with` block."
      ]
    },
    {
      "cell_type": "code",
      "metadata": {
        "colab": {
          "base_uri": "https://localhost:8080/",
          "height": 52
        },
        "id": "UxNLeFLlP4qU",
        "outputId": "5f96770a-f0a3-47e5-dd8d-3e0b3074deeb"
      },
      "source": [
        "x = tf.Variable(1.0)\n",
        "\n",
        "with tf.GradientTape() as tape_2:\n",
        "    with tf.GradientTape() as tape_1:\n",
        "        y = x * x * x\n",
        "    \n",
        "    # The first gradient calculation should occur at leaset\n",
        "    # within the outer with block\n",
        "    dy_dx = tape_1.gradient(y, x)\n",
        "d2y_dx2 = tape_2.gradient(dy_dx, x)\n",
        "\n",
        "print(dy_dx)\n",
        "print(d2y_dx2)"
      ],
      "execution_count": null,
      "outputs": [
        {
          "output_type": "stream",
          "text": [
            "tf.Tensor(3.0, shape=(), dtype=float32)\n",
            "tf.Tensor(6.0, shape=(), dtype=float32)\n"
          ],
          "name": "stdout"
        }
      ]
    },
    {
      "cell_type": "markdown",
      "metadata": {
        "id": "jeYW7cT_-p7J"
      },
      "source": [
        "The first gradient calculation can also be inside the inner with block."
      ]
    },
    {
      "cell_type": "code",
      "metadata": {
        "id": "kenlZmXA-p7K",
        "outputId": "1db2a1fe-b3b6-4284-e44f-5dc2d495e558"
      },
      "source": [
        "x = tf.Variable(1.0)\n",
        "\n",
        "with tf.GradientTape() as tape_2:\n",
        "    with tf.GradientTape() as tape_1:\n",
        "        y = x * x * x\n",
        "    \n",
        "        # The first gradient calculation can also be within the inner with block\n",
        "        dy_dx = tape_1.gradient(y, x)\n",
        "d2y_dx2 = tape_2.gradient(dy_dx, x)\n",
        "\n",
        "print(dy_dx)\n",
        "print(d2y_dx2)"
      ],
      "execution_count": null,
      "outputs": [
        {
          "output_type": "stream",
          "text": [
            "tf.Tensor(3.0, shape=(), dtype=float32)\n",
            "tf.Tensor(6.0, shape=(), dtype=float32)\n"
          ],
          "name": "stdout"
        }
      ]
    },
    {
      "cell_type": "markdown",
      "metadata": {
        "id": "pSB9z85Z-p7L"
      },
      "source": [
        "#### Where not to indent the first gradient calculation\n",
        "If the first gradient calculation is OUTSIDE of the outer `with` block, it won't persist for the second gradient calculation."
      ]
    },
    {
      "cell_type": "code",
      "metadata": {
        "id": "y82FZeAI-p7M",
        "outputId": "4ae2aeba-ab80-4b52-8b50-6cf2219bea55"
      },
      "source": [
        "x = tf.Variable(1.0)\n",
        "\n",
        "with tf.GradientTape() as tape_2:\n",
        "    with tf.GradientTape() as tape_1:\n",
        "        y = x * x * x\n",
        "\n",
        "# The first gradient call is outside the outer with block\n",
        "# so the tape will expire after this\n",
        "dy_dx = tape_1.gradient(y, x)\n",
        "\n",
        "# The tape is now expired and the gradient output will be `None`\n",
        "d2y_dx2 = tape_2.gradient(dy_dx, x)\n",
        "\n",
        "print(dy_dx)\n",
        "print(d2y_dx2)"
      ],
      "execution_count": null,
      "outputs": [
        {
          "output_type": "stream",
          "text": [
            "tf.Tensor(3.0, shape=(), dtype=float32)\n",
            "None\n"
          ],
          "name": "stdout"
        }
      ]
    },
    {
      "cell_type": "markdown",
      "metadata": {
        "id": "SylXo_F--p7N"
      },
      "source": [
        "Notice how the `d2y_dx2` calculation is now `None`.  The tape has expired.  Also note that this still won't work even if you set persistent=True for both gradient tapes."
      ]
    },
    {
      "cell_type": "code",
      "metadata": {
        "id": "20fv_VcD-p7O",
        "outputId": "245302a4-be5c-4a90-f49e-7a224ccb6f2b"
      },
      "source": [
        "x = tf.Variable(1.0)\n",
        "\n",
        "# Setting persistent=True still won't work\n",
        "with tf.GradientTape(persistent=True) as tape_2:\n",
        "    # Setting persistent=True still won't work\n",
        "    with tf.GradientTape(persistent=True) as tape_1:\n",
        "        y = x * x * x\n",
        "\n",
        "# The first gradient call is outside the outer with block\n",
        "# so the tape will expire after this\n",
        "dy_dx = tape_1.gradient(y, x)\n",
        "\n",
        "# the output will be `None`\n",
        "d2y_dx2 = tape_2.gradient(dy_dx, x)\n",
        "\n",
        "print(dy_dx)\n",
        "print(d2y_dx2)"
      ],
      "execution_count": null,
      "outputs": [
        {
          "output_type": "stream",
          "text": [
            "tf.Tensor(3.0, shape=(), dtype=float32)\n",
            "None\n"
          ],
          "name": "stdout"
        }
      ]
    },
    {
      "cell_type": "markdown",
      "metadata": {
        "id": "fgd9LWO--p7R"
      },
      "source": [
        "### Proper indentation for the second gradient calculation\n",
        "\n",
        "The second gradient calculation `d2y_dx2` can be indented as much as the first calculation of `dy_dx` but not more."
      ]
    },
    {
      "cell_type": "code",
      "metadata": {
        "id": "XGZjBhGj-p7S",
        "outputId": "a005d612-723f-43fa-c9e2-b243d16f8a19"
      },
      "source": [
        "x = tf.Variable(1.0)\n",
        "\n",
        "with tf.GradientTape() as tape_2:\n",
        "    with tf.GradientTape() as tape_1:\n",
        "        y = x * x * x\n",
        "\n",
        "        dy_dx = tape_1.gradient(y, x)\n",
        "        \n",
        "        # this is acceptable\n",
        "        d2y_dx2 = tape_2.gradient(dy_dx, x)\n",
        "\n",
        "print(dy_dx)\n",
        "print(d2y_dx2)"
      ],
      "execution_count": null,
      "outputs": [
        {
          "output_type": "stream",
          "text": [
            "tf.Tensor(3.0, shape=(), dtype=float32)\n",
            "tf.Tensor(6.0, shape=(), dtype=float32)\n"
          ],
          "name": "stdout"
        }
      ]
    },
    {
      "cell_type": "markdown",
      "metadata": {
        "id": "S1bLKrl--p7X"
      },
      "source": [
        "This is also acceptable"
      ]
    },
    {
      "cell_type": "code",
      "metadata": {
        "id": "OwcZTzDr-p7a",
        "outputId": "bf72df5e-209d-4197-a7d9-22a094903219"
      },
      "source": [
        "x = tf.Variable(1.0)\n",
        "\n",
        "with tf.GradientTape() as tape_2:\n",
        "    with tf.GradientTape() as tape_1:\n",
        "        y = x * x * x\n",
        "\n",
        "        dy_dx = tape_1.gradient(y, x)\n",
        "        \n",
        "    # this is also acceptable\n",
        "    d2y_dx2 = tape_2.gradient(dy_dx, x)\n",
        "\n",
        "print(dy_dx)\n",
        "print(d2y_dx2)"
      ],
      "execution_count": null,
      "outputs": [
        {
          "output_type": "stream",
          "text": [
            "tf.Tensor(3.0, shape=(), dtype=float32)\n",
            "tf.Tensor(6.0, shape=(), dtype=float32)\n"
          ],
          "name": "stdout"
        }
      ]
    },
    {
      "cell_type": "markdown",
      "metadata": {
        "id": "pTN8hJuL-p7b"
      },
      "source": [
        "This is also acceptable"
      ]
    },
    {
      "cell_type": "code",
      "metadata": {
        "id": "THZ66YA2-p7b",
        "outputId": "f1ba4f2f-4024-4911-8aac-6e9e95657677"
      },
      "source": [
        "x = tf.Variable(1.0)\n",
        "\n",
        "with tf.GradientTape() as tape_2:\n",
        "    with tf.GradientTape() as tape_1:\n",
        "        y = x * x * x\n",
        "\n",
        "        dy_dx = tape_1.gradient(y, x)\n",
        "        \n",
        "# this is also acceptable\n",
        "d2y_dx2 = tape_2.gradient(dy_dx, x)\n",
        "\n",
        "print(dy_dx)\n",
        "print(d2y_dx2)"
      ],
      "execution_count": null,
      "outputs": [
        {
          "output_type": "stream",
          "text": [
            "tf.Tensor(3.0, shape=(), dtype=float32)\n",
            "tf.Tensor(6.0, shape=(), dtype=float32)\n"
          ],
          "name": "stdout"
        }
      ]
    }
  ]
}